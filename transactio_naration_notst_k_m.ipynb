{
  "metadata": {
    "kernelspec": {
      "language": "python",
      "display_name": "Python 3",
      "name": "python3"
    },
    "language_info": {
      "name": "python",
      "version": "3.10.10",
      "mimetype": "text/x-python",
      "codemirror_mode": {
        "name": "ipython",
        "version": 3
      },
      "pygments_lexer": "ipython3",
      "nbconvert_exporter": "python",
      "file_extension": ".py"
    },
    "colab": {
      "provenance": []
    }
  },
  "nbformat_minor": 0,
  "nbformat": 4,
  "cells": [
    {
      "cell_type": "code",
      "source": [
        "from google.colab import drive\n",
        "drive.mount('/content/drive')"
      ],
      "metadata": {
        "_uuid": "8f2839f25d086af736a60e9eeb907d3b93b6e0e5",
        "_cell_guid": "b1076dfc-b9ad-4769-8c92-a6c4dae69d19",
        "execution": {
          "iopub.status.busy": "2023-05-27T14:18:56.407694Z",
          "iopub.execute_input": "2023-05-27T14:18:56.408536Z",
          "iopub.status.idle": "2023-05-27T14:18:56.424357Z",
          "shell.execute_reply.started": "2023-05-27T14:18:56.408505Z",
          "shell.execute_reply": "2023-05-27T14:18:56.423626Z"
        },
        "trusted": true,
        "colab": {
          "base_uri": "https://localhost:8080/"
        },
        "id": "6lXZ_lfPGwBg",
        "outputId": "3c8635dc-ccbf-40f6-fc39-e46d7ddf4a72"
      },
      "execution_count": 1,
      "outputs": [
        {
          "output_type": "stream",
          "name": "stdout",
          "text": [
            "Mounted at /content/drive\n"
          ]
        }
      ]
    },
    {
      "cell_type": "code",
      "source": [
        "import pandas as pd\n",
        "import numpy as np"
      ],
      "metadata": {
        "id": "UX7_Nk91HMTq"
      },
      "execution_count": 6,
      "outputs": []
    },
    {
      "cell_type": "code",
      "source": [
        "data=pd.read_csv('/content/drive/MyDrive/ml_data/Transaction_Naration_Data_Set.csv')\n",
        "data.head()"
      ],
      "metadata": {
        "execution": {
          "iopub.status.busy": "2023-05-27T14:19:00.348325Z",
          "iopub.execute_input": "2023-05-27T14:19:00.349001Z",
          "iopub.status.idle": "2023-05-27T14:19:19.393636Z",
          "shell.execute_reply.started": "2023-05-27T14:19:00.348959Z",
          "shell.execute_reply": "2023-05-27T14:19:19.392023Z"
        },
        "trusted": true,
        "colab": {
          "base_uri": "https://localhost:8080/",
          "height": 206
        },
        "id": "_kExSqsNGwBj",
        "outputId": "787e80ec-1875-4c6a-fa51-45009b6f3861"
      },
      "execution_count": 7,
      "outputs": [
        {
          "output_type": "execute_result",
          "data": {
            "text/plain": [
              "   Unnamed: 0    AC_ID    AMOUNT   DOC_DATE  \\\n",
              "0           0  3644877  342800.0  01-NOV-22   \n",
              "1           1  1175256  342800.0  01-NOV-22   \n",
              "2           2  2298226    1500.0  01-NOV-22   \n",
              "3           3  4066427    1500.0  01-NOV-22   \n",
              "4           4  1978564    2550.0  01-NOV-22   \n",
              "\n",
              "                                            NARATION   DR_CR  \n",
              "0                                      Cash Withdraw   Debit  \n",
              "1                     Cash Withdrawal From A/C No.:   Credit  \n",
              "2   Cash withdraw from Micro Merchant point, MM A/C    Debit  \n",
              "3  Credit Against Merchant Cash Withdraw Service ...  Credit  \n",
              "4   Cash withdraw from Micro Merchant point, MM A/C    Debit  "
            ],
            "text/html": [
              "\n",
              "  <div id=\"df-d75b357c-9004-434f-be9a-bd6daf20ac1a\">\n",
              "    <div class=\"colab-df-container\">\n",
              "      <div>\n",
              "<style scoped>\n",
              "    .dataframe tbody tr th:only-of-type {\n",
              "        vertical-align: middle;\n",
              "    }\n",
              "\n",
              "    .dataframe tbody tr th {\n",
              "        vertical-align: top;\n",
              "    }\n",
              "\n",
              "    .dataframe thead th {\n",
              "        text-align: right;\n",
              "    }\n",
              "</style>\n",
              "<table border=\"1\" class=\"dataframe\">\n",
              "  <thead>\n",
              "    <tr style=\"text-align: right;\">\n",
              "      <th></th>\n",
              "      <th>Unnamed: 0</th>\n",
              "      <th>AC_ID</th>\n",
              "      <th>AMOUNT</th>\n",
              "      <th>DOC_DATE</th>\n",
              "      <th>NARATION</th>\n",
              "      <th>DR_CR</th>\n",
              "    </tr>\n",
              "  </thead>\n",
              "  <tbody>\n",
              "    <tr>\n",
              "      <th>0</th>\n",
              "      <td>0</td>\n",
              "      <td>3644877</td>\n",
              "      <td>342800.0</td>\n",
              "      <td>01-NOV-22</td>\n",
              "      <td>Cash Withdraw</td>\n",
              "      <td>Debit</td>\n",
              "    </tr>\n",
              "    <tr>\n",
              "      <th>1</th>\n",
              "      <td>1</td>\n",
              "      <td>1175256</td>\n",
              "      <td>342800.0</td>\n",
              "      <td>01-NOV-22</td>\n",
              "      <td>Cash Withdrawal From A/C No.:</td>\n",
              "      <td>Credit</td>\n",
              "    </tr>\n",
              "    <tr>\n",
              "      <th>2</th>\n",
              "      <td>2</td>\n",
              "      <td>2298226</td>\n",
              "      <td>1500.0</td>\n",
              "      <td>01-NOV-22</td>\n",
              "      <td>Cash withdraw from Micro Merchant point, MM A/C</td>\n",
              "      <td>Debit</td>\n",
              "    </tr>\n",
              "    <tr>\n",
              "      <th>3</th>\n",
              "      <td>3</td>\n",
              "      <td>4066427</td>\n",
              "      <td>1500.0</td>\n",
              "      <td>01-NOV-22</td>\n",
              "      <td>Credit Against Merchant Cash Withdraw Service ...</td>\n",
              "      <td>Credit</td>\n",
              "    </tr>\n",
              "    <tr>\n",
              "      <th>4</th>\n",
              "      <td>4</td>\n",
              "      <td>1978564</td>\n",
              "      <td>2550.0</td>\n",
              "      <td>01-NOV-22</td>\n",
              "      <td>Cash withdraw from Micro Merchant point, MM A/C</td>\n",
              "      <td>Debit</td>\n",
              "    </tr>\n",
              "  </tbody>\n",
              "</table>\n",
              "</div>\n",
              "      <button class=\"colab-df-convert\" onclick=\"convertToInteractive('df-d75b357c-9004-434f-be9a-bd6daf20ac1a')\"\n",
              "              title=\"Convert this dataframe to an interactive table.\"\n",
              "              style=\"display:none;\">\n",
              "        \n",
              "  <svg xmlns=\"http://www.w3.org/2000/svg\" height=\"24px\"viewBox=\"0 0 24 24\"\n",
              "       width=\"24px\">\n",
              "    <path d=\"M0 0h24v24H0V0z\" fill=\"none\"/>\n",
              "    <path d=\"M18.56 5.44l.94 2.06.94-2.06 2.06-.94-2.06-.94-.94-2.06-.94 2.06-2.06.94zm-11 1L8.5 8.5l.94-2.06 2.06-.94-2.06-.94L8.5 2.5l-.94 2.06-2.06.94zm10 10l.94 2.06.94-2.06 2.06-.94-2.06-.94-.94-2.06-.94 2.06-2.06.94z\"/><path d=\"M17.41 7.96l-1.37-1.37c-.4-.4-.92-.59-1.43-.59-.52 0-1.04.2-1.43.59L10.3 9.45l-7.72 7.72c-.78.78-.78 2.05 0 2.83L4 21.41c.39.39.9.59 1.41.59.51 0 1.02-.2 1.41-.59l7.78-7.78 2.81-2.81c.8-.78.8-2.07 0-2.86zM5.41 20L4 18.59l7.72-7.72 1.47 1.35L5.41 20z\"/>\n",
              "  </svg>\n",
              "      </button>\n",
              "      \n",
              "  <style>\n",
              "    .colab-df-container {\n",
              "      display:flex;\n",
              "      flex-wrap:wrap;\n",
              "      gap: 12px;\n",
              "    }\n",
              "\n",
              "    .colab-df-convert {\n",
              "      background-color: #E8F0FE;\n",
              "      border: none;\n",
              "      border-radius: 50%;\n",
              "      cursor: pointer;\n",
              "      display: none;\n",
              "      fill: #1967D2;\n",
              "      height: 32px;\n",
              "      padding: 0 0 0 0;\n",
              "      width: 32px;\n",
              "    }\n",
              "\n",
              "    .colab-df-convert:hover {\n",
              "      background-color: #E2EBFA;\n",
              "      box-shadow: 0px 1px 2px rgba(60, 64, 67, 0.3), 0px 1px 3px 1px rgba(60, 64, 67, 0.15);\n",
              "      fill: #174EA6;\n",
              "    }\n",
              "\n",
              "    [theme=dark] .colab-df-convert {\n",
              "      background-color: #3B4455;\n",
              "      fill: #D2E3FC;\n",
              "    }\n",
              "\n",
              "    [theme=dark] .colab-df-convert:hover {\n",
              "      background-color: #434B5C;\n",
              "      box-shadow: 0px 1px 3px 1px rgba(0, 0, 0, 0.15);\n",
              "      filter: drop-shadow(0px 1px 2px rgba(0, 0, 0, 0.3));\n",
              "      fill: #FFFFFF;\n",
              "    }\n",
              "  </style>\n",
              "\n",
              "      <script>\n",
              "        const buttonEl =\n",
              "          document.querySelector('#df-d75b357c-9004-434f-be9a-bd6daf20ac1a button.colab-df-convert');\n",
              "        buttonEl.style.display =\n",
              "          google.colab.kernel.accessAllowed ? 'block' : 'none';\n",
              "\n",
              "        async function convertToInteractive(key) {\n",
              "          const element = document.querySelector('#df-d75b357c-9004-434f-be9a-bd6daf20ac1a');\n",
              "          const dataTable =\n",
              "            await google.colab.kernel.invokeFunction('convertToInteractive',\n",
              "                                                     [key], {});\n",
              "          if (!dataTable) return;\n",
              "\n",
              "          const docLinkHtml = 'Like what you see? Visit the ' +\n",
              "            '<a target=\"_blank\" href=https://colab.research.google.com/notebooks/data_table.ipynb>data table notebook</a>'\n",
              "            + ' to learn more about interactive tables.';\n",
              "          element.innerHTML = '';\n",
              "          dataTable['output_type'] = 'display_data';\n",
              "          await google.colab.output.renderOutput(dataTable, element);\n",
              "          const docLink = document.createElement('div');\n",
              "          docLink.innerHTML = docLinkHtml;\n",
              "          element.appendChild(docLink);\n",
              "        }\n",
              "      </script>\n",
              "    </div>\n",
              "  </div>\n",
              "  "
            ]
          },
          "metadata": {},
          "execution_count": 7
        }
      ]
    },
    {
      "cell_type": "code",
      "source": [
        "cols=['NARATION']\n",
        "duplicates = data.duplicated(subset=cols,keep=False)\n",
        "print(duplicates)"
      ],
      "metadata": {
        "execution": {
          "iopub.status.busy": "2023-05-27T14:19:24.006159Z",
          "iopub.execute_input": "2023-05-27T14:19:24.007413Z",
          "iopub.status.idle": "2023-05-27T14:19:25.167944Z",
          "shell.execute_reply.started": "2023-05-27T14:19:24.007360Z",
          "shell.execute_reply": "2023-05-27T14:19:25.166723Z"
        },
        "trusted": true,
        "colab": {
          "base_uri": "https://localhost:8080/"
        },
        "id": "9CninmrnGwBk",
        "outputId": "62d06fc1-7851-41da-fb7e-ebf66a1060bd"
      },
      "execution_count": 8,
      "outputs": [
        {
          "output_type": "stream",
          "name": "stdout",
          "text": [
            "0           True\n",
            "1           True\n",
            "2           True\n",
            "3           True\n",
            "4           True\n",
            "            ... \n",
            "22546753    True\n",
            "22546754    True\n",
            "22546755    True\n",
            "22546756    True\n",
            "22546757    True\n",
            "Length: 22546758, dtype: bool\n"
          ]
        }
      ]
    },
    {
      "cell_type": "code",
      "source": [
        "print(\"Number of duplicates:\", duplicates.sum())"
      ],
      "metadata": {
        "trusted": true,
        "id": "svV94wjDGwBk"
      },
      "execution_count": null,
      "outputs": []
    },
    {
      "cell_type": "code",
      "source": [
        "data.info()"
      ],
      "metadata": {
        "execution": {
          "iopub.status.busy": "2023-05-27T15:47:24.562657Z",
          "iopub.execute_input": "2023-05-27T15:47:24.563017Z",
          "iopub.status.idle": "2023-05-27T15:47:24.577566Z",
          "shell.execute_reply.started": "2023-05-27T15:47:24.562990Z",
          "shell.execute_reply": "2023-05-27T15:47:24.576277Z"
        },
        "trusted": true,
        "colab": {
          "base_uri": "https://localhost:8080/"
        },
        "id": "TEYes_UtGwBk",
        "outputId": "df338b75-eec5-4c84-c700-d90f4fd25cab"
      },
      "execution_count": null,
      "outputs": [
        {
          "output_type": "stream",
          "name": "stdout",
          "text": [
            "<class 'pandas.core.frame.DataFrame'>\n",
            "RangeIndex: 22546758 entries, 0 to 22546757\n",
            "Data columns (total 6 columns):\n",
            " #   Column      Dtype  \n",
            "---  ------      -----  \n",
            " 0   Unnamed: 0  int64  \n",
            " 1   AC_ID       int64  \n",
            " 2   AMOUNT      float64\n",
            " 3   DOC_DATE    object \n",
            " 4   NARATION    object \n",
            " 5   DR_CR       object \n",
            "dtypes: float64(1), int64(2), object(3)\n",
            "memory usage: 1.0+ GB\n"
          ]
        }
      ]
    },
    {
      "cell_type": "code",
      "source": [
        "\n",
        "sub_data = data.drop_duplicates(subset=cols)\n",
        "sub_data.info()\n",
        "# sub_data.isnull().sum()"
      ],
      "metadata": {
        "execution": {
          "iopub.status.busy": "2023-05-27T15:47:29.062738Z",
          "iopub.execute_input": "2023-05-27T15:47:29.063138Z",
          "iopub.status.idle": "2023-05-27T15:47:30.380662Z",
          "shell.execute_reply.started": "2023-05-27T15:47:29.063107Z",
          "shell.execute_reply": "2023-05-27T15:47:30.379133Z"
        },
        "trusted": true,
        "colab": {
          "base_uri": "https://localhost:8080/"
        },
        "id": "jm_QSCT0GwBl",
        "outputId": "347a94a2-c56d-45d1-9386-9d9820613eeb"
      },
      "execution_count": 9,
      "outputs": [
        {
          "output_type": "stream",
          "name": "stdout",
          "text": [
            "<class 'pandas.core.frame.DataFrame'>\n",
            "Int64Index: 128604 entries, 0 to 22544595\n",
            "Data columns (total 6 columns):\n",
            " #   Column      Non-Null Count   Dtype  \n",
            "---  ------      --------------   -----  \n",
            " 0   Unnamed: 0  128604 non-null  int64  \n",
            " 1   AC_ID       128604 non-null  int64  \n",
            " 2   AMOUNT      128604 non-null  float64\n",
            " 3   DOC_DATE    128604 non-null  object \n",
            " 4   NARATION    128603 non-null  object \n",
            " 5   DR_CR       128604 non-null  object \n",
            "dtypes: float64(1), int64(2), object(3)\n",
            "memory usage: 6.9+ MB\n"
          ]
        }
      ]
    },
    {
      "cell_type": "code",
      "source": [
        "sub_data.isnull().sum()"
      ],
      "metadata": {
        "trusted": true,
        "colab": {
          "base_uri": "https://localhost:8080/"
        },
        "id": "0Um7z_AzGwBl",
        "outputId": "ae7f9bd5-76a5-45ed-fd13-729b7a9155da"
      },
      "execution_count": 6,
      "outputs": [
        {
          "output_type": "execute_result",
          "data": {
            "text/plain": [
              "Unnamed: 0    0\n",
              "AC_ID         0\n",
              "AMOUNT        0\n",
              "DOC_DATE      0\n",
              "NARATION      1\n",
              "DR_CR         0\n",
              "dtype: int64"
            ]
          },
          "metadata": {},
          "execution_count": 6
        }
      ]
    },
    {
      "cell_type": "code",
      "source": [
        "sub_data.dropna(subset=['NARATION'],inplace=True)\n",
        "sub_data.isnull().sum()\n",
        "sub_data.info()"
      ],
      "metadata": {
        "execution": {
          "iopub.status.busy": "2023-05-27T15:47:34.564764Z",
          "iopub.execute_input": "2023-05-27T15:47:34.565134Z",
          "iopub.status.idle": "2023-05-27T15:47:34.735651Z",
          "shell.execute_reply.started": "2023-05-27T15:47:34.565107Z",
          "shell.execute_reply": "2023-05-27T15:47:34.734640Z"
        },
        "trusted": true,
        "colab": {
          "base_uri": "https://localhost:8080/"
        },
        "id": "Q58wxphXGwBl",
        "outputId": "06fe7559-3f2f-4da5-840a-7ae0c2ed1df3"
      },
      "execution_count": 10,
      "outputs": [
        {
          "output_type": "stream",
          "name": "stdout",
          "text": [
            "<class 'pandas.core.frame.DataFrame'>\n",
            "Int64Index: 128603 entries, 0 to 22544595\n",
            "Data columns (total 6 columns):\n",
            " #   Column      Non-Null Count   Dtype  \n",
            "---  ------      --------------   -----  \n",
            " 0   Unnamed: 0  128603 non-null  int64  \n",
            " 1   AC_ID       128603 non-null  int64  \n",
            " 2   AMOUNT      128603 non-null  float64\n",
            " 3   DOC_DATE    128603 non-null  object \n",
            " 4   NARATION    128603 non-null  object \n",
            " 5   DR_CR       128603 non-null  object \n",
            "dtypes: float64(1), int64(2), object(3)\n",
            "memory usage: 6.9+ MB\n"
          ]
        },
        {
          "output_type": "stream",
          "name": "stderr",
          "text": [
            "<ipython-input-10-4bbea3cc1cd4>:1: SettingWithCopyWarning: \n",
            "A value is trying to be set on a copy of a slice from a DataFrame\n",
            "\n",
            "See the caveats in the documentation: https://pandas.pydata.org/pandas-docs/stable/user_guide/indexing.html#returning-a-view-versus-a-copy\n",
            "  sub_data.dropna(subset=['NARATION'],inplace=True)\n"
          ]
        }
      ]
    },
    {
      "cell_type": "code",
      "source": [
        "narations=sub_data[['NARATION','AC_ID']].copy()\n",
        "narations.tail()"
      ],
      "metadata": {
        "execution": {
          "iopub.status.busy": "2023-05-27T15:47:40.544677Z",
          "iopub.execute_input": "2023-05-27T15:47:40.545346Z",
          "iopub.status.idle": "2023-05-27T15:47:40.568127Z",
          "shell.execute_reply.started": "2023-05-27T15:47:40.545312Z",
          "shell.execute_reply": "2023-05-27T15:47:40.566442Z"
        },
        "trusted": true,
        "colab": {
          "base_uri": "https://localhost:8080/",
          "height": 206
        },
        "id": "ofHUIbGyGwBl",
        "outputId": "eeb2fa04-95bb-44d3-dafd-95a74681cbcf"
      },
      "execution_count": 11,
      "outputs": [
        {
          "output_type": "execute_result",
          "data": {
            "text/plain": [
              "                                                   NARATION    AC_ID\n",
              "22538287                                       Guatala Udc   4010179\n",
              "22539045  Transaction For Fund Transfer. Smart App, Regu...  4199653\n",
              "22539930                 Cash Deposit গারামাসি উল্লী উন্নয়ন  2389876\n",
              "22543261                  আসাদ ভাই এর কাছে জমা  হাজার টাকা   4817300\n",
              "22544595  গাড়ামাসি পল্লী উন্নয়ন সমবায় সমিতি আস  সেবা  আদ...   789386"
            ],
            "text/html": [
              "\n",
              "  <div id=\"df-fa0b0f7e-7e4f-4c4b-b5f4-6e58c5fa4883\">\n",
              "    <div class=\"colab-df-container\">\n",
              "      <div>\n",
              "<style scoped>\n",
              "    .dataframe tbody tr th:only-of-type {\n",
              "        vertical-align: middle;\n",
              "    }\n",
              "\n",
              "    .dataframe tbody tr th {\n",
              "        vertical-align: top;\n",
              "    }\n",
              "\n",
              "    .dataframe thead th {\n",
              "        text-align: right;\n",
              "    }\n",
              "</style>\n",
              "<table border=\"1\" class=\"dataframe\">\n",
              "  <thead>\n",
              "    <tr style=\"text-align: right;\">\n",
              "      <th></th>\n",
              "      <th>NARATION</th>\n",
              "      <th>AC_ID</th>\n",
              "    </tr>\n",
              "  </thead>\n",
              "  <tbody>\n",
              "    <tr>\n",
              "      <th>22538287</th>\n",
              "      <td>Guatala Udc</td>\n",
              "      <td>4010179</td>\n",
              "    </tr>\n",
              "    <tr>\n",
              "      <th>22539045</th>\n",
              "      <td>Transaction For Fund Transfer. Smart App, Regu...</td>\n",
              "      <td>4199653</td>\n",
              "    </tr>\n",
              "    <tr>\n",
              "      <th>22539930</th>\n",
              "      <td>Cash Deposit গারামাসি উল্লী উন্নয়ন</td>\n",
              "      <td>2389876</td>\n",
              "    </tr>\n",
              "    <tr>\n",
              "      <th>22543261</th>\n",
              "      <td>আসাদ ভাই এর কাছে জমা  হাজার টাকা</td>\n",
              "      <td>4817300</td>\n",
              "    </tr>\n",
              "    <tr>\n",
              "      <th>22544595</th>\n",
              "      <td>গাড়ামাসি পল্লী উন্নয়ন সমবায় সমিতি আস  সেবা  আদ...</td>\n",
              "      <td>789386</td>\n",
              "    </tr>\n",
              "  </tbody>\n",
              "</table>\n",
              "</div>\n",
              "      <button class=\"colab-df-convert\" onclick=\"convertToInteractive('df-fa0b0f7e-7e4f-4c4b-b5f4-6e58c5fa4883')\"\n",
              "              title=\"Convert this dataframe to an interactive table.\"\n",
              "              style=\"display:none;\">\n",
              "        \n",
              "  <svg xmlns=\"http://www.w3.org/2000/svg\" height=\"24px\"viewBox=\"0 0 24 24\"\n",
              "       width=\"24px\">\n",
              "    <path d=\"M0 0h24v24H0V0z\" fill=\"none\"/>\n",
              "    <path d=\"M18.56 5.44l.94 2.06.94-2.06 2.06-.94-2.06-.94-.94-2.06-.94 2.06-2.06.94zm-11 1L8.5 8.5l.94-2.06 2.06-.94-2.06-.94L8.5 2.5l-.94 2.06-2.06.94zm10 10l.94 2.06.94-2.06 2.06-.94-2.06-.94-.94-2.06-.94 2.06-2.06.94z\"/><path d=\"M17.41 7.96l-1.37-1.37c-.4-.4-.92-.59-1.43-.59-.52 0-1.04.2-1.43.59L10.3 9.45l-7.72 7.72c-.78.78-.78 2.05 0 2.83L4 21.41c.39.39.9.59 1.41.59.51 0 1.02-.2 1.41-.59l7.78-7.78 2.81-2.81c.8-.78.8-2.07 0-2.86zM5.41 20L4 18.59l7.72-7.72 1.47 1.35L5.41 20z\"/>\n",
              "  </svg>\n",
              "      </button>\n",
              "      \n",
              "  <style>\n",
              "    .colab-df-container {\n",
              "      display:flex;\n",
              "      flex-wrap:wrap;\n",
              "      gap: 12px;\n",
              "    }\n",
              "\n",
              "    .colab-df-convert {\n",
              "      background-color: #E8F0FE;\n",
              "      border: none;\n",
              "      border-radius: 50%;\n",
              "      cursor: pointer;\n",
              "      display: none;\n",
              "      fill: #1967D2;\n",
              "      height: 32px;\n",
              "      padding: 0 0 0 0;\n",
              "      width: 32px;\n",
              "    }\n",
              "\n",
              "    .colab-df-convert:hover {\n",
              "      background-color: #E2EBFA;\n",
              "      box-shadow: 0px 1px 2px rgba(60, 64, 67, 0.3), 0px 1px 3px 1px rgba(60, 64, 67, 0.15);\n",
              "      fill: #174EA6;\n",
              "    }\n",
              "\n",
              "    [theme=dark] .colab-df-convert {\n",
              "      background-color: #3B4455;\n",
              "      fill: #D2E3FC;\n",
              "    }\n",
              "\n",
              "    [theme=dark] .colab-df-convert:hover {\n",
              "      background-color: #434B5C;\n",
              "      box-shadow: 0px 1px 3px 1px rgba(0, 0, 0, 0.15);\n",
              "      filter: drop-shadow(0px 1px 2px rgba(0, 0, 0, 0.3));\n",
              "      fill: #FFFFFF;\n",
              "    }\n",
              "  </style>\n",
              "\n",
              "      <script>\n",
              "        const buttonEl =\n",
              "          document.querySelector('#df-fa0b0f7e-7e4f-4c4b-b5f4-6e58c5fa4883 button.colab-df-convert');\n",
              "        buttonEl.style.display =\n",
              "          google.colab.kernel.accessAllowed ? 'block' : 'none';\n",
              "\n",
              "        async function convertToInteractive(key) {\n",
              "          const element = document.querySelector('#df-fa0b0f7e-7e4f-4c4b-b5f4-6e58c5fa4883');\n",
              "          const dataTable =\n",
              "            await google.colab.kernel.invokeFunction('convertToInteractive',\n",
              "                                                     [key], {});\n",
              "          if (!dataTable) return;\n",
              "\n",
              "          const docLinkHtml = 'Like what you see? Visit the ' +\n",
              "            '<a target=\"_blank\" href=https://colab.research.google.com/notebooks/data_table.ipynb>data table notebook</a>'\n",
              "            + ' to learn more about interactive tables.';\n",
              "          element.innerHTML = '';\n",
              "          dataTable['output_type'] = 'display_data';\n",
              "          await google.colab.output.renderOutput(dataTable, element);\n",
              "          const docLink = document.createElement('div');\n",
              "          docLink.innerHTML = docLinkHtml;\n",
              "          element.appendChild(docLink);\n",
              "        }\n",
              "      </script>\n",
              "    </div>\n",
              "  </div>\n",
              "  "
            ]
          },
          "metadata": {},
          "execution_count": 11
        }
      ]
    },
    {
      "cell_type": "code",
      "source": [
        "!pip install -U spacy\n",
        "!python -m spacy download en_core_web_trf\n"
      ],
      "metadata": {
        "id": "ILLGuZtQRreS"
      },
      "execution_count": null,
      "outputs": []
    },
    {
      "cell_type": "code",
      "source": [
        "import spacy\n",
        "nlp = spacy.load(\"en_core_web_sm\")\n",
        "\n",
        "def name_removal(text):\n",
        "  doc=nlp(text)\n",
        "  sz=len(doc.ents)\n",
        "  modified_string = \"\"\n",
        "  if(sz>0):\n",
        "    for entity in doc.ents:\n",
        "        entity=entity.text\n",
        "        # if entity.label_ == \"PERSON\":\n",
        "        #     filtered_text += entity.text + \" \"\n",
        "        modified_string = text.replace(entity, \"\")\n",
        "  else:\n",
        "    modified_string=text\n",
        "  return modified_string"
      ],
      "metadata": {
        "id": "gaJipUM9M9DL"
      },
      "execution_count": 12,
      "outputs": []
    },
    {
      "cell_type": "code",
      "source": [
        "narations.shape"
      ],
      "metadata": {
        "colab": {
          "base_uri": "https://localhost:8080/"
        },
        "id": "MnFD4PuKLSL3",
        "outputId": "c832df3a-1b15-472f-9ef2-6cb226810726"
      },
      "execution_count": 26,
      "outputs": [
        {
          "output_type": "execute_result",
          "data": {
            "text/plain": [
              "(128603, 2)"
            ]
          },
          "metadata": {},
          "execution_count": 26
        }
      ]
    },
    {
      "cell_type": "code",
      "source": [
        "txt=name_removal(narations['NARATION'][6])\n",
        "txt"
      ],
      "metadata": {
        "colab": {
          "base_uri": "https://localhost:8080/",
          "height": 36
        },
        "id": "youxwyM3M_NT",
        "outputId": "8deefa5b-483e-4bb6-c23a-f5c39fe6897d"
      },
      "execution_count": 32,
      "outputs": [
        {
          "output_type": "execute_result",
          "data": {
            "text/plain": [
              "'Cash Deposit to A/C No.: '"
            ],
            "application/vnd.google.colaboratory.intrinsic+json": {
              "type": "string"
            }
          },
          "metadata": {},
          "execution_count": 32
        }
      ]
    },
    {
      "cell_type": "code",
      "source": [
        "narations['no_name']=narations['NARATION'].apply(name_removal)"
      ],
      "metadata": {
        "id": "rGzoF4W8K-aU"
      },
      "execution_count": 33,
      "outputs": []
    },
    {
      "cell_type": "code",
      "source": [
        "empty_string_rows = narations[narations['NARATION'] == '']\n",
        "print(empty_string_rows)"
      ],
      "metadata": {
        "colab": {
          "base_uri": "https://localhost:8080/"
        },
        "id": "_d4kiDJSIKw6",
        "outputId": "8738f458-7f99-4b36-be22-caec8bfa5eae"
      },
      "execution_count": null,
      "outputs": [
        {
          "output_type": "stream",
          "name": "stdout",
          "text": [
            "         NARATION    AC_ID\n",
            "1001               2199100\n",
            "3582                396866\n",
            "181022             4737925\n",
            "201752             5147845\n",
            "300064             5816604\n",
            "...           ...      ...\n",
            "19203763             68159\n",
            "19393945           1624246\n",
            "20358417           4737925\n",
            "20504419           3762714\n",
            "21729143           4737925\n",
            "\n",
            "[70 rows x 2 columns]\n"
          ]
        }
      ]
    },
    {
      "cell_type": "code",
      "source": [
        "narations['no_name']=narations['no_name'].str.replace('[^A-Za-z\\s]', '',regex=True)\n",
        "narations.tail()"
      ],
      "metadata": {
        "execution": {
          "iopub.status.busy": "2023-05-27T15:47:48.268192Z",
          "iopub.execute_input": "2023-05-27T15:47:48.268553Z",
          "iopub.status.idle": "2023-05-27T15:47:48.483100Z",
          "shell.execute_reply.started": "2023-05-27T15:47:48.268525Z",
          "shell.execute_reply": "2023-05-27T15:47:48.482520Z"
        },
        "trusted": true,
        "colab": {
          "base_uri": "https://localhost:8080/",
          "height": 206
        },
        "id": "iAoVTBCFGwBm",
        "outputId": "60249a5b-2d03-4dd6-93ab-a2beeefbb546"
      },
      "execution_count": 34,
      "outputs": [
        {
          "output_type": "execute_result",
          "data": {
            "text/plain": [
              "                                                   NARATION    AC_ID  \\\n",
              "22538287                                       Guatala Udc   4010179   \n",
              "22539045  Transaction For Fund Transfer. Smart App, Regu...  4199653   \n",
              "22539930                 Cash Deposit গারামাসি উল্লী উন্নয়ন  2389876   \n",
              "22543261                  আসাদ ভাই এর কাছে জমা  হাজার টাকা   4817300   \n",
              "22544595  গাড়ামাসি পল্লী উন্নয়ন সমবায় সমিতি আস  সেবা  আদ...   789386   \n",
              "\n",
              "                                                    no_name  \n",
              "22538287                                                     \n",
              "22539045  Transaction For Fund Transfer  Regular Fund Tr...  \n",
              "22539930                                    Cash Deposit     \n",
              "22543261                                                     \n",
              "22544595                                                     "
            ],
            "text/html": [
              "\n",
              "  <div id=\"df-f70b3658-fa1b-401a-9a2e-c68987132619\">\n",
              "    <div class=\"colab-df-container\">\n",
              "      <div>\n",
              "<style scoped>\n",
              "    .dataframe tbody tr th:only-of-type {\n",
              "        vertical-align: middle;\n",
              "    }\n",
              "\n",
              "    .dataframe tbody tr th {\n",
              "        vertical-align: top;\n",
              "    }\n",
              "\n",
              "    .dataframe thead th {\n",
              "        text-align: right;\n",
              "    }\n",
              "</style>\n",
              "<table border=\"1\" class=\"dataframe\">\n",
              "  <thead>\n",
              "    <tr style=\"text-align: right;\">\n",
              "      <th></th>\n",
              "      <th>NARATION</th>\n",
              "      <th>AC_ID</th>\n",
              "      <th>no_name</th>\n",
              "    </tr>\n",
              "  </thead>\n",
              "  <tbody>\n",
              "    <tr>\n",
              "      <th>22538287</th>\n",
              "      <td>Guatala Udc</td>\n",
              "      <td>4010179</td>\n",
              "      <td></td>\n",
              "    </tr>\n",
              "    <tr>\n",
              "      <th>22539045</th>\n",
              "      <td>Transaction For Fund Transfer. Smart App, Regu...</td>\n",
              "      <td>4199653</td>\n",
              "      <td>Transaction For Fund Transfer  Regular Fund Tr...</td>\n",
              "    </tr>\n",
              "    <tr>\n",
              "      <th>22539930</th>\n",
              "      <td>Cash Deposit গারামাসি উল্লী উন্নয়ন</td>\n",
              "      <td>2389876</td>\n",
              "      <td>Cash Deposit</td>\n",
              "    </tr>\n",
              "    <tr>\n",
              "      <th>22543261</th>\n",
              "      <td>আসাদ ভাই এর কাছে জমা  হাজার টাকা</td>\n",
              "      <td>4817300</td>\n",
              "      <td></td>\n",
              "    </tr>\n",
              "    <tr>\n",
              "      <th>22544595</th>\n",
              "      <td>গাড়ামাসি পল্লী উন্নয়ন সমবায় সমিতি আস  সেবা  আদ...</td>\n",
              "      <td>789386</td>\n",
              "      <td></td>\n",
              "    </tr>\n",
              "  </tbody>\n",
              "</table>\n",
              "</div>\n",
              "      <button class=\"colab-df-convert\" onclick=\"convertToInteractive('df-f70b3658-fa1b-401a-9a2e-c68987132619')\"\n",
              "              title=\"Convert this dataframe to an interactive table.\"\n",
              "              style=\"display:none;\">\n",
              "        \n",
              "  <svg xmlns=\"http://www.w3.org/2000/svg\" height=\"24px\"viewBox=\"0 0 24 24\"\n",
              "       width=\"24px\">\n",
              "    <path d=\"M0 0h24v24H0V0z\" fill=\"none\"/>\n",
              "    <path d=\"M18.56 5.44l.94 2.06.94-2.06 2.06-.94-2.06-.94-.94-2.06-.94 2.06-2.06.94zm-11 1L8.5 8.5l.94-2.06 2.06-.94-2.06-.94L8.5 2.5l-.94 2.06-2.06.94zm10 10l.94 2.06.94-2.06 2.06-.94-2.06-.94-.94-2.06-.94 2.06-2.06.94z\"/><path d=\"M17.41 7.96l-1.37-1.37c-.4-.4-.92-.59-1.43-.59-.52 0-1.04.2-1.43.59L10.3 9.45l-7.72 7.72c-.78.78-.78 2.05 0 2.83L4 21.41c.39.39.9.59 1.41.59.51 0 1.02-.2 1.41-.59l7.78-7.78 2.81-2.81c.8-.78.8-2.07 0-2.86zM5.41 20L4 18.59l7.72-7.72 1.47 1.35L5.41 20z\"/>\n",
              "  </svg>\n",
              "      </button>\n",
              "      \n",
              "  <style>\n",
              "    .colab-df-container {\n",
              "      display:flex;\n",
              "      flex-wrap:wrap;\n",
              "      gap: 12px;\n",
              "    }\n",
              "\n",
              "    .colab-df-convert {\n",
              "      background-color: #E8F0FE;\n",
              "      border: none;\n",
              "      border-radius: 50%;\n",
              "      cursor: pointer;\n",
              "      display: none;\n",
              "      fill: #1967D2;\n",
              "      height: 32px;\n",
              "      padding: 0 0 0 0;\n",
              "      width: 32px;\n",
              "    }\n",
              "\n",
              "    .colab-df-convert:hover {\n",
              "      background-color: #E2EBFA;\n",
              "      box-shadow: 0px 1px 2px rgba(60, 64, 67, 0.3), 0px 1px 3px 1px rgba(60, 64, 67, 0.15);\n",
              "      fill: #174EA6;\n",
              "    }\n",
              "\n",
              "    [theme=dark] .colab-df-convert {\n",
              "      background-color: #3B4455;\n",
              "      fill: #D2E3FC;\n",
              "    }\n",
              "\n",
              "    [theme=dark] .colab-df-convert:hover {\n",
              "      background-color: #434B5C;\n",
              "      box-shadow: 0px 1px 3px 1px rgba(0, 0, 0, 0.15);\n",
              "      filter: drop-shadow(0px 1px 2px rgba(0, 0, 0, 0.3));\n",
              "      fill: #FFFFFF;\n",
              "    }\n",
              "  </style>\n",
              "\n",
              "      <script>\n",
              "        const buttonEl =\n",
              "          document.querySelector('#df-f70b3658-fa1b-401a-9a2e-c68987132619 button.colab-df-convert');\n",
              "        buttonEl.style.display =\n",
              "          google.colab.kernel.accessAllowed ? 'block' : 'none';\n",
              "\n",
              "        async function convertToInteractive(key) {\n",
              "          const element = document.querySelector('#df-f70b3658-fa1b-401a-9a2e-c68987132619');\n",
              "          const dataTable =\n",
              "            await google.colab.kernel.invokeFunction('convertToInteractive',\n",
              "                                                     [key], {});\n",
              "          if (!dataTable) return;\n",
              "\n",
              "          const docLinkHtml = 'Like what you see? Visit the ' +\n",
              "            '<a target=\"_blank\" href=https://colab.research.google.com/notebooks/data_table.ipynb>data table notebook</a>'\n",
              "            + ' to learn more about interactive tables.';\n",
              "          element.innerHTML = '';\n",
              "          dataTable['output_type'] = 'display_data';\n",
              "          await google.colab.output.renderOutput(dataTable, element);\n",
              "          const docLink = document.createElement('div');\n",
              "          docLink.innerHTML = docLinkHtml;\n",
              "          element.appendChild(docLink);\n",
              "        }\n",
              "      </script>\n",
              "    </div>\n",
              "  </div>\n",
              "  "
            ]
          },
          "metadata": {},
          "execution_count": 34
        }
      ]
    },
    {
      "cell_type": "code",
      "source": [
        "empty_string_rows = narations[narations['no_name'] == '']\n",
        "print(empty_string_rows)"
      ],
      "metadata": {
        "colab": {
          "base_uri": "https://localhost:8080/"
        },
        "id": "hMrdnSU-P_LO",
        "outputId": "a6b75ffd-7865-4c1f-dd54-c36699fbcb73"
      },
      "execution_count": 36,
      "outputs": [
        {
          "output_type": "stream",
          "name": "stdout",
          "text": [
            "                 NARATION    AC_ID no_name\n",
            "1001                    -  2199100        \n",
            "1876               SHAJIB  4044420        \n",
            "3582                   -=   396866        \n",
            "10007          BARACHOWNA   507327        \n",
            "10221        yesin billha  3415318        \n",
            "...                   ...      ...     ...\n",
            "22329190  Mollikpur-Aleya  5425789        \n",
            "22329306      SUBRATA DAS   692599        \n",
            "22337049           mahbub   235321        \n",
            "22346473   LOKMAN HOSSAIN  4766106        \n",
            "22359757    naora khadija  5412929        \n",
            "\n",
            "[4461 rows x 3 columns]\n"
          ]
        }
      ]
    },
    {
      "cell_type": "code",
      "source": [
        "narations = narations[narations['no_name'] != '']\n",
        "narations = narations.reset_index(drop=True)"
      ],
      "metadata": {
        "id": "RgTmvKNfHmE9"
      },
      "execution_count": null,
      "outputs": []
    },
    {
      "cell_type": "code",
      "source": [
        "narations = narations[~narations['no_name'].str.strip().eq(\"\")]   # truncate bengali as those are just spaces\n",
        "narations = narations.reset_index(drop=True)"
      ],
      "metadata": {
        "id": "celfSYDDImZ4"
      },
      "execution_count": 37,
      "outputs": []
    },
    {
      "cell_type": "code",
      "source": [
        "narations.tail()"
      ],
      "metadata": {
        "colab": {
          "base_uri": "https://localhost:8080/",
          "height": 206
        },
        "id": "JHeu4Q2gH996",
        "outputId": "d1f88303-775f-4f5c-c152-0fb2767435fa"
      },
      "execution_count": 38,
      "outputs": [
        {
          "output_type": "execute_result",
          "data": {
            "text/plain": [
              "                                                 NARATION    AC_ID  \\\n",
              "121123           Smart App, Fund Transfer. wife DPS Money   652566   \n",
              "121124                   Cash Deposit Suraighat bazar SME  5418855   \n",
              "121125                     Cash Deposit Raigor Mohila dol  5418855   \n",
              "121126  Transaction For Fund Transfer. Smart App, Regu...  4199653   \n",
              "121127                 Cash Deposit গারামাসি উল্লী উন্নয়ন  2389876   \n",
              "\n",
              "                                                  no_name  \n",
              "121123                      Smart App Fund Transfer wife   \n",
              "121124                      Cash Deposit Suraighat bazar   \n",
              "121125                        Cash Deposit Raigor Mohila   \n",
              "121126  Transaction For Fund Transfer  Regular Fund Tr...  \n",
              "121127                                    Cash Deposit     "
            ],
            "text/html": [
              "\n",
              "  <div id=\"df-310d0305-1337-47d5-8be5-453a21d7d0ae\">\n",
              "    <div class=\"colab-df-container\">\n",
              "      <div>\n",
              "<style scoped>\n",
              "    .dataframe tbody tr th:only-of-type {\n",
              "        vertical-align: middle;\n",
              "    }\n",
              "\n",
              "    .dataframe tbody tr th {\n",
              "        vertical-align: top;\n",
              "    }\n",
              "\n",
              "    .dataframe thead th {\n",
              "        text-align: right;\n",
              "    }\n",
              "</style>\n",
              "<table border=\"1\" class=\"dataframe\">\n",
              "  <thead>\n",
              "    <tr style=\"text-align: right;\">\n",
              "      <th></th>\n",
              "      <th>NARATION</th>\n",
              "      <th>AC_ID</th>\n",
              "      <th>no_name</th>\n",
              "    </tr>\n",
              "  </thead>\n",
              "  <tbody>\n",
              "    <tr>\n",
              "      <th>121123</th>\n",
              "      <td>Smart App, Fund Transfer. wife DPS Money</td>\n",
              "      <td>652566</td>\n",
              "      <td>Smart App Fund Transfer wife</td>\n",
              "    </tr>\n",
              "    <tr>\n",
              "      <th>121124</th>\n",
              "      <td>Cash Deposit Suraighat bazar SME</td>\n",
              "      <td>5418855</td>\n",
              "      <td>Cash Deposit Suraighat bazar</td>\n",
              "    </tr>\n",
              "    <tr>\n",
              "      <th>121125</th>\n",
              "      <td>Cash Deposit Raigor Mohila dol</td>\n",
              "      <td>5418855</td>\n",
              "      <td>Cash Deposit Raigor Mohila</td>\n",
              "    </tr>\n",
              "    <tr>\n",
              "      <th>121126</th>\n",
              "      <td>Transaction For Fund Transfer. Smart App, Regu...</td>\n",
              "      <td>4199653</td>\n",
              "      <td>Transaction For Fund Transfer  Regular Fund Tr...</td>\n",
              "    </tr>\n",
              "    <tr>\n",
              "      <th>121127</th>\n",
              "      <td>Cash Deposit গারামাসি উল্লী উন্নয়ন</td>\n",
              "      <td>2389876</td>\n",
              "      <td>Cash Deposit</td>\n",
              "    </tr>\n",
              "  </tbody>\n",
              "</table>\n",
              "</div>\n",
              "      <button class=\"colab-df-convert\" onclick=\"convertToInteractive('df-310d0305-1337-47d5-8be5-453a21d7d0ae')\"\n",
              "              title=\"Convert this dataframe to an interactive table.\"\n",
              "              style=\"display:none;\">\n",
              "        \n",
              "  <svg xmlns=\"http://www.w3.org/2000/svg\" height=\"24px\"viewBox=\"0 0 24 24\"\n",
              "       width=\"24px\">\n",
              "    <path d=\"M0 0h24v24H0V0z\" fill=\"none\"/>\n",
              "    <path d=\"M18.56 5.44l.94 2.06.94-2.06 2.06-.94-2.06-.94-.94-2.06-.94 2.06-2.06.94zm-11 1L8.5 8.5l.94-2.06 2.06-.94-2.06-.94L8.5 2.5l-.94 2.06-2.06.94zm10 10l.94 2.06.94-2.06 2.06-.94-2.06-.94-.94-2.06-.94 2.06-2.06.94z\"/><path d=\"M17.41 7.96l-1.37-1.37c-.4-.4-.92-.59-1.43-.59-.52 0-1.04.2-1.43.59L10.3 9.45l-7.72 7.72c-.78.78-.78 2.05 0 2.83L4 21.41c.39.39.9.59 1.41.59.51 0 1.02-.2 1.41-.59l7.78-7.78 2.81-2.81c.8-.78.8-2.07 0-2.86zM5.41 20L4 18.59l7.72-7.72 1.47 1.35L5.41 20z\"/>\n",
              "  </svg>\n",
              "      </button>\n",
              "      \n",
              "  <style>\n",
              "    .colab-df-container {\n",
              "      display:flex;\n",
              "      flex-wrap:wrap;\n",
              "      gap: 12px;\n",
              "    }\n",
              "\n",
              "    .colab-df-convert {\n",
              "      background-color: #E8F0FE;\n",
              "      border: none;\n",
              "      border-radius: 50%;\n",
              "      cursor: pointer;\n",
              "      display: none;\n",
              "      fill: #1967D2;\n",
              "      height: 32px;\n",
              "      padding: 0 0 0 0;\n",
              "      width: 32px;\n",
              "    }\n",
              "\n",
              "    .colab-df-convert:hover {\n",
              "      background-color: #E2EBFA;\n",
              "      box-shadow: 0px 1px 2px rgba(60, 64, 67, 0.3), 0px 1px 3px 1px rgba(60, 64, 67, 0.15);\n",
              "      fill: #174EA6;\n",
              "    }\n",
              "\n",
              "    [theme=dark] .colab-df-convert {\n",
              "      background-color: #3B4455;\n",
              "      fill: #D2E3FC;\n",
              "    }\n",
              "\n",
              "    [theme=dark] .colab-df-convert:hover {\n",
              "      background-color: #434B5C;\n",
              "      box-shadow: 0px 1px 3px 1px rgba(0, 0, 0, 0.15);\n",
              "      filter: drop-shadow(0px 1px 2px rgba(0, 0, 0, 0.3));\n",
              "      fill: #FFFFFF;\n",
              "    }\n",
              "  </style>\n",
              "\n",
              "      <script>\n",
              "        const buttonEl =\n",
              "          document.querySelector('#df-310d0305-1337-47d5-8be5-453a21d7d0ae button.colab-df-convert');\n",
              "        buttonEl.style.display =\n",
              "          google.colab.kernel.accessAllowed ? 'block' : 'none';\n",
              "\n",
              "        async function convertToInteractive(key) {\n",
              "          const element = document.querySelector('#df-310d0305-1337-47d5-8be5-453a21d7d0ae');\n",
              "          const dataTable =\n",
              "            await google.colab.kernel.invokeFunction('convertToInteractive',\n",
              "                                                     [key], {});\n",
              "          if (!dataTable) return;\n",
              "\n",
              "          const docLinkHtml = 'Like what you see? Visit the ' +\n",
              "            '<a target=\"_blank\" href=https://colab.research.google.com/notebooks/data_table.ipynb>data table notebook</a>'\n",
              "            + ' to learn more about interactive tables.';\n",
              "          element.innerHTML = '';\n",
              "          dataTable['output_type'] = 'display_data';\n",
              "          await google.colab.output.renderOutput(dataTable, element);\n",
              "          const docLink = document.createElement('div');\n",
              "          docLink.innerHTML = docLinkHtml;\n",
              "          element.appendChild(docLink);\n",
              "        }\n",
              "      </script>\n",
              "    </div>\n",
              "  </div>\n",
              "  "
            ]
          },
          "metadata": {},
          "execution_count": 38
        }
      ]
    },
    {
      "cell_type": "code",
      "source": [],
      "metadata": {
        "id": "L1u4FWQCI--0"
      },
      "execution_count": null,
      "outputs": []
    },
    {
      "cell_type": "code",
      "source": [
        "narations.head()"
      ],
      "metadata": {
        "colab": {
          "base_uri": "https://localhost:8080/",
          "height": 206
        },
        "id": "-3It37r1LMTT",
        "outputId": "5fec69a9-29c5-4371-e38e-31380807a3e9"
      },
      "execution_count": 39,
      "outputs": [
        {
          "output_type": "execute_result",
          "data": {
            "text/plain": [
              "                                            NARATION    AC_ID  \\\n",
              "0                                      Cash Withdraw  3644877   \n",
              "1                     Cash Withdrawal From A/C No.:   1175256   \n",
              "2   Cash withdraw from Micro Merchant point, MM A/C   2298226   \n",
              "3  Credit Against Merchant Cash Withdraw Service ...  4066427   \n",
              "4                          Cash Deposit to A/C No.:     38418   \n",
              "\n",
              "                                             no_name  \n",
              "0                                      Cash Withdraw  \n",
              "1                        Cash Withdrawal From AC No   \n",
              "2          Cash withdraw from Micro Merchant point    \n",
              "3  Credit Against Merchant Cash Withdraw Service ...  \n",
              "4                             Cash Deposit to AC No   "
            ],
            "text/html": [
              "\n",
              "  <div id=\"df-6ca63695-0b77-4b51-871f-031043aa325b\">\n",
              "    <div class=\"colab-df-container\">\n",
              "      <div>\n",
              "<style scoped>\n",
              "    .dataframe tbody tr th:only-of-type {\n",
              "        vertical-align: middle;\n",
              "    }\n",
              "\n",
              "    .dataframe tbody tr th {\n",
              "        vertical-align: top;\n",
              "    }\n",
              "\n",
              "    .dataframe thead th {\n",
              "        text-align: right;\n",
              "    }\n",
              "</style>\n",
              "<table border=\"1\" class=\"dataframe\">\n",
              "  <thead>\n",
              "    <tr style=\"text-align: right;\">\n",
              "      <th></th>\n",
              "      <th>NARATION</th>\n",
              "      <th>AC_ID</th>\n",
              "      <th>no_name</th>\n",
              "    </tr>\n",
              "  </thead>\n",
              "  <tbody>\n",
              "    <tr>\n",
              "      <th>0</th>\n",
              "      <td>Cash Withdraw</td>\n",
              "      <td>3644877</td>\n",
              "      <td>Cash Withdraw</td>\n",
              "    </tr>\n",
              "    <tr>\n",
              "      <th>1</th>\n",
              "      <td>Cash Withdrawal From A/C No.:</td>\n",
              "      <td>1175256</td>\n",
              "      <td>Cash Withdrawal From AC No</td>\n",
              "    </tr>\n",
              "    <tr>\n",
              "      <th>2</th>\n",
              "      <td>Cash withdraw from Micro Merchant point, MM A/C</td>\n",
              "      <td>2298226</td>\n",
              "      <td>Cash withdraw from Micro Merchant point</td>\n",
              "    </tr>\n",
              "    <tr>\n",
              "      <th>3</th>\n",
              "      <td>Credit Against Merchant Cash Withdraw Service ...</td>\n",
              "      <td>4066427</td>\n",
              "      <td>Credit Against Merchant Cash Withdraw Service ...</td>\n",
              "    </tr>\n",
              "    <tr>\n",
              "      <th>4</th>\n",
              "      <td>Cash Deposit to A/C No.:</td>\n",
              "      <td>38418</td>\n",
              "      <td>Cash Deposit to AC No</td>\n",
              "    </tr>\n",
              "  </tbody>\n",
              "</table>\n",
              "</div>\n",
              "      <button class=\"colab-df-convert\" onclick=\"convertToInteractive('df-6ca63695-0b77-4b51-871f-031043aa325b')\"\n",
              "              title=\"Convert this dataframe to an interactive table.\"\n",
              "              style=\"display:none;\">\n",
              "        \n",
              "  <svg xmlns=\"http://www.w3.org/2000/svg\" height=\"24px\"viewBox=\"0 0 24 24\"\n",
              "       width=\"24px\">\n",
              "    <path d=\"M0 0h24v24H0V0z\" fill=\"none\"/>\n",
              "    <path d=\"M18.56 5.44l.94 2.06.94-2.06 2.06-.94-2.06-.94-.94-2.06-.94 2.06-2.06.94zm-11 1L8.5 8.5l.94-2.06 2.06-.94-2.06-.94L8.5 2.5l-.94 2.06-2.06.94zm10 10l.94 2.06.94-2.06 2.06-.94-2.06-.94-.94-2.06-.94 2.06-2.06.94z\"/><path d=\"M17.41 7.96l-1.37-1.37c-.4-.4-.92-.59-1.43-.59-.52 0-1.04.2-1.43.59L10.3 9.45l-7.72 7.72c-.78.78-.78 2.05 0 2.83L4 21.41c.39.39.9.59 1.41.59.51 0 1.02-.2 1.41-.59l7.78-7.78 2.81-2.81c.8-.78.8-2.07 0-2.86zM5.41 20L4 18.59l7.72-7.72 1.47 1.35L5.41 20z\"/>\n",
              "  </svg>\n",
              "      </button>\n",
              "      \n",
              "  <style>\n",
              "    .colab-df-container {\n",
              "      display:flex;\n",
              "      flex-wrap:wrap;\n",
              "      gap: 12px;\n",
              "    }\n",
              "\n",
              "    .colab-df-convert {\n",
              "      background-color: #E8F0FE;\n",
              "      border: none;\n",
              "      border-radius: 50%;\n",
              "      cursor: pointer;\n",
              "      display: none;\n",
              "      fill: #1967D2;\n",
              "      height: 32px;\n",
              "      padding: 0 0 0 0;\n",
              "      width: 32px;\n",
              "    }\n",
              "\n",
              "    .colab-df-convert:hover {\n",
              "      background-color: #E2EBFA;\n",
              "      box-shadow: 0px 1px 2px rgba(60, 64, 67, 0.3), 0px 1px 3px 1px rgba(60, 64, 67, 0.15);\n",
              "      fill: #174EA6;\n",
              "    }\n",
              "\n",
              "    [theme=dark] .colab-df-convert {\n",
              "      background-color: #3B4455;\n",
              "      fill: #D2E3FC;\n",
              "    }\n",
              "\n",
              "    [theme=dark] .colab-df-convert:hover {\n",
              "      background-color: #434B5C;\n",
              "      box-shadow: 0px 1px 3px 1px rgba(0, 0, 0, 0.15);\n",
              "      filter: drop-shadow(0px 1px 2px rgba(0, 0, 0, 0.3));\n",
              "      fill: #FFFFFF;\n",
              "    }\n",
              "  </style>\n",
              "\n",
              "      <script>\n",
              "        const buttonEl =\n",
              "          document.querySelector('#df-6ca63695-0b77-4b51-871f-031043aa325b button.colab-df-convert');\n",
              "        buttonEl.style.display =\n",
              "          google.colab.kernel.accessAllowed ? 'block' : 'none';\n",
              "\n",
              "        async function convertToInteractive(key) {\n",
              "          const element = document.querySelector('#df-6ca63695-0b77-4b51-871f-031043aa325b');\n",
              "          const dataTable =\n",
              "            await google.colab.kernel.invokeFunction('convertToInteractive',\n",
              "                                                     [key], {});\n",
              "          if (!dataTable) return;\n",
              "\n",
              "          const docLinkHtml = 'Like what you see? Visit the ' +\n",
              "            '<a target=\"_blank\" href=https://colab.research.google.com/notebooks/data_table.ipynb>data table notebook</a>'\n",
              "            + ' to learn more about interactive tables.';\n",
              "          element.innerHTML = '';\n",
              "          dataTable['output_type'] = 'display_data';\n",
              "          await google.colab.output.renderOutput(dataTable, element);\n",
              "          const docLink = document.createElement('div');\n",
              "          docLink.innerHTML = docLinkHtml;\n",
              "          element.appendChild(docLink);\n",
              "        }\n",
              "      </script>\n",
              "    </div>\n",
              "  </div>\n",
              "  "
            ]
          },
          "metadata": {},
          "execution_count": 39
        }
      ]
    },
    {
      "cell_type": "code",
      "source": [
        "txt=name_removal(narations['NARATION'][3])\n",
        "txt"
      ],
      "metadata": {
        "colab": {
          "base_uri": "https://localhost:8080/",
          "height": 36
        },
        "id": "RXDNJofPK-OO",
        "outputId": "8b88d0c2-5691-48eb-d02e-477083f4a2a4"
      },
      "execution_count": null,
      "outputs": [
        {
          "output_type": "execute_result",
          "data": {
            "text/plain": [
              "''"
            ],
            "application/vnd.google.colaboratory.intrinsic+json": {
              "type": "string"
            }
          },
          "metadata": {},
          "execution_count": 31
        }
      ]
    },
    {
      "cell_type": "code",
      "source": [],
      "metadata": {
        "id": "SEK1t5C4LLUC"
      },
      "execution_count": null,
      "outputs": []
    },
    {
      "cell_type": "code",
      "source": [
        "narations.isnull().sum()"
      ],
      "metadata": {
        "trusted": true,
        "id": "xBxblDhMGwBm"
      },
      "execution_count": null,
      "outputs": []
    },
    {
      "cell_type": "code",
      "source": [
        "import nltk\n",
        "nltk.download('stopwords')\n",
        "nltk.download('punkt')\n",
        "from nltk.corpus import stopwords\n",
        "from nltk.stem import PorterStemmer\n",
        "from nltk.tokenize import word_tokenize \n",
        "\n",
        "stop_words=set(stopwords.words('english'))\n",
        "\n",
        "ps = PorterStemmer()\n",
        "\n"
      ],
      "metadata": {
        "execution": {
          "iopub.status.busy": "2023-05-27T15:47:52.389599Z",
          "iopub.execute_input": "2023-05-27T15:47:52.390666Z",
          "iopub.status.idle": "2023-05-27T15:47:52.396771Z",
          "shell.execute_reply.started": "2023-05-27T15:47:52.390626Z",
          "shell.execute_reply": "2023-05-27T15:47:52.395733Z"
        },
        "trusted": true,
        "colab": {
          "base_uri": "https://localhost:8080/"
        },
        "id": "0T1pmB8CGwBm",
        "outputId": "b842b5da-fb68-46cf-abbe-8f4bff098d13"
      },
      "execution_count": 40,
      "outputs": [
        {
          "output_type": "stream",
          "name": "stderr",
          "text": [
            "[nltk_data] Downloading package stopwords to /root/nltk_data...\n",
            "[nltk_data]   Unzipping corpora/stopwords.zip.\n",
            "[nltk_data] Downloading package punkt to /root/nltk_data...\n",
            "[nltk_data]   Unzipping tokenizers/punkt.zip.\n"
          ]
        }
      ]
    },
    {
      "cell_type": "code",
      "source": [
        "\n",
        "nltk.download('names')\n",
        "name_dictionary = nltk.corpus.names.words()\n",
        "\n",
        "def find_person_names(text, name_dictionary):\n",
        "    person_names = []\n",
        "    words = text.split()\n",
        "    for word in words:\n",
        "        if word.capitalize() in name_dictionary:\n",
        "            person_names.append(word)\n",
        "    return person_names\n",
        "\n"
      ],
      "metadata": {
        "colab": {
          "base_uri": "https://localhost:8080/"
        },
        "id": "aiKPShisOG3s",
        "outputId": "4da3caac-4ad6-4bb6-c6fc-24ec107bba79"
      },
      "execution_count": null,
      "outputs": [
        {
          "output_type": "stream",
          "name": "stderr",
          "text": [
            "[nltk_data] Downloading package names to /root/nltk_data...\n",
            "[nltk_data]   Unzipping corpora/names.zip.\n"
          ]
        }
      ]
    },
    {
      "cell_type": "code",
      "source": [
        "name_dictionary"
      ],
      "metadata": {
        "id": "Y_j4HwiNPLDk"
      },
      "execution_count": null,
      "outputs": []
    },
    {
      "cell_type": "code",
      "source": [
        "narations['NARATION'][255]"
      ],
      "metadata": {
        "colab": {
          "base_uri": "https://localhost:8080/",
          "height": 36
        },
        "id": "2e51LUYKOnl-",
        "outputId": "166110f0-2751-4add-af29-cf6d835ffa9a"
      },
      "execution_count": null,
      "outputs": [
        {
          "output_type": "execute_result",
          "data": {
            "text/plain": [
              "'Rakib Hasan Roll Hu'"
            ],
            "application/vnd.google.colaboratory.intrinsic+json": {
              "type": "string"
            }
          },
          "metadata": {},
          "execution_count": 38
        }
      ]
    },
    {
      "cell_type": "code",
      "source": [
        "txt=find_person_names(\"Josh is my friend\",name_dictionary)\n",
        "txt"
      ],
      "metadata": {
        "colab": {
          "base_uri": "https://localhost:8080/"
        },
        "id": "9_EQcOvTOXYL",
        "outputId": "b4f5a42e-6e26-480f-e5a8-7563b9c5221b"
      },
      "execution_count": null,
      "outputs": [
        {
          "output_type": "execute_result",
          "data": {
            "text/plain": [
              "['Josh']"
            ]
          },
          "metadata": {},
          "execution_count": 42
        }
      ]
    },
    {
      "cell_type": "code",
      "source": [],
      "metadata": {
        "id": "Qqai0lqIOPPs"
      },
      "execution_count": null,
      "outputs": []
    },
    {
      "cell_type": "code",
      "source": [
        "stop_words.add('cash')"
      ],
      "metadata": {
        "execution": {
          "iopub.status.busy": "2023-05-27T14:20:18.879141Z",
          "iopub.execute_input": "2023-05-27T14:20:18.879559Z",
          "iopub.status.idle": "2023-05-27T14:20:18.884442Z",
          "shell.execute_reply.started": "2023-05-27T14:20:18.879529Z",
          "shell.execute_reply": "2023-05-27T14:20:18.883162Z"
        },
        "trusted": true,
        "id": "GUgTrF4pGwBn"
      },
      "execution_count": null,
      "outputs": []
    },
    {
      "cell_type": "code",
      "source": [
        "stop_words"
      ],
      "metadata": {
        "execution": {
          "iopub.status.busy": "2023-05-27T14:20:37.837213Z",
          "iopub.execute_input": "2023-05-27T14:20:37.837708Z",
          "iopub.status.idle": "2023-05-27T14:20:37.848989Z",
          "shell.execute_reply.started": "2023-05-27T14:20:37.837663Z",
          "shell.execute_reply": "2023-05-27T14:20:37.847355Z"
        },
        "trusted": true,
        "id": "FnmvxnnaGwBn",
        "outputId": "233e425f-e98a-4314-9648-3ab8c2b3ec12"
      },
      "execution_count": null,
      "outputs": [
        {
          "execution_count": 11,
          "output_type": "execute_result",
          "data": {
            "text/plain": "{'a',\n 'about',\n 'above',\n 'after',\n 'again',\n 'against',\n 'ain',\n 'all',\n 'am',\n 'an',\n 'and',\n 'any',\n 'are',\n 'aren',\n \"aren't\",\n 'as',\n 'at',\n 'be',\n 'because',\n 'been',\n 'before',\n 'being',\n 'below',\n 'between',\n 'both',\n 'but',\n 'by',\n 'can',\n 'cash',\n 'couldn',\n \"couldn't\",\n 'd',\n 'did',\n 'didn',\n \"didn't\",\n 'do',\n 'does',\n 'doesn',\n \"doesn't\",\n 'doing',\n 'don',\n \"don't\",\n 'down',\n 'during',\n 'each',\n 'few',\n 'for',\n 'from',\n 'further',\n 'had',\n 'hadn',\n \"hadn't\",\n 'has',\n 'hasn',\n \"hasn't\",\n 'have',\n 'haven',\n \"haven't\",\n 'having',\n 'he',\n 'her',\n 'here',\n 'hers',\n 'herself',\n 'him',\n 'himself',\n 'his',\n 'how',\n 'i',\n 'if',\n 'in',\n 'into',\n 'is',\n 'isn',\n \"isn't\",\n 'it',\n \"it's\",\n 'its',\n 'itself',\n 'just',\n 'll',\n 'm',\n 'ma',\n 'me',\n 'mightn',\n \"mightn't\",\n 'more',\n 'most',\n 'mustn',\n \"mustn't\",\n 'my',\n 'myself',\n 'needn',\n \"needn't\",\n 'no',\n 'nor',\n 'not',\n 'now',\n 'o',\n 'of',\n 'off',\n 'on',\n 'once',\n 'only',\n 'or',\n 'other',\n 'our',\n 'ours',\n 'ourselves',\n 'out',\n 'over',\n 'own',\n 're',\n 's',\n 'same',\n 'shan',\n \"shan't\",\n 'she',\n \"she's\",\n 'should',\n \"should've\",\n 'shouldn',\n \"shouldn't\",\n 'so',\n 'some',\n 'such',\n 't',\n 'than',\n 'that',\n \"that'll\",\n 'the',\n 'their',\n 'theirs',\n 'them',\n 'themselves',\n 'then',\n 'there',\n 'these',\n 'they',\n 'this',\n 'those',\n 'through',\n 'to',\n 'too',\n 'under',\n 'until',\n 'up',\n 've',\n 'very',\n 'was',\n 'wasn',\n \"wasn't\",\n 'we',\n 'were',\n 'weren',\n \"weren't\",\n 'what',\n 'when',\n 'where',\n 'which',\n 'while',\n 'who',\n 'whom',\n 'why',\n 'will',\n 'with',\n 'won',\n \"won't\",\n 'wouldn',\n \"wouldn't\",\n 'y',\n 'you',\n \"you'd\",\n \"you'll\",\n \"you're\",\n \"you've\",\n 'your',\n 'yours',\n 'yourself',\n 'yourselves'}"
          },
          "metadata": {}
        }
      ]
    },
    {
      "cell_type": "code",
      "source": [
        "from nltk.stem import WordNetLemmatizer \n",
        "nltk.download('wordnet')"
      ],
      "metadata": {
        "execution": {
          "iopub.status.busy": "2023-05-27T15:48:09.718888Z",
          "iopub.execute_input": "2023-05-27T15:48:09.719453Z",
          "iopub.status.idle": "2023-05-27T15:48:09.807776Z",
          "shell.execute_reply.started": "2023-05-27T15:48:09.719421Z",
          "shell.execute_reply": "2023-05-27T15:48:09.806911Z"
        },
        "trusted": true,
        "id": "hFcL0p_bGwBn",
        "outputId": "14369825-8a3a-42d1-9ca3-8c629f852fa9",
        "colab": {
          "base_uri": "https://localhost:8080/"
        }
      },
      "execution_count": 41,
      "outputs": [
        {
          "output_type": "stream",
          "name": "stderr",
          "text": [
            "[nltk_data] Downloading package wordnet to /root/nltk_data...\n"
          ]
        },
        {
          "output_type": "execute_result",
          "data": {
            "text/plain": [
              "True"
            ]
          },
          "metadata": {},
          "execution_count": 41
        }
      ]
    },
    {
      "cell_type": "code",
      "source": [
        "%pwd\n"
      ],
      "metadata": {
        "execution": {
          "iopub.status.busy": "2023-05-27T14:21:11.475295Z",
          "iopub.execute_input": "2023-05-27T14:21:11.475707Z",
          "iopub.status.idle": "2023-05-27T14:21:11.482405Z",
          "shell.execute_reply.started": "2023-05-27T14:21:11.475671Z",
          "shell.execute_reply": "2023-05-27T14:21:11.481289Z"
        },
        "trusted": true,
        "id": "QLg5jlNkGwBn",
        "outputId": "fa918b29-e89a-43c7-9bc4-e024febf1dcb"
      },
      "execution_count": null,
      "outputs": [
        {
          "execution_count": 14,
          "output_type": "execute_result",
          "data": {
            "text/plain": "'/kaggle/working'"
          },
          "metadata": {}
        }
      ]
    },
    {
      "cell_type": "code",
      "source": [
        "%cd /usr/share/nltk_data/corpora"
      ],
      "metadata": {
        "execution": {
          "iopub.status.busy": "2023-05-27T14:21:14.760759Z",
          "iopub.execute_input": "2023-05-27T14:21:14.761568Z",
          "iopub.status.idle": "2023-05-27T14:21:14.775023Z",
          "shell.execute_reply.started": "2023-05-27T14:21:14.761529Z",
          "shell.execute_reply": "2023-05-27T14:21:14.773217Z"
        },
        "trusted": true,
        "id": "11bwlrwoGwBo",
        "outputId": "e21e25bd-d165-4467-816d-238758bbbf9d"
      },
      "execution_count": null,
      "outputs": [
        {
          "name": "stdout",
          "text": "/usr/share/nltk_data/corpora\n",
          "output_type": "stream"
        }
      ]
    },
    {
      "cell_type": "code",
      "source": [
        "%ls"
      ],
      "metadata": {
        "execution": {
          "iopub.status.busy": "2023-05-27T14:21:17.153698Z",
          "iopub.execute_input": "2023-05-27T14:21:17.154123Z",
          "iopub.status.idle": "2023-05-27T14:21:17.490697Z",
          "shell.execute_reply.started": "2023-05-27T14:21:17.154093Z",
          "shell.execute_reply": "2023-05-27T14:21:17.488691Z"
        },
        "trusted": true,
        "id": "wffys94HGwBo",
        "outputId": "3fab22d8-e85b-4589-d6d7-f91494cb0ad0"
      },
      "execution_count": null,
      "outputs": [
        {
          "name": "stdout",
          "text": "\u001b[0m\u001b[01;34mabc\u001b[0m/                     \u001b[01;34mkimmo\u001b[0m/                 \u001b[01;34msentence_polarity\u001b[0m/\nabc.zip                  kimmo.zip              sentence_polarity.zip\n\u001b[01;34malpino\u001b[0m/                  knbc.zip               \u001b[01;34msentiwordnet\u001b[0m/\nalpino.zip               \u001b[01;34mlin_thesaurus\u001b[0m/         sentiwordnet.zip\n\u001b[01;34mbiocreative_ppi\u001b[0m/         lin_thesaurus.zip      \u001b[01;34mshakespeare\u001b[0m/\nbiocreative_ppi.zip      \u001b[01;34mmac_morpho\u001b[0m/            shakespeare.zip\n\u001b[01;34mbrown\u001b[0m/                   mac_morpho.zip         \u001b[01;34msinica_treebank\u001b[0m/\nbrown.zip                machado.zip            sinica_treebank.zip\n\u001b[01;34mbrown_tei\u001b[0m/               masc_tagged.zip        \u001b[01;34msmultron\u001b[0m/\nbrown_tei.zip            \u001b[01;34mmovie_reviews\u001b[0m/         smultron.zip\n\u001b[01;34mcess_cat\u001b[0m/                movie_reviews.zip      \u001b[01;34mstate_union\u001b[0m/\ncess_cat.zip             \u001b[01;34mmte_teip5\u001b[0m/             state_union.zip\n\u001b[01;34mcess_esp\u001b[0m/                mte_teip5.zip          \u001b[01;34mstopwords\u001b[0m/\ncess_esp.zip             \u001b[01;34mnames\u001b[0m/                 stopwords.zip\n\u001b[01;34mchat80\u001b[0m/                  names.zip              \u001b[01;34msubjectivity\u001b[0m/\nchat80.zip               \u001b[01;34mnps_chat\u001b[0m/              subjectivity.zip\n\u001b[01;34mcity_database\u001b[0m/           nps_chat.zip           \u001b[01;34mswadesh\u001b[0m/\ncity_database.zip        omw.zip                swadesh.zip\n\u001b[01;34mcmudict\u001b[0m/                 \u001b[01;34mopinion_lexicon\u001b[0m/       \u001b[01;34mswitchboard\u001b[0m/\ncmudict.zip              opinion_lexicon.zip    switchboard.zip\ncomtrans.zip             \u001b[01;34mparadigms\u001b[0m/             \u001b[01;34mtimit\u001b[0m/\n\u001b[01;34mconll2000\u001b[0m/               paradigms.zip          timit.zip\nconll2000.zip            \u001b[01;34mpil\u001b[0m/                   \u001b[01;34mtoolbox\u001b[0m/\n\u001b[01;34mconll2002\u001b[0m/               pil.zip                toolbox.zip\nconll2002.zip            \u001b[01;34mpl196x\u001b[0m/                \u001b[01;34mtreebank\u001b[0m/\nconll2007.zip            pl196x.zip             treebank.zip\n\u001b[01;34mcrubadan\u001b[0m/                \u001b[01;34mppattach\u001b[0m/              \u001b[01;34mtwitter_samples\u001b[0m/\ncrubadan.zip             ppattach.zip           twitter_samples.zip\n\u001b[01;34mdependency_treebank\u001b[0m/     \u001b[01;34mproblem_reports\u001b[0m/       \u001b[01;34mudhr\u001b[0m/\ndependency_treebank.zip  problem_reports.zip    udhr.zip\n\u001b[01;34meuroparl_raw\u001b[0m/            \u001b[01;34mproduct_reviews_1\u001b[0m/     \u001b[01;34mudhr2\u001b[0m/\neuroparl_raw.zip         product_reviews_1.zip  udhr2.zip\n\u001b[01;34mfloresta\u001b[0m/                \u001b[01;34mproduct_reviews_2\u001b[0m/     \u001b[01;34municode_samples\u001b[0m/\nfloresta.zip             product_reviews_2.zip  unicode_samples.zip\n\u001b[01;34mgazetteers\u001b[0m/              propbank.zip           universal_treebanks_v20.zip\ngazetteers.zip           \u001b[01;34mpros_cons\u001b[0m/             \u001b[01;34mverbnet\u001b[0m/\n\u001b[01;34mgenesis\u001b[0m/                 pros_cons.zip          verbnet.zip\ngenesis.zip              \u001b[01;34mptb\u001b[0m/                   \u001b[01;34mwebtext\u001b[0m/\n\u001b[01;34mgutenberg\u001b[0m/               ptb.zip                webtext.zip\ngutenberg.zip            \u001b[01;34mqc\u001b[0m/                    wordnet.zip\n\u001b[01;34mieer\u001b[0m/                    qc.zip                 \u001b[01;34mwordnet_ic\u001b[0m/\nieer.zip                 reuters.zip            wordnet_ic.zip\n\u001b[01;34minaugural\u001b[0m/               \u001b[01;34mrte\u001b[0m/                   \u001b[01;34mwords\u001b[0m/\ninaugural.zip            rte.zip                words.zip\n\u001b[01;34mindian\u001b[0m/                  semcor.zip             \u001b[01;34mycoe\u001b[0m/\nindian.zip               \u001b[01;34msenseval\u001b[0m/              ycoe.zip\njeita.zip                senseval.zip\n",
          "output_type": "stream"
        }
      ]
    },
    {
      "cell_type": "code",
      "source": [
        "! unzip \"/usr/share/nltk_data/corpora/wordnet.zip\""
      ],
      "metadata": {
        "execution": {
          "iopub.status.busy": "2023-05-27T14:21:21.462709Z",
          "iopub.execute_input": "2023-05-27T14:21:21.463182Z",
          "iopub.status.idle": "2023-05-27T14:21:22.029520Z",
          "shell.execute_reply.started": "2023-05-27T14:21:21.463144Z",
          "shell.execute_reply": "2023-05-27T14:21:22.028371Z"
        },
        "trusted": true,
        "id": "xQHKwD_fGwBo",
        "outputId": "e78ee759-2386-46d0-ef05-a30e6938324b"
      },
      "execution_count": null,
      "outputs": [
        {
          "name": "stdout",
          "text": "Archive:  /usr/share/nltk_data/corpora/wordnet.zip\n   creating: wordnet/\n  inflating: wordnet/lexnames        \n  inflating: wordnet/data.verb       \n  inflating: wordnet/index.adv       \n  inflating: wordnet/adv.exc         \n  inflating: wordnet/index.verb      \n  inflating: wordnet/cntlist.rev     \n  inflating: wordnet/data.adj        \n  inflating: wordnet/index.adj       \n  inflating: wordnet/LICENSE         \n  inflating: wordnet/citation.bib    \n  inflating: wordnet/noun.exc        \n  inflating: wordnet/verb.exc        \n  inflating: wordnet/README          \n  inflating: wordnet/index.sense     \n  inflating: wordnet/data.noun       \n  inflating: wordnet/data.adv        \n  inflating: wordnet/index.noun      \n  inflating: wordnet/adj.exc         \n",
          "output_type": "stream"
        }
      ]
    },
    {
      "cell_type": "code",
      "source": [
        "%cd /kaggle/working"
      ],
      "metadata": {
        "execution": {
          "iopub.status.busy": "2023-05-27T14:21:25.199723Z",
          "iopub.execute_input": "2023-05-27T14:21:25.200096Z",
          "iopub.status.idle": "2023-05-27T14:21:25.207437Z",
          "shell.execute_reply.started": "2023-05-27T14:21:25.200064Z",
          "shell.execute_reply": "2023-05-27T14:21:25.206325Z"
        },
        "trusted": true,
        "id": "kcIi-eGZGwBo",
        "outputId": "b767c6d4-3fe8-4c09-c001-3db8dbe5ed6c"
      },
      "execution_count": null,
      "outputs": [
        {
          "name": "stdout",
          "text": "/kaggle/working\n",
          "output_type": "stream"
        }
      ]
    },
    {
      "cell_type": "code",
      "source": [
        "lematizer = WordNetLemmatizer()\n",
        "lematizer.lemmatize(\"words\")"
      ],
      "metadata": {
        "execution": {
          "iopub.status.busy": "2023-05-27T15:48:14.793171Z",
          "iopub.execute_input": "2023-05-27T15:48:14.793531Z",
          "iopub.status.idle": "2023-05-27T15:48:14.800511Z",
          "shell.execute_reply.started": "2023-05-27T15:48:14.793501Z",
          "shell.execute_reply": "2023-05-27T15:48:14.799117Z"
        },
        "trusted": true,
        "id": "62PBaFEOGwBp",
        "outputId": "f9800ada-43dc-4d0e-f904-f6408e73b1f5",
        "colab": {
          "base_uri": "https://localhost:8080/",
          "height": 36
        }
      },
      "execution_count": 42,
      "outputs": [
        {
          "output_type": "execute_result",
          "data": {
            "text/plain": [
              "'word'"
            ],
            "application/vnd.google.colaboratory.intrinsic+json": {
              "type": "string"
            }
          },
          "metadata": {},
          "execution_count": 42
        }
      ]
    },
    {
      "cell_type": "code",
      "source": [
        "def tokenize(text):\n",
        "    return [lematizer.lemmatize(w) for w in word_tokenize(text) if not w in stop_words]\n",
        "narations['no_name']=narations['no_name'].str.lower()\n",
        "narations.head()"
      ],
      "metadata": {
        "execution": {
          "iopub.status.busy": "2023-05-27T15:48:19.602002Z",
          "iopub.execute_input": "2023-05-27T15:48:19.602398Z",
          "iopub.status.idle": "2023-05-27T15:48:19.656475Z",
          "shell.execute_reply.started": "2023-05-27T15:48:19.602365Z",
          "shell.execute_reply": "2023-05-27T15:48:19.655848Z"
        },
        "trusted": true,
        "id": "NiDVkJZLGwBp",
        "outputId": "a77ddab9-c7ef-4863-da16-68c35baa3f10",
        "colab": {
          "base_uri": "https://localhost:8080/",
          "height": 206
        }
      },
      "execution_count": 43,
      "outputs": [
        {
          "output_type": "execute_result",
          "data": {
            "text/plain": [
              "                                            NARATION    AC_ID  \\\n",
              "0                                      Cash Withdraw  3644877   \n",
              "1                     Cash Withdrawal From A/C No.:   1175256   \n",
              "2   Cash withdraw from Micro Merchant point, MM A/C   2298226   \n",
              "3  Credit Against Merchant Cash Withdraw Service ...  4066427   \n",
              "4                          Cash Deposit to A/C No.:     38418   \n",
              "\n",
              "                                             no_name  \n",
              "0                                      cash withdraw  \n",
              "1                        cash withdrawal from ac no   \n",
              "2          cash withdraw from micro merchant point    \n",
              "3  credit against merchant cash withdraw service ...  \n",
              "4                             cash deposit to ac no   "
            ],
            "text/html": [
              "\n",
              "  <div id=\"df-9fe11c1b-7304-4c2a-89de-e12906bda252\">\n",
              "    <div class=\"colab-df-container\">\n",
              "      <div>\n",
              "<style scoped>\n",
              "    .dataframe tbody tr th:only-of-type {\n",
              "        vertical-align: middle;\n",
              "    }\n",
              "\n",
              "    .dataframe tbody tr th {\n",
              "        vertical-align: top;\n",
              "    }\n",
              "\n",
              "    .dataframe thead th {\n",
              "        text-align: right;\n",
              "    }\n",
              "</style>\n",
              "<table border=\"1\" class=\"dataframe\">\n",
              "  <thead>\n",
              "    <tr style=\"text-align: right;\">\n",
              "      <th></th>\n",
              "      <th>NARATION</th>\n",
              "      <th>AC_ID</th>\n",
              "      <th>no_name</th>\n",
              "    </tr>\n",
              "  </thead>\n",
              "  <tbody>\n",
              "    <tr>\n",
              "      <th>0</th>\n",
              "      <td>Cash Withdraw</td>\n",
              "      <td>3644877</td>\n",
              "      <td>cash withdraw</td>\n",
              "    </tr>\n",
              "    <tr>\n",
              "      <th>1</th>\n",
              "      <td>Cash Withdrawal From A/C No.:</td>\n",
              "      <td>1175256</td>\n",
              "      <td>cash withdrawal from ac no</td>\n",
              "    </tr>\n",
              "    <tr>\n",
              "      <th>2</th>\n",
              "      <td>Cash withdraw from Micro Merchant point, MM A/C</td>\n",
              "      <td>2298226</td>\n",
              "      <td>cash withdraw from micro merchant point</td>\n",
              "    </tr>\n",
              "    <tr>\n",
              "      <th>3</th>\n",
              "      <td>Credit Against Merchant Cash Withdraw Service ...</td>\n",
              "      <td>4066427</td>\n",
              "      <td>credit against merchant cash withdraw service ...</td>\n",
              "    </tr>\n",
              "    <tr>\n",
              "      <th>4</th>\n",
              "      <td>Cash Deposit to A/C No.:</td>\n",
              "      <td>38418</td>\n",
              "      <td>cash deposit to ac no</td>\n",
              "    </tr>\n",
              "  </tbody>\n",
              "</table>\n",
              "</div>\n",
              "      <button class=\"colab-df-convert\" onclick=\"convertToInteractive('df-9fe11c1b-7304-4c2a-89de-e12906bda252')\"\n",
              "              title=\"Convert this dataframe to an interactive table.\"\n",
              "              style=\"display:none;\">\n",
              "        \n",
              "  <svg xmlns=\"http://www.w3.org/2000/svg\" height=\"24px\"viewBox=\"0 0 24 24\"\n",
              "       width=\"24px\">\n",
              "    <path d=\"M0 0h24v24H0V0z\" fill=\"none\"/>\n",
              "    <path d=\"M18.56 5.44l.94 2.06.94-2.06 2.06-.94-2.06-.94-.94-2.06-.94 2.06-2.06.94zm-11 1L8.5 8.5l.94-2.06 2.06-.94-2.06-.94L8.5 2.5l-.94 2.06-2.06.94zm10 10l.94 2.06.94-2.06 2.06-.94-2.06-.94-.94-2.06-.94 2.06-2.06.94z\"/><path d=\"M17.41 7.96l-1.37-1.37c-.4-.4-.92-.59-1.43-.59-.52 0-1.04.2-1.43.59L10.3 9.45l-7.72 7.72c-.78.78-.78 2.05 0 2.83L4 21.41c.39.39.9.59 1.41.59.51 0 1.02-.2 1.41-.59l7.78-7.78 2.81-2.81c.8-.78.8-2.07 0-2.86zM5.41 20L4 18.59l7.72-7.72 1.47 1.35L5.41 20z\"/>\n",
              "  </svg>\n",
              "      </button>\n",
              "      \n",
              "  <style>\n",
              "    .colab-df-container {\n",
              "      display:flex;\n",
              "      flex-wrap:wrap;\n",
              "      gap: 12px;\n",
              "    }\n",
              "\n",
              "    .colab-df-convert {\n",
              "      background-color: #E8F0FE;\n",
              "      border: none;\n",
              "      border-radius: 50%;\n",
              "      cursor: pointer;\n",
              "      display: none;\n",
              "      fill: #1967D2;\n",
              "      height: 32px;\n",
              "      padding: 0 0 0 0;\n",
              "      width: 32px;\n",
              "    }\n",
              "\n",
              "    .colab-df-convert:hover {\n",
              "      background-color: #E2EBFA;\n",
              "      box-shadow: 0px 1px 2px rgba(60, 64, 67, 0.3), 0px 1px 3px 1px rgba(60, 64, 67, 0.15);\n",
              "      fill: #174EA6;\n",
              "    }\n",
              "\n",
              "    [theme=dark] .colab-df-convert {\n",
              "      background-color: #3B4455;\n",
              "      fill: #D2E3FC;\n",
              "    }\n",
              "\n",
              "    [theme=dark] .colab-df-convert:hover {\n",
              "      background-color: #434B5C;\n",
              "      box-shadow: 0px 1px 3px 1px rgba(0, 0, 0, 0.15);\n",
              "      filter: drop-shadow(0px 1px 2px rgba(0, 0, 0, 0.3));\n",
              "      fill: #FFFFFF;\n",
              "    }\n",
              "  </style>\n",
              "\n",
              "      <script>\n",
              "        const buttonEl =\n",
              "          document.querySelector('#df-9fe11c1b-7304-4c2a-89de-e12906bda252 button.colab-df-convert');\n",
              "        buttonEl.style.display =\n",
              "          google.colab.kernel.accessAllowed ? 'block' : 'none';\n",
              "\n",
              "        async function convertToInteractive(key) {\n",
              "          const element = document.querySelector('#df-9fe11c1b-7304-4c2a-89de-e12906bda252');\n",
              "          const dataTable =\n",
              "            await google.colab.kernel.invokeFunction('convertToInteractive',\n",
              "                                                     [key], {});\n",
              "          if (!dataTable) return;\n",
              "\n",
              "          const docLinkHtml = 'Like what you see? Visit the ' +\n",
              "            '<a target=\"_blank\" href=https://colab.research.google.com/notebooks/data_table.ipynb>data table notebook</a>'\n",
              "            + ' to learn more about interactive tables.';\n",
              "          element.innerHTML = '';\n",
              "          dataTable['output_type'] = 'display_data';\n",
              "          await google.colab.output.renderOutput(dataTable, element);\n",
              "          const docLink = document.createElement('div');\n",
              "          docLink.innerHTML = docLinkHtml;\n",
              "          element.appendChild(docLink);\n",
              "        }\n",
              "      </script>\n",
              "    </div>\n",
              "  </div>\n",
              "  "
            ]
          },
          "metadata": {},
          "execution_count": 43
        }
      ]
    },
    {
      "cell_type": "code",
      "source": [
        "narations['no_name'] = narations['no_name'].apply(tokenize)\n",
        "narations.head()"
      ],
      "metadata": {
        "execution": {
          "iopub.status.busy": "2023-05-27T15:48:26.496277Z",
          "iopub.execute_input": "2023-05-27T15:48:26.496822Z",
          "iopub.status.idle": "2023-05-27T15:48:40.799731Z",
          "shell.execute_reply.started": "2023-05-27T15:48:26.496792Z",
          "shell.execute_reply": "2023-05-27T15:48:40.798405Z"
        },
        "trusted": true,
        "id": "lct3MUGBGwBp",
        "outputId": "722baca8-280f-441b-847b-8bbbe59abb0e",
        "colab": {
          "base_uri": "https://localhost:8080/",
          "height": 206
        }
      },
      "execution_count": 44,
      "outputs": [
        {
          "output_type": "execute_result",
          "data": {
            "text/plain": [
              "                                            NARATION    AC_ID  \\\n",
              "0                                      Cash Withdraw  3644877   \n",
              "1                     Cash Withdrawal From A/C No.:   1175256   \n",
              "2   Cash withdraw from Micro Merchant point, MM A/C   2298226   \n",
              "3  Credit Against Merchant Cash Withdraw Service ...  4066427   \n",
              "4                          Cash Deposit to A/C No.:     38418   \n",
              "\n",
              "                                           no_name  \n",
              "0                                 [cash, withdraw]  \n",
              "1                           [cash, withdrawal, ac]  \n",
              "2         [cash, withdraw, micro, merchant, point]  \n",
              "3  [credit, merchant, cash, withdraw, service, ac]  \n",
              "4                              [cash, deposit, ac]  "
            ],
            "text/html": [
              "\n",
              "  <div id=\"df-2e9b6887-e96b-4104-8302-6a7f8413cb55\">\n",
              "    <div class=\"colab-df-container\">\n",
              "      <div>\n",
              "<style scoped>\n",
              "    .dataframe tbody tr th:only-of-type {\n",
              "        vertical-align: middle;\n",
              "    }\n",
              "\n",
              "    .dataframe tbody tr th {\n",
              "        vertical-align: top;\n",
              "    }\n",
              "\n",
              "    .dataframe thead th {\n",
              "        text-align: right;\n",
              "    }\n",
              "</style>\n",
              "<table border=\"1\" class=\"dataframe\">\n",
              "  <thead>\n",
              "    <tr style=\"text-align: right;\">\n",
              "      <th></th>\n",
              "      <th>NARATION</th>\n",
              "      <th>AC_ID</th>\n",
              "      <th>no_name</th>\n",
              "    </tr>\n",
              "  </thead>\n",
              "  <tbody>\n",
              "    <tr>\n",
              "      <th>0</th>\n",
              "      <td>Cash Withdraw</td>\n",
              "      <td>3644877</td>\n",
              "      <td>[cash, withdraw]</td>\n",
              "    </tr>\n",
              "    <tr>\n",
              "      <th>1</th>\n",
              "      <td>Cash Withdrawal From A/C No.:</td>\n",
              "      <td>1175256</td>\n",
              "      <td>[cash, withdrawal, ac]</td>\n",
              "    </tr>\n",
              "    <tr>\n",
              "      <th>2</th>\n",
              "      <td>Cash withdraw from Micro Merchant point, MM A/C</td>\n",
              "      <td>2298226</td>\n",
              "      <td>[cash, withdraw, micro, merchant, point]</td>\n",
              "    </tr>\n",
              "    <tr>\n",
              "      <th>3</th>\n",
              "      <td>Credit Against Merchant Cash Withdraw Service ...</td>\n",
              "      <td>4066427</td>\n",
              "      <td>[credit, merchant, cash, withdraw, service, ac]</td>\n",
              "    </tr>\n",
              "    <tr>\n",
              "      <th>4</th>\n",
              "      <td>Cash Deposit to A/C No.:</td>\n",
              "      <td>38418</td>\n",
              "      <td>[cash, deposit, ac]</td>\n",
              "    </tr>\n",
              "  </tbody>\n",
              "</table>\n",
              "</div>\n",
              "      <button class=\"colab-df-convert\" onclick=\"convertToInteractive('df-2e9b6887-e96b-4104-8302-6a7f8413cb55')\"\n",
              "              title=\"Convert this dataframe to an interactive table.\"\n",
              "              style=\"display:none;\">\n",
              "        \n",
              "  <svg xmlns=\"http://www.w3.org/2000/svg\" height=\"24px\"viewBox=\"0 0 24 24\"\n",
              "       width=\"24px\">\n",
              "    <path d=\"M0 0h24v24H0V0z\" fill=\"none\"/>\n",
              "    <path d=\"M18.56 5.44l.94 2.06.94-2.06 2.06-.94-2.06-.94-.94-2.06-.94 2.06-2.06.94zm-11 1L8.5 8.5l.94-2.06 2.06-.94-2.06-.94L8.5 2.5l-.94 2.06-2.06.94zm10 10l.94 2.06.94-2.06 2.06-.94-2.06-.94-.94-2.06-.94 2.06-2.06.94z\"/><path d=\"M17.41 7.96l-1.37-1.37c-.4-.4-.92-.59-1.43-.59-.52 0-1.04.2-1.43.59L10.3 9.45l-7.72 7.72c-.78.78-.78 2.05 0 2.83L4 21.41c.39.39.9.59 1.41.59.51 0 1.02-.2 1.41-.59l7.78-7.78 2.81-2.81c.8-.78.8-2.07 0-2.86zM5.41 20L4 18.59l7.72-7.72 1.47 1.35L5.41 20z\"/>\n",
              "  </svg>\n",
              "      </button>\n",
              "      \n",
              "  <style>\n",
              "    .colab-df-container {\n",
              "      display:flex;\n",
              "      flex-wrap:wrap;\n",
              "      gap: 12px;\n",
              "    }\n",
              "\n",
              "    .colab-df-convert {\n",
              "      background-color: #E8F0FE;\n",
              "      border: none;\n",
              "      border-radius: 50%;\n",
              "      cursor: pointer;\n",
              "      display: none;\n",
              "      fill: #1967D2;\n",
              "      height: 32px;\n",
              "      padding: 0 0 0 0;\n",
              "      width: 32px;\n",
              "    }\n",
              "\n",
              "    .colab-df-convert:hover {\n",
              "      background-color: #E2EBFA;\n",
              "      box-shadow: 0px 1px 2px rgba(60, 64, 67, 0.3), 0px 1px 3px 1px rgba(60, 64, 67, 0.15);\n",
              "      fill: #174EA6;\n",
              "    }\n",
              "\n",
              "    [theme=dark] .colab-df-convert {\n",
              "      background-color: #3B4455;\n",
              "      fill: #D2E3FC;\n",
              "    }\n",
              "\n",
              "    [theme=dark] .colab-df-convert:hover {\n",
              "      background-color: #434B5C;\n",
              "      box-shadow: 0px 1px 3px 1px rgba(0, 0, 0, 0.15);\n",
              "      filter: drop-shadow(0px 1px 2px rgba(0, 0, 0, 0.3));\n",
              "      fill: #FFFFFF;\n",
              "    }\n",
              "  </style>\n",
              "\n",
              "      <script>\n",
              "        const buttonEl =\n",
              "          document.querySelector('#df-2e9b6887-e96b-4104-8302-6a7f8413cb55 button.colab-df-convert');\n",
              "        buttonEl.style.display =\n",
              "          google.colab.kernel.accessAllowed ? 'block' : 'none';\n",
              "\n",
              "        async function convertToInteractive(key) {\n",
              "          const element = document.querySelector('#df-2e9b6887-e96b-4104-8302-6a7f8413cb55');\n",
              "          const dataTable =\n",
              "            await google.colab.kernel.invokeFunction('convertToInteractive',\n",
              "                                                     [key], {});\n",
              "          if (!dataTable) return;\n",
              "\n",
              "          const docLinkHtml = 'Like what you see? Visit the ' +\n",
              "            '<a target=\"_blank\" href=https://colab.research.google.com/notebooks/data_table.ipynb>data table notebook</a>'\n",
              "            + ' to learn more about interactive tables.';\n",
              "          element.innerHTML = '';\n",
              "          dataTable['output_type'] = 'display_data';\n",
              "          await google.colab.output.renderOutput(dataTable, element);\n",
              "          const docLink = document.createElement('div');\n",
              "          docLink.innerHTML = docLinkHtml;\n",
              "          element.appendChild(docLink);\n",
              "        }\n",
              "      </script>\n",
              "    </div>\n",
              "  </div>\n",
              "  "
            ]
          },
          "metadata": {},
          "execution_count": 44
        }
      ]
    },
    {
      "cell_type": "code",
      "source": [
        "tokens=narations['NARATION'].tolist()\n",
        "narations['st_tokens']=narations['no_name']\n",
        "narations=narations.drop('NARATION',axis=1)\n",
        "# narations['st_tokens'] = narations['NARATION'].apply(lambda x: [ps.stem(word) for word in x])"
      ],
      "metadata": {
        "execution": {
          "iopub.status.busy": "2023-05-27T15:48:47.579657Z",
          "iopub.execute_input": "2023-05-27T15:48:47.580045Z",
          "iopub.status.idle": "2023-05-27T15:48:47.595542Z",
          "shell.execute_reply.started": "2023-05-27T15:48:47.580015Z",
          "shell.execute_reply": "2023-05-27T15:48:47.594321Z"
        },
        "trusted": true,
        "id": "2m7WD9l5GwBp"
      },
      "execution_count": 45,
      "outputs": []
    },
    {
      "cell_type": "code",
      "source": [
        "narations.head()"
      ],
      "metadata": {
        "execution": {
          "iopub.status.busy": "2023-05-27T15:48:51.509216Z",
          "iopub.execute_input": "2023-05-27T15:48:51.509793Z",
          "iopub.status.idle": "2023-05-27T15:48:51.520944Z",
          "shell.execute_reply.started": "2023-05-27T15:48:51.509757Z",
          "shell.execute_reply": "2023-05-27T15:48:51.520257Z"
        },
        "trusted": true,
        "id": "ogKu-ytAGwBp",
        "outputId": "0ff45ffe-6dbd-42d3-eb20-00095adeeb50",
        "colab": {
          "base_uri": "https://localhost:8080/",
          "height": 206
        }
      },
      "execution_count": 46,
      "outputs": [
        {
          "output_type": "execute_result",
          "data": {
            "text/plain": [
              "     AC_ID                                          no_name  \\\n",
              "0  3644877                                 [cash, withdraw]   \n",
              "1  1175256                           [cash, withdrawal, ac]   \n",
              "2  2298226         [cash, withdraw, micro, merchant, point]   \n",
              "3  4066427  [credit, merchant, cash, withdraw, service, ac]   \n",
              "4    38418                              [cash, deposit, ac]   \n",
              "\n",
              "                                         st_tokens  \n",
              "0                                 [cash, withdraw]  \n",
              "1                           [cash, withdrawal, ac]  \n",
              "2         [cash, withdraw, micro, merchant, point]  \n",
              "3  [credit, merchant, cash, withdraw, service, ac]  \n",
              "4                              [cash, deposit, ac]  "
            ],
            "text/html": [
              "\n",
              "  <div id=\"df-5f17301a-5110-4db6-8275-ca4f19cdcb1c\">\n",
              "    <div class=\"colab-df-container\">\n",
              "      <div>\n",
              "<style scoped>\n",
              "    .dataframe tbody tr th:only-of-type {\n",
              "        vertical-align: middle;\n",
              "    }\n",
              "\n",
              "    .dataframe tbody tr th {\n",
              "        vertical-align: top;\n",
              "    }\n",
              "\n",
              "    .dataframe thead th {\n",
              "        text-align: right;\n",
              "    }\n",
              "</style>\n",
              "<table border=\"1\" class=\"dataframe\">\n",
              "  <thead>\n",
              "    <tr style=\"text-align: right;\">\n",
              "      <th></th>\n",
              "      <th>AC_ID</th>\n",
              "      <th>no_name</th>\n",
              "      <th>st_tokens</th>\n",
              "    </tr>\n",
              "  </thead>\n",
              "  <tbody>\n",
              "    <tr>\n",
              "      <th>0</th>\n",
              "      <td>3644877</td>\n",
              "      <td>[cash, withdraw]</td>\n",
              "      <td>[cash, withdraw]</td>\n",
              "    </tr>\n",
              "    <tr>\n",
              "      <th>1</th>\n",
              "      <td>1175256</td>\n",
              "      <td>[cash, withdrawal, ac]</td>\n",
              "      <td>[cash, withdrawal, ac]</td>\n",
              "    </tr>\n",
              "    <tr>\n",
              "      <th>2</th>\n",
              "      <td>2298226</td>\n",
              "      <td>[cash, withdraw, micro, merchant, point]</td>\n",
              "      <td>[cash, withdraw, micro, merchant, point]</td>\n",
              "    </tr>\n",
              "    <tr>\n",
              "      <th>3</th>\n",
              "      <td>4066427</td>\n",
              "      <td>[credit, merchant, cash, withdraw, service, ac]</td>\n",
              "      <td>[credit, merchant, cash, withdraw, service, ac]</td>\n",
              "    </tr>\n",
              "    <tr>\n",
              "      <th>4</th>\n",
              "      <td>38418</td>\n",
              "      <td>[cash, deposit, ac]</td>\n",
              "      <td>[cash, deposit, ac]</td>\n",
              "    </tr>\n",
              "  </tbody>\n",
              "</table>\n",
              "</div>\n",
              "      <button class=\"colab-df-convert\" onclick=\"convertToInteractive('df-5f17301a-5110-4db6-8275-ca4f19cdcb1c')\"\n",
              "              title=\"Convert this dataframe to an interactive table.\"\n",
              "              style=\"display:none;\">\n",
              "        \n",
              "  <svg xmlns=\"http://www.w3.org/2000/svg\" height=\"24px\"viewBox=\"0 0 24 24\"\n",
              "       width=\"24px\">\n",
              "    <path d=\"M0 0h24v24H0V0z\" fill=\"none\"/>\n",
              "    <path d=\"M18.56 5.44l.94 2.06.94-2.06 2.06-.94-2.06-.94-.94-2.06-.94 2.06-2.06.94zm-11 1L8.5 8.5l.94-2.06 2.06-.94-2.06-.94L8.5 2.5l-.94 2.06-2.06.94zm10 10l.94 2.06.94-2.06 2.06-.94-2.06-.94-.94-2.06-.94 2.06-2.06.94z\"/><path d=\"M17.41 7.96l-1.37-1.37c-.4-.4-.92-.59-1.43-.59-.52 0-1.04.2-1.43.59L10.3 9.45l-7.72 7.72c-.78.78-.78 2.05 0 2.83L4 21.41c.39.39.9.59 1.41.59.51 0 1.02-.2 1.41-.59l7.78-7.78 2.81-2.81c.8-.78.8-2.07 0-2.86zM5.41 20L4 18.59l7.72-7.72 1.47 1.35L5.41 20z\"/>\n",
              "  </svg>\n",
              "      </button>\n",
              "      \n",
              "  <style>\n",
              "    .colab-df-container {\n",
              "      display:flex;\n",
              "      flex-wrap:wrap;\n",
              "      gap: 12px;\n",
              "    }\n",
              "\n",
              "    .colab-df-convert {\n",
              "      background-color: #E8F0FE;\n",
              "      border: none;\n",
              "      border-radius: 50%;\n",
              "      cursor: pointer;\n",
              "      display: none;\n",
              "      fill: #1967D2;\n",
              "      height: 32px;\n",
              "      padding: 0 0 0 0;\n",
              "      width: 32px;\n",
              "    }\n",
              "\n",
              "    .colab-df-convert:hover {\n",
              "      background-color: #E2EBFA;\n",
              "      box-shadow: 0px 1px 2px rgba(60, 64, 67, 0.3), 0px 1px 3px 1px rgba(60, 64, 67, 0.15);\n",
              "      fill: #174EA6;\n",
              "    }\n",
              "\n",
              "    [theme=dark] .colab-df-convert {\n",
              "      background-color: #3B4455;\n",
              "      fill: #D2E3FC;\n",
              "    }\n",
              "\n",
              "    [theme=dark] .colab-df-convert:hover {\n",
              "      background-color: #434B5C;\n",
              "      box-shadow: 0px 1px 3px 1px rgba(0, 0, 0, 0.15);\n",
              "      filter: drop-shadow(0px 1px 2px rgba(0, 0, 0, 0.3));\n",
              "      fill: #FFFFFF;\n",
              "    }\n",
              "  </style>\n",
              "\n",
              "      <script>\n",
              "        const buttonEl =\n",
              "          document.querySelector('#df-5f17301a-5110-4db6-8275-ca4f19cdcb1c button.colab-df-convert');\n",
              "        buttonEl.style.display =\n",
              "          google.colab.kernel.accessAllowed ? 'block' : 'none';\n",
              "\n",
              "        async function convertToInteractive(key) {\n",
              "          const element = document.querySelector('#df-5f17301a-5110-4db6-8275-ca4f19cdcb1c');\n",
              "          const dataTable =\n",
              "            await google.colab.kernel.invokeFunction('convertToInteractive',\n",
              "                                                     [key], {});\n",
              "          if (!dataTable) return;\n",
              "\n",
              "          const docLinkHtml = 'Like what you see? Visit the ' +\n",
              "            '<a target=\"_blank\" href=https://colab.research.google.com/notebooks/data_table.ipynb>data table notebook</a>'\n",
              "            + ' to learn more about interactive tables.';\n",
              "          element.innerHTML = '';\n",
              "          dataTable['output_type'] = 'display_data';\n",
              "          await google.colab.output.renderOutput(dataTable, element);\n",
              "          const docLink = document.createElement('div');\n",
              "          docLink.innerHTML = docLinkHtml;\n",
              "          element.appendChild(docLink);\n",
              "        }\n",
              "      </script>\n",
              "    </div>\n",
              "  </div>\n",
              "  "
            ]
          },
          "metadata": {},
          "execution_count": 46
        }
      ]
    },
    {
      "cell_type": "code",
      "source": [
        "narations=narations.drop('no_name',axis=1)"
      ],
      "metadata": {
        "id": "SBbN9MXnRyXM"
      },
      "execution_count": 47,
      "outputs": []
    },
    {
      "cell_type": "code",
      "source": [
        "# narations = narations.drop('NARATION', axis=1)\n",
        "narations.head()"
      ],
      "metadata": {
        "execution": {
          "iopub.status.busy": "2023-05-27T15:48:55.747201Z",
          "iopub.execute_input": "2023-05-27T15:48:55.747550Z",
          "iopub.status.idle": "2023-05-27T15:48:55.768622Z",
          "shell.execute_reply.started": "2023-05-27T15:48:55.747520Z",
          "shell.execute_reply": "2023-05-27T15:48:55.767242Z"
        },
        "trusted": true,
        "id": "ErxvRX7LGwBq",
        "outputId": "16a857a2-a123-4ecb-f16a-1f96a01e92a7",
        "colab": {
          "base_uri": "https://localhost:8080/",
          "height": 206
        }
      },
      "execution_count": 48,
      "outputs": [
        {
          "output_type": "execute_result",
          "data": {
            "text/plain": [
              "     AC_ID                                        st_tokens\n",
              "0  3644877                                 [cash, withdraw]\n",
              "1  1175256                           [cash, withdrawal, ac]\n",
              "2  2298226         [cash, withdraw, micro, merchant, point]\n",
              "3  4066427  [credit, merchant, cash, withdraw, service, ac]\n",
              "4    38418                              [cash, deposit, ac]"
            ],
            "text/html": [
              "\n",
              "  <div id=\"df-e8adf329-6df1-4b01-a1d2-21c740794f21\">\n",
              "    <div class=\"colab-df-container\">\n",
              "      <div>\n",
              "<style scoped>\n",
              "    .dataframe tbody tr th:only-of-type {\n",
              "        vertical-align: middle;\n",
              "    }\n",
              "\n",
              "    .dataframe tbody tr th {\n",
              "        vertical-align: top;\n",
              "    }\n",
              "\n",
              "    .dataframe thead th {\n",
              "        text-align: right;\n",
              "    }\n",
              "</style>\n",
              "<table border=\"1\" class=\"dataframe\">\n",
              "  <thead>\n",
              "    <tr style=\"text-align: right;\">\n",
              "      <th></th>\n",
              "      <th>AC_ID</th>\n",
              "      <th>st_tokens</th>\n",
              "    </tr>\n",
              "  </thead>\n",
              "  <tbody>\n",
              "    <tr>\n",
              "      <th>0</th>\n",
              "      <td>3644877</td>\n",
              "      <td>[cash, withdraw]</td>\n",
              "    </tr>\n",
              "    <tr>\n",
              "      <th>1</th>\n",
              "      <td>1175256</td>\n",
              "      <td>[cash, withdrawal, ac]</td>\n",
              "    </tr>\n",
              "    <tr>\n",
              "      <th>2</th>\n",
              "      <td>2298226</td>\n",
              "      <td>[cash, withdraw, micro, merchant, point]</td>\n",
              "    </tr>\n",
              "    <tr>\n",
              "      <th>3</th>\n",
              "      <td>4066427</td>\n",
              "      <td>[credit, merchant, cash, withdraw, service, ac]</td>\n",
              "    </tr>\n",
              "    <tr>\n",
              "      <th>4</th>\n",
              "      <td>38418</td>\n",
              "      <td>[cash, deposit, ac]</td>\n",
              "    </tr>\n",
              "  </tbody>\n",
              "</table>\n",
              "</div>\n",
              "      <button class=\"colab-df-convert\" onclick=\"convertToInteractive('df-e8adf329-6df1-4b01-a1d2-21c740794f21')\"\n",
              "              title=\"Convert this dataframe to an interactive table.\"\n",
              "              style=\"display:none;\">\n",
              "        \n",
              "  <svg xmlns=\"http://www.w3.org/2000/svg\" height=\"24px\"viewBox=\"0 0 24 24\"\n",
              "       width=\"24px\">\n",
              "    <path d=\"M0 0h24v24H0V0z\" fill=\"none\"/>\n",
              "    <path d=\"M18.56 5.44l.94 2.06.94-2.06 2.06-.94-2.06-.94-.94-2.06-.94 2.06-2.06.94zm-11 1L8.5 8.5l.94-2.06 2.06-.94-2.06-.94L8.5 2.5l-.94 2.06-2.06.94zm10 10l.94 2.06.94-2.06 2.06-.94-2.06-.94-.94-2.06-.94 2.06-2.06.94z\"/><path d=\"M17.41 7.96l-1.37-1.37c-.4-.4-.92-.59-1.43-.59-.52 0-1.04.2-1.43.59L10.3 9.45l-7.72 7.72c-.78.78-.78 2.05 0 2.83L4 21.41c.39.39.9.59 1.41.59.51 0 1.02-.2 1.41-.59l7.78-7.78 2.81-2.81c.8-.78.8-2.07 0-2.86zM5.41 20L4 18.59l7.72-7.72 1.47 1.35L5.41 20z\"/>\n",
              "  </svg>\n",
              "      </button>\n",
              "      \n",
              "  <style>\n",
              "    .colab-df-container {\n",
              "      display:flex;\n",
              "      flex-wrap:wrap;\n",
              "      gap: 12px;\n",
              "    }\n",
              "\n",
              "    .colab-df-convert {\n",
              "      background-color: #E8F0FE;\n",
              "      border: none;\n",
              "      border-radius: 50%;\n",
              "      cursor: pointer;\n",
              "      display: none;\n",
              "      fill: #1967D2;\n",
              "      height: 32px;\n",
              "      padding: 0 0 0 0;\n",
              "      width: 32px;\n",
              "    }\n",
              "\n",
              "    .colab-df-convert:hover {\n",
              "      background-color: #E2EBFA;\n",
              "      box-shadow: 0px 1px 2px rgba(60, 64, 67, 0.3), 0px 1px 3px 1px rgba(60, 64, 67, 0.15);\n",
              "      fill: #174EA6;\n",
              "    }\n",
              "\n",
              "    [theme=dark] .colab-df-convert {\n",
              "      background-color: #3B4455;\n",
              "      fill: #D2E3FC;\n",
              "    }\n",
              "\n",
              "    [theme=dark] .colab-df-convert:hover {\n",
              "      background-color: #434B5C;\n",
              "      box-shadow: 0px 1px 3px 1px rgba(0, 0, 0, 0.15);\n",
              "      filter: drop-shadow(0px 1px 2px rgba(0, 0, 0, 0.3));\n",
              "      fill: #FFFFFF;\n",
              "    }\n",
              "  </style>\n",
              "\n",
              "      <script>\n",
              "        const buttonEl =\n",
              "          document.querySelector('#df-e8adf329-6df1-4b01-a1d2-21c740794f21 button.colab-df-convert');\n",
              "        buttonEl.style.display =\n",
              "          google.colab.kernel.accessAllowed ? 'block' : 'none';\n",
              "\n",
              "        async function convertToInteractive(key) {\n",
              "          const element = document.querySelector('#df-e8adf329-6df1-4b01-a1d2-21c740794f21');\n",
              "          const dataTable =\n",
              "            await google.colab.kernel.invokeFunction('convertToInteractive',\n",
              "                                                     [key], {});\n",
              "          if (!dataTable) return;\n",
              "\n",
              "          const docLinkHtml = 'Like what you see? Visit the ' +\n",
              "            '<a target=\"_blank\" href=https://colab.research.google.com/notebooks/data_table.ipynb>data table notebook</a>'\n",
              "            + ' to learn more about interactive tables.';\n",
              "          element.innerHTML = '';\n",
              "          dataTable['output_type'] = 'display_data';\n",
              "          await google.colab.output.renderOutput(dataTable, element);\n",
              "          const docLink = document.createElement('div');\n",
              "          docLink.innerHTML = docLinkHtml;\n",
              "          element.appendChild(docLink);\n",
              "        }\n",
              "      </script>\n",
              "    </div>\n",
              "  </div>\n",
              "  "
            ]
          },
          "metadata": {},
          "execution_count": 48
        }
      ]
    },
    {
      "cell_type": "code",
      "source": [
        "\n",
        "def to_list(text,ls):\n",
        "  \n",
        "  for x in text:\n",
        "    ls.append(x)\n",
        "    "
      ],
      "metadata": {
        "id": "1r54Ue-ZUkme"
      },
      "execution_count": 3,
      "outputs": []
    },
    {
      "cell_type": "code",
      "source": [
        "t_list=list()\n",
        "for index, row in narations.iterrows():\n",
        "    # print(\"Row Index:\", index)\n",
        "    # print(\"Column 1:\", row['st_tokens'])\n",
        "    to_list(row['st_tokens'],t_list)"
      ],
      "metadata": {
        "colab": {
          "base_uri": "https://localhost:8080/",
          "height": 235
        },
        "id": "zZPBi5v6U3Io",
        "outputId": "56f93dd0-2339-4562-a7c2-d69b1ed05fc1"
      },
      "execution_count": 4,
      "outputs": [
        {
          "output_type": "error",
          "ename": "NameError",
          "evalue": "ignored",
          "traceback": [
            "\u001b[0;31m---------------------------------------------------------------------------\u001b[0m",
            "\u001b[0;31mNameError\u001b[0m                                 Traceback (most recent call last)",
            "\u001b[0;32m<ipython-input-4-664745970deb>\u001b[0m in \u001b[0;36m<cell line: 2>\u001b[0;34m()\u001b[0m\n\u001b[1;32m      1\u001b[0m \u001b[0mt_list\u001b[0m\u001b[0;34m=\u001b[0m\u001b[0mlist\u001b[0m\u001b[0;34m(\u001b[0m\u001b[0;34m)\u001b[0m\u001b[0;34m\u001b[0m\u001b[0;34m\u001b[0m\u001b[0m\n\u001b[0;32m----> 2\u001b[0;31m \u001b[0;32mfor\u001b[0m \u001b[0mindex\u001b[0m\u001b[0;34m,\u001b[0m \u001b[0mrow\u001b[0m \u001b[0;32min\u001b[0m \u001b[0mnarations\u001b[0m\u001b[0;34m.\u001b[0m\u001b[0miterrows\u001b[0m\u001b[0;34m(\u001b[0m\u001b[0;34m)\u001b[0m\u001b[0;34m:\u001b[0m\u001b[0;34m\u001b[0m\u001b[0;34m\u001b[0m\u001b[0m\n\u001b[0m\u001b[1;32m      3\u001b[0m     \u001b[0;31m# print(\"Row Index:\", index)\u001b[0m\u001b[0;34m\u001b[0m\u001b[0;34m\u001b[0m\u001b[0m\n\u001b[1;32m      4\u001b[0m     \u001b[0;31m# print(\"Column 1:\", row['st_tokens'])\u001b[0m\u001b[0;34m\u001b[0m\u001b[0;34m\u001b[0m\u001b[0m\n\u001b[1;32m      5\u001b[0m     \u001b[0mto_list\u001b[0m\u001b[0;34m(\u001b[0m\u001b[0mrow\u001b[0m\u001b[0;34m[\u001b[0m\u001b[0;34m'st_tokens'\u001b[0m\u001b[0;34m]\u001b[0m\u001b[0;34m,\u001b[0m\u001b[0mt_list\u001b[0m\u001b[0;34m)\u001b[0m\u001b[0;34m\u001b[0m\u001b[0;34m\u001b[0m\u001b[0m\n",
            "\u001b[0;31mNameError\u001b[0m: name 'narations' is not defined"
          ]
        }
      ]
    },
    {
      "cell_type": "code",
      "source": [
        "t_list[:10]"
      ],
      "metadata": {
        "colab": {
          "base_uri": "https://localhost:8080/"
        },
        "id": "z_gONNH_bIHW",
        "outputId": "32285e05-4531-4a73-872c-b8cd3e9eb8f6"
      },
      "execution_count": 93,
      "outputs": [
        {
          "output_type": "execute_result",
          "data": {
            "text/plain": [
              "['cash',\n",
              " 'withdraw',\n",
              " 'cash',\n",
              " 'withdrawal',\n",
              " 'ac',\n",
              " 'cash',\n",
              " 'withdraw',\n",
              " 'micro',\n",
              " 'merchant',\n",
              " 'point']"
            ]
          },
          "metadata": {},
          "execution_count": 93
        }
      ]
    },
    {
      "cell_type": "code",
      "source": [
        "import matplotlib.pyplot as plt\n"
      ],
      "metadata": {
        "id": "SZ6gPqH_SSQH"
      },
      "execution_count": 108,
      "outputs": []
    },
    {
      "cell_type": "code",
      "source": [
        "\n",
        "token_frequencies = t_list.count('cash')\n",
        "token_frequencies"
      ],
      "metadata": {
        "colab": {
          "base_uri": "https://localhost:8080/",
          "height": 182
        },
        "id": "lae9cI1AScfL",
        "outputId": "b1278f30-4bf2-4289-f661-4e9adac7d863"
      },
      "execution_count": 2,
      "outputs": [
        {
          "output_type": "error",
          "ename": "NameError",
          "evalue": "ignored",
          "traceback": [
            "\u001b[0;31m---------------------------------------------------------------------------\u001b[0m",
            "\u001b[0;31mNameError\u001b[0m                                 Traceback (most recent call last)",
            "\u001b[0;32m<ipython-input-2-d354f9eebe39>\u001b[0m in \u001b[0;36m<cell line: 1>\u001b[0;34m()\u001b[0m\n\u001b[0;32m----> 1\u001b[0;31m \u001b[0mtoken_frequencies\u001b[0m \u001b[0;34m=\u001b[0m \u001b[0mt_list\u001b[0m\u001b[0;34m.\u001b[0m\u001b[0mcount\u001b[0m\u001b[0;34m(\u001b[0m\u001b[0;34m'cash'\u001b[0m\u001b[0;34m)\u001b[0m\u001b[0;34m\u001b[0m\u001b[0;34m\u001b[0m\u001b[0m\n\u001b[0m\u001b[1;32m      2\u001b[0m \u001b[0mtoken_frequencies\u001b[0m\u001b[0;34m\u001b[0m\u001b[0;34m\u001b[0m\u001b[0m\n",
            "\u001b[0;31mNameError\u001b[0m: name 't_list' is not defined"
          ]
        }
      ]
    },
    {
      "cell_type": "code",
      "source": [
        "token_frequencies = {token: t_list.count(token) for token in t_list}\n",
        "\n",
        "# Sort the tokens by frequency in descending order\n",
        "sorted_tokens = sorted(token_frequencies.items(), key=lambda x: x[1], reverse=True)\n",
        "\n",
        "# Separate the tokens and frequencies for plotting\n",
        "sorted_tokens, frequencies = zip(*sorted_tokens)\n",
        "\n",
        "# Plot the token distribution\n",
        "plt.figure(figsize=(10, 6))\n",
        "plt.bar(range(len(sorted_tokens)), frequencies)\n",
        "plt.xticks(range(len(sorted_tokens)), sorted_tokens, rotation=45)\n",
        "plt.xlabel('Tokens')\n",
        "plt.ylabel('Frequency')\n",
        "plt.title('Token Distribution')\n",
        "plt.tight_layout()\n",
        "plt.show()"
      ],
      "metadata": {
        "colab": {
          "base_uri": "https://localhost:8080/",
          "height": 235
        },
        "id": "jnyr_vModDlT",
        "outputId": "1398395f-6b44-4dd1-a4ae-621078315f5e"
      },
      "execution_count": 1,
      "outputs": [
        {
          "output_type": "error",
          "ename": "NameError",
          "evalue": "ignored",
          "traceback": [
            "\u001b[0;31m---------------------------------------------------------------------------\u001b[0m",
            "\u001b[0;31mNameError\u001b[0m                                 Traceback (most recent call last)",
            "\u001b[0;32m<ipython-input-1-bf6dd26547e3>\u001b[0m in \u001b[0;36m<cell line: 1>\u001b[0;34m()\u001b[0m\n\u001b[0;32m----> 1\u001b[0;31m \u001b[0mtoken_frequencies\u001b[0m \u001b[0;34m=\u001b[0m \u001b[0;34m{\u001b[0m\u001b[0mtoken\u001b[0m\u001b[0;34m:\u001b[0m \u001b[0mt_list\u001b[0m\u001b[0;34m.\u001b[0m\u001b[0mcount\u001b[0m\u001b[0;34m(\u001b[0m\u001b[0mtoken\u001b[0m\u001b[0;34m)\u001b[0m \u001b[0;32mfor\u001b[0m \u001b[0mtoken\u001b[0m \u001b[0;32min\u001b[0m \u001b[0mt_list\u001b[0m\u001b[0;34m}\u001b[0m\u001b[0;34m\u001b[0m\u001b[0;34m\u001b[0m\u001b[0m\n\u001b[0m\u001b[1;32m      2\u001b[0m \u001b[0;34m\u001b[0m\u001b[0m\n\u001b[1;32m      3\u001b[0m \u001b[0;31m# Sort the tokens by frequency in descending order\u001b[0m\u001b[0;34m\u001b[0m\u001b[0;34m\u001b[0m\u001b[0m\n\u001b[1;32m      4\u001b[0m \u001b[0msorted_tokens\u001b[0m \u001b[0;34m=\u001b[0m \u001b[0msorted\u001b[0m\u001b[0;34m(\u001b[0m\u001b[0mtoken_frequencies\u001b[0m\u001b[0;34m.\u001b[0m\u001b[0mitems\u001b[0m\u001b[0;34m(\u001b[0m\u001b[0;34m)\u001b[0m\u001b[0;34m,\u001b[0m \u001b[0mkey\u001b[0m\u001b[0;34m=\u001b[0m\u001b[0;32mlambda\u001b[0m \u001b[0mx\u001b[0m\u001b[0;34m:\u001b[0m \u001b[0mx\u001b[0m\u001b[0;34m[\u001b[0m\u001b[0;36m1\u001b[0m\u001b[0;34m]\u001b[0m\u001b[0;34m,\u001b[0m \u001b[0mreverse\u001b[0m\u001b[0;34m=\u001b[0m\u001b[0;32mTrue\u001b[0m\u001b[0;34m)\u001b[0m\u001b[0;34m\u001b[0m\u001b[0;34m\u001b[0m\u001b[0m\n\u001b[1;32m      5\u001b[0m \u001b[0;34m\u001b[0m\u001b[0m\n",
            "\u001b[0;31mNameError\u001b[0m: name 't_list' is not defined"
          ]
        }
      ]
    },
    {
      "cell_type": "code",
      "source": [
        "token_list=narations['st_tokens'].tolist()"
      ],
      "metadata": {
        "id": "rj0cZBxfT0Gm"
      },
      "execution_count": 101,
      "outputs": []
    },
    {
      "cell_type": "code",
      "source": [
        "from gensim.models import Word2Vec\n",
        "\n",
        "# Assuming 'tokens' is a list of tokenized documents\n",
        "model = Word2Vec(token_list,min_count=1)\n",
        "# X = [model[token] for token in tokens]\n",
        "\n"
      ],
      "metadata": {
        "execution": {
          "iopub.status.busy": "2023-05-27T15:49:09.775190Z",
          "iopub.execute_input": "2023-05-27T15:49:09.775567Z",
          "iopub.status.idle": "2023-05-27T15:49:13.110477Z",
          "shell.execute_reply.started": "2023-05-27T15:49:09.775537Z",
          "shell.execute_reply": "2023-05-27T15:49:13.109448Z"
        },
        "trusted": true,
        "id": "8xOh1yPMGwBq"
      },
      "execution_count": 102,
      "outputs": []
    },
    {
      "cell_type": "code",
      "source": [
        "# X = [model[token] for token in tlist]\n",
        "print(model)"
      ],
      "metadata": {
        "execution": {
          "iopub.status.busy": "2023-05-27T15:49:17.588157Z",
          "iopub.execute_input": "2023-05-27T15:49:17.588547Z",
          "iopub.status.idle": "2023-05-27T15:49:17.594659Z",
          "shell.execute_reply.started": "2023-05-27T15:49:17.588517Z",
          "shell.execute_reply": "2023-05-27T15:49:17.593235Z"
        },
        "trusted": true,
        "id": "e_sXYyrBGwBq",
        "outputId": "8ddc04c7-fe27-4caa-cba9-b973cbb4b510",
        "colab": {
          "base_uri": "https://localhost:8080/"
        }
      },
      "execution_count": 103,
      "outputs": [
        {
          "output_type": "stream",
          "name": "stdout",
          "text": [
            "Word2Vec<vocab=29821, vector_size=100, alpha=0.025>\n"
          ]
        }
      ]
    },
    {
      "cell_type": "code",
      "source": [
        "t_words=model.wv.get_normed_vectors()\n",
        "print(t_words)"
      ],
      "metadata": {
        "trusted": true,
        "id": "MIC7EEgAGwBq",
        "colab": {
          "base_uri": "https://localhost:8080/"
        },
        "outputId": "d564af83-76a8-4001-b8a0-b49849340d27"
      },
      "execution_count": 104,
      "outputs": [
        {
          "output_type": "stream",
          "name": "stdout",
          "text": [
            "[[-0.05025823  0.05885948  0.15298453 ... -0.01456005 -0.15671103\n",
            "   0.27569836]\n",
            " [-0.0256922  -0.00921846  0.15108538 ... -0.106529   -0.18352996\n",
            "  -0.11074492]\n",
            " [-0.06389433  0.22184426  0.09105052 ... -0.01696318 -0.08006246\n",
            "  -0.00919911]\n",
            " ...\n",
            " [-0.08275154  0.08751228 -0.09460936 ... -0.03092741 -0.09852762\n",
            "  -0.00281331]\n",
            " [-0.04581774  0.14124598  0.13136163 ...  0.16093864 -0.16463889\n",
            "   0.03299479]\n",
            " [-0.10655071  0.2051845   0.02243524 ... -0.0463895   0.07329647\n",
            "   0.06470696]]\n"
          ]
        }
      ]
    },
    {
      "cell_type": "code",
      "source": [
        "print(model.wv.get_vector(\"withdraw\", norm=True))"
      ],
      "metadata": {
        "trusted": true,
        "id": "6Eq1_2X9GwBr",
        "colab": {
          "base_uri": "https://localhost:8080/"
        },
        "outputId": "9c541045-2de8-4f83-d44d-752e5bf6c4a2"
      },
      "execution_count": 105,
      "outputs": [
        {
          "output_type": "stream",
          "name": "stdout",
          "text": [
            "[-0.04963248  0.18182303  0.04590592  0.15512633  0.01525612 -0.15666851\n",
            " -0.04294953  0.05081056 -0.04342353 -0.09143724 -0.03513817  0.03924473\n",
            "  0.02760534  0.05177506  0.18960632 -0.03543645  0.18157908  0.09280758\n",
            " -0.30063316  0.00135898 -0.07734371  0.08122929 -0.03194524 -0.07275987\n",
            " -0.03292605  0.05670453 -0.05325881  0.05733931 -0.09937891  0.065571\n",
            "  0.11585244 -0.00279741 -0.1070388  -0.12303871 -0.11633062  0.03777803\n",
            "  0.16396508 -0.02478883 -0.0766813   0.1696893   0.05140898  0.12422208\n",
            "  0.10832338 -0.0160222   0.04233886  0.01380049 -0.03527202 -0.08661538\n",
            "  0.06374739 -0.08510115  0.04363981 -0.16584705 -0.14804032 -0.19075952\n",
            " -0.16496067  0.12429484  0.01622902  0.08666606 -0.00232593  0.08308371\n",
            "  0.13321273  0.09532047  0.07421363 -0.01880606  0.0464652   0.16719478\n",
            " -0.02812101  0.14867656 -0.11008611 -0.07682707  0.05399865 -0.04992559\n",
            "  0.03340019  0.06687181 -0.03407997  0.08685154  0.06179532  0.12107708\n",
            " -0.18090178 -0.14922725 -0.18669066  0.03162235 -0.00995782  0.09194473\n",
            " -0.08027917 -0.02408178  0.1706217   0.06093897  0.02639151 -0.07435493\n",
            "  0.00447801 -0.04396844 -0.06727551 -0.08363248  0.15046164  0.06560967\n",
            "  0.12810524 -0.08478997 -0.05699388  0.10492657]\n"
          ]
        }
      ]
    },
    {
      "cell_type": "code",
      "source": [
        "# print(model.wv.most_similar('ac'))"
      ],
      "metadata": {
        "trusted": true,
        "id": "122xXY2vGwBr"
      },
      "execution_count": null,
      "outputs": []
    },
    {
      "cell_type": "code",
      "source": [
        "# def vectorize(text):\n",
        "#     return [model.wv.get_vector(w ,norm=True) for w in word_tokenize(text)]"
      ],
      "metadata": {
        "trusted": true,
        "id": "ATena328GwBr"
      },
      "execution_count": null,
      "outputs": []
    },
    {
      "cell_type": "code",
      "source": [
        "# tokens_trx['vectorized']=tokens_trx['NARATION'].apply(vectorize)\n",
        "# print(vectorize(tokens_trx['NARATION'][0][1]))"
      ],
      "metadata": {
        "trusted": true,
        "id": "EIiZLTZIGwBr"
      },
      "execution_count": null,
      "outputs": []
    },
    {
      "cell_type": "code",
      "source": [
        "narations['vectorized'] = narations['st_tokens'].apply(lambda x: [model.wv.get_vector(word ,norm=True) for word in x])"
      ],
      "metadata": {
        "execution": {
          "iopub.status.busy": "2023-05-27T15:49:26.314712Z",
          "iopub.execute_input": "2023-05-27T15:49:26.315118Z",
          "iopub.status.idle": "2023-05-27T15:49:28.586005Z",
          "shell.execute_reply.started": "2023-05-27T15:49:26.315086Z",
          "shell.execute_reply": "2023-05-27T15:49:28.585211Z"
        },
        "trusted": true,
        "id": "M0atu95sGwBs"
      },
      "execution_count": 106,
      "outputs": []
    },
    {
      "cell_type": "code",
      "source": [
        "narations.head()"
      ],
      "metadata": {
        "execution": {
          "iopub.status.busy": "2023-05-27T15:49:33.530086Z",
          "iopub.execute_input": "2023-05-27T15:49:33.530491Z",
          "iopub.status.idle": "2023-05-27T15:49:33.562281Z",
          "shell.execute_reply.started": "2023-05-27T15:49:33.530449Z",
          "shell.execute_reply": "2023-05-27T15:49:33.561153Z"
        },
        "trusted": true,
        "id": "jUpNwDenGwBs",
        "outputId": "ce722ced-b349-4c02-971f-dae19bccc507",
        "colab": {
          "base_uri": "https://localhost:8080/",
          "height": 206
        }
      },
      "execution_count": 107,
      "outputs": [
        {
          "output_type": "execute_result",
          "data": {
            "text/plain": [
              "     AC_ID                                        st_tokens  \\\n",
              "0  3644877                                 [cash, withdraw]   \n",
              "1  1175256                           [cash, withdrawal, ac]   \n",
              "2  2298226         [cash, withdraw, micro, merchant, point]   \n",
              "3  4066427  [credit, merchant, cash, withdraw, service, ac]   \n",
              "4    38418                              [cash, deposit, ac]   \n",
              "\n",
              "                                          vectorized  \n",
              "0  [[-0.025692198, -0.009218461, 0.15108538, 0.35...  \n",
              "1  [[-0.025692198, -0.009218461, 0.15108538, 0.35...  \n",
              "2  [[-0.025692198, -0.009218461, 0.15108538, 0.35...  \n",
              "3  [[-0.04906462, 0.11778105, 0.07305838, 0.08519...  \n",
              "4  [[-0.025692198, -0.009218461, 0.15108538, 0.35...  "
            ],
            "text/html": [
              "\n",
              "  <div id=\"df-7f97b6bc-e645-4d5d-833b-3e1104240aa7\">\n",
              "    <div class=\"colab-df-container\">\n",
              "      <div>\n",
              "<style scoped>\n",
              "    .dataframe tbody tr th:only-of-type {\n",
              "        vertical-align: middle;\n",
              "    }\n",
              "\n",
              "    .dataframe tbody tr th {\n",
              "        vertical-align: top;\n",
              "    }\n",
              "\n",
              "    .dataframe thead th {\n",
              "        text-align: right;\n",
              "    }\n",
              "</style>\n",
              "<table border=\"1\" class=\"dataframe\">\n",
              "  <thead>\n",
              "    <tr style=\"text-align: right;\">\n",
              "      <th></th>\n",
              "      <th>AC_ID</th>\n",
              "      <th>st_tokens</th>\n",
              "      <th>vectorized</th>\n",
              "    </tr>\n",
              "  </thead>\n",
              "  <tbody>\n",
              "    <tr>\n",
              "      <th>0</th>\n",
              "      <td>3644877</td>\n",
              "      <td>[cash, withdraw]</td>\n",
              "      <td>[[-0.025692198, -0.009218461, 0.15108538, 0.35...</td>\n",
              "    </tr>\n",
              "    <tr>\n",
              "      <th>1</th>\n",
              "      <td>1175256</td>\n",
              "      <td>[cash, withdrawal, ac]</td>\n",
              "      <td>[[-0.025692198, -0.009218461, 0.15108538, 0.35...</td>\n",
              "    </tr>\n",
              "    <tr>\n",
              "      <th>2</th>\n",
              "      <td>2298226</td>\n",
              "      <td>[cash, withdraw, micro, merchant, point]</td>\n",
              "      <td>[[-0.025692198, -0.009218461, 0.15108538, 0.35...</td>\n",
              "    </tr>\n",
              "    <tr>\n",
              "      <th>3</th>\n",
              "      <td>4066427</td>\n",
              "      <td>[credit, merchant, cash, withdraw, service, ac]</td>\n",
              "      <td>[[-0.04906462, 0.11778105, 0.07305838, 0.08519...</td>\n",
              "    </tr>\n",
              "    <tr>\n",
              "      <th>4</th>\n",
              "      <td>38418</td>\n",
              "      <td>[cash, deposit, ac]</td>\n",
              "      <td>[[-0.025692198, -0.009218461, 0.15108538, 0.35...</td>\n",
              "    </tr>\n",
              "  </tbody>\n",
              "</table>\n",
              "</div>\n",
              "      <button class=\"colab-df-convert\" onclick=\"convertToInteractive('df-7f97b6bc-e645-4d5d-833b-3e1104240aa7')\"\n",
              "              title=\"Convert this dataframe to an interactive table.\"\n",
              "              style=\"display:none;\">\n",
              "        \n",
              "  <svg xmlns=\"http://www.w3.org/2000/svg\" height=\"24px\"viewBox=\"0 0 24 24\"\n",
              "       width=\"24px\">\n",
              "    <path d=\"M0 0h24v24H0V0z\" fill=\"none\"/>\n",
              "    <path d=\"M18.56 5.44l.94 2.06.94-2.06 2.06-.94-2.06-.94-.94-2.06-.94 2.06-2.06.94zm-11 1L8.5 8.5l.94-2.06 2.06-.94-2.06-.94L8.5 2.5l-.94 2.06-2.06.94zm10 10l.94 2.06.94-2.06 2.06-.94-2.06-.94-.94-2.06-.94 2.06-2.06.94z\"/><path d=\"M17.41 7.96l-1.37-1.37c-.4-.4-.92-.59-1.43-.59-.52 0-1.04.2-1.43.59L10.3 9.45l-7.72 7.72c-.78.78-.78 2.05 0 2.83L4 21.41c.39.39.9.59 1.41.59.51 0 1.02-.2 1.41-.59l7.78-7.78 2.81-2.81c.8-.78.8-2.07 0-2.86zM5.41 20L4 18.59l7.72-7.72 1.47 1.35L5.41 20z\"/>\n",
              "  </svg>\n",
              "      </button>\n",
              "      \n",
              "  <style>\n",
              "    .colab-df-container {\n",
              "      display:flex;\n",
              "      flex-wrap:wrap;\n",
              "      gap: 12px;\n",
              "    }\n",
              "\n",
              "    .colab-df-convert {\n",
              "      background-color: #E8F0FE;\n",
              "      border: none;\n",
              "      border-radius: 50%;\n",
              "      cursor: pointer;\n",
              "      display: none;\n",
              "      fill: #1967D2;\n",
              "      height: 32px;\n",
              "      padding: 0 0 0 0;\n",
              "      width: 32px;\n",
              "    }\n",
              "\n",
              "    .colab-df-convert:hover {\n",
              "      background-color: #E2EBFA;\n",
              "      box-shadow: 0px 1px 2px rgba(60, 64, 67, 0.3), 0px 1px 3px 1px rgba(60, 64, 67, 0.15);\n",
              "      fill: #174EA6;\n",
              "    }\n",
              "\n",
              "    [theme=dark] .colab-df-convert {\n",
              "      background-color: #3B4455;\n",
              "      fill: #D2E3FC;\n",
              "    }\n",
              "\n",
              "    [theme=dark] .colab-df-convert:hover {\n",
              "      background-color: #434B5C;\n",
              "      box-shadow: 0px 1px 3px 1px rgba(0, 0, 0, 0.15);\n",
              "      filter: drop-shadow(0px 1px 2px rgba(0, 0, 0, 0.3));\n",
              "      fill: #FFFFFF;\n",
              "    }\n",
              "  </style>\n",
              "\n",
              "      <script>\n",
              "        const buttonEl =\n",
              "          document.querySelector('#df-7f97b6bc-e645-4d5d-833b-3e1104240aa7 button.colab-df-convert');\n",
              "        buttonEl.style.display =\n",
              "          google.colab.kernel.accessAllowed ? 'block' : 'none';\n",
              "\n",
              "        async function convertToInteractive(key) {\n",
              "          const element = document.querySelector('#df-7f97b6bc-e645-4d5d-833b-3e1104240aa7');\n",
              "          const dataTable =\n",
              "            await google.colab.kernel.invokeFunction('convertToInteractive',\n",
              "                                                     [key], {});\n",
              "          if (!dataTable) return;\n",
              "\n",
              "          const docLinkHtml = 'Like what you see? Visit the ' +\n",
              "            '<a target=\"_blank\" href=https://colab.research.google.com/notebooks/data_table.ipynb>data table notebook</a>'\n",
              "            + ' to learn more about interactive tables.';\n",
              "          element.innerHTML = '';\n",
              "          dataTable['output_type'] = 'display_data';\n",
              "          await google.colab.output.renderOutput(dataTable, element);\n",
              "          const docLink = document.createElement('div');\n",
              "          docLink.innerHTML = docLinkHtml;\n",
              "          element.appendChild(docLink);\n",
              "        }\n",
              "      </script>\n",
              "    </div>\n",
              "  </div>\n",
              "  "
            ]
          },
          "metadata": {},
          "execution_count": 107
        }
      ]
    },
    {
      "cell_type": "code",
      "source": [
        "# avg vectorized\n",
        "def avg_vec(vectors):\n",
        "    s_vec=np.zeros(100)\n",
        "    cnt=0\n",
        "    for v in vectors:\n",
        "        cnt+=1\n",
        "        s_vec+=v\n",
        "    s_res=s_vec/cnt\n",
        "    return s_res\n",
        "#     print(s_vec)\n",
        "#     print(s_vec/cnt)\n",
        "        \n",
        "    "
      ],
      "metadata": {
        "execution": {
          "iopub.status.busy": "2023-05-27T15:49:38.448395Z",
          "iopub.execute_input": "2023-05-27T15:49:38.448744Z",
          "iopub.status.idle": "2023-05-27T15:49:38.454557Z",
          "shell.execute_reply.started": "2023-05-27T15:49:38.448717Z",
          "shell.execute_reply": "2023-05-27T15:49:38.453486Z"
        },
        "trusted": true,
        "id": "Pnsah9o5GwBs"
      },
      "execution_count": null,
      "outputs": []
    },
    {
      "cell_type": "code",
      "source": [
        "# avg_vec(narations['vectorized'][12])"
      ],
      "metadata": {
        "trusted": true,
        "id": "JOPJU0iJGwBs"
      },
      "execution_count": null,
      "outputs": []
    },
    {
      "cell_type": "code",
      "source": [
        "narations['avg_vec']=narations['vectorized'].apply(avg_vec)"
      ],
      "metadata": {
        "execution": {
          "iopub.status.busy": "2023-05-27T15:49:42.525525Z",
          "iopub.execute_input": "2023-05-27T15:49:42.525910Z",
          "iopub.status.idle": "2023-05-27T15:49:43.521098Z",
          "shell.execute_reply.started": "2023-05-27T15:49:42.525878Z",
          "shell.execute_reply": "2023-05-27T15:49:43.520125Z"
        },
        "trusted": true,
        "id": "zRimRP2-GwBs"
      },
      "execution_count": null,
      "outputs": []
    },
    {
      "cell_type": "code",
      "source": [
        "narations['vectorized'][0]"
      ],
      "metadata": {
        "trusted": true,
        "id": "8hkrh18bGwB1"
      },
      "execution_count": null,
      "outputs": []
    },
    {
      "cell_type": "code",
      "source": [
        "narations['avg_vec'][0]"
      ],
      "metadata": {
        "trusted": true,
        "id": "hdDJ_gpCGwB1"
      },
      "execution_count": null,
      "outputs": []
    },
    {
      "cell_type": "code",
      "source": [
        "from sklearn.cluster import KMeans\n",
        "\n",
        "kmeans = KMeans(n_clusters = 12, init = 'k-means++', max_iter = 300, n_init = 12, random_state = None)\n",
        "# v_tokens=model.wv.get_normed_vectors()\n",
        "avg_vec_list=narations['avg_vec'].tolist()\n",
        "# type(avg_vec_list)\n",
        "kmeans.fit(avg_vec_list)\n",
        "\n"
      ],
      "metadata": {
        "execution": {
          "iopub.status.busy": "2023-05-27T15:53:41.219337Z",
          "iopub.execute_input": "2023-05-27T15:53:41.219786Z",
          "iopub.status.idle": "2023-05-27T15:53:53.586671Z",
          "shell.execute_reply.started": "2023-05-27T15:53:41.219742Z",
          "shell.execute_reply": "2023-05-27T15:53:53.585131Z"
        },
        "trusted": true,
        "id": "wdw_Yy9mGwB1",
        "outputId": "16b891a7-c780-4879-cb91-aeb14970a85c"
      },
      "execution_count": null,
      "outputs": [
        {
          "execution_count": 116,
          "output_type": "execute_result",
          "data": {
            "text/plain": "KMeans(n_clusters=12, n_init=12)",
            "text/html": "<style>#sk-container-id-10 {color: black;background-color: white;}#sk-container-id-10 pre{padding: 0;}#sk-container-id-10 div.sk-toggleable {background-color: white;}#sk-container-id-10 label.sk-toggleable__label {cursor: pointer;display: block;width: 100%;margin-bottom: 0;padding: 0.3em;box-sizing: border-box;text-align: center;}#sk-container-id-10 label.sk-toggleable__label-arrow:before {content: \"▸\";float: left;margin-right: 0.25em;color: #696969;}#sk-container-id-10 label.sk-toggleable__label-arrow:hover:before {color: black;}#sk-container-id-10 div.sk-estimator:hover label.sk-toggleable__label-arrow:before {color: black;}#sk-container-id-10 div.sk-toggleable__content {max-height: 0;max-width: 0;overflow: hidden;text-align: left;background-color: #f0f8ff;}#sk-container-id-10 div.sk-toggleable__content pre {margin: 0.2em;color: black;border-radius: 0.25em;background-color: #f0f8ff;}#sk-container-id-10 input.sk-toggleable__control:checked~div.sk-toggleable__content {max-height: 200px;max-width: 100%;overflow: auto;}#sk-container-id-10 input.sk-toggleable__control:checked~label.sk-toggleable__label-arrow:before {content: \"▾\";}#sk-container-id-10 div.sk-estimator input.sk-toggleable__control:checked~label.sk-toggleable__label {background-color: #d4ebff;}#sk-container-id-10 div.sk-label input.sk-toggleable__control:checked~label.sk-toggleable__label {background-color: #d4ebff;}#sk-container-id-10 input.sk-hidden--visually {border: 0;clip: rect(1px 1px 1px 1px);clip: rect(1px, 1px, 1px, 1px);height: 1px;margin: -1px;overflow: hidden;padding: 0;position: absolute;width: 1px;}#sk-container-id-10 div.sk-estimator {font-family: monospace;background-color: #f0f8ff;border: 1px dotted black;border-radius: 0.25em;box-sizing: border-box;margin-bottom: 0.5em;}#sk-container-id-10 div.sk-estimator:hover {background-color: #d4ebff;}#sk-container-id-10 div.sk-parallel-item::after {content: \"\";width: 100%;border-bottom: 1px solid gray;flex-grow: 1;}#sk-container-id-10 div.sk-label:hover label.sk-toggleable__label {background-color: #d4ebff;}#sk-container-id-10 div.sk-serial::before {content: \"\";position: absolute;border-left: 1px solid gray;box-sizing: border-box;top: 0;bottom: 0;left: 50%;z-index: 0;}#sk-container-id-10 div.sk-serial {display: flex;flex-direction: column;align-items: center;background-color: white;padding-right: 0.2em;padding-left: 0.2em;position: relative;}#sk-container-id-10 div.sk-item {position: relative;z-index: 1;}#sk-container-id-10 div.sk-parallel {display: flex;align-items: stretch;justify-content: center;background-color: white;position: relative;}#sk-container-id-10 div.sk-item::before, #sk-container-id-10 div.sk-parallel-item::before {content: \"\";position: absolute;border-left: 1px solid gray;box-sizing: border-box;top: 0;bottom: 0;left: 50%;z-index: -1;}#sk-container-id-10 div.sk-parallel-item {display: flex;flex-direction: column;z-index: 1;position: relative;background-color: white;}#sk-container-id-10 div.sk-parallel-item:first-child::after {align-self: flex-end;width: 50%;}#sk-container-id-10 div.sk-parallel-item:last-child::after {align-self: flex-start;width: 50%;}#sk-container-id-10 div.sk-parallel-item:only-child::after {width: 0;}#sk-container-id-10 div.sk-dashed-wrapped {border: 1px dashed gray;margin: 0 0.4em 0.5em 0.4em;box-sizing: border-box;padding-bottom: 0.4em;background-color: white;}#sk-container-id-10 div.sk-label label {font-family: monospace;font-weight: bold;display: inline-block;line-height: 1.2em;}#sk-container-id-10 div.sk-label-container {text-align: center;}#sk-container-id-10 div.sk-container {/* jupyter's `normalize.less` sets `[hidden] { display: none; }` but bootstrap.min.css set `[hidden] { display: none !important; }` so we also need the `!important` here to be able to override the default hidden behavior on the sphinx rendered scikit-learn.org. See: https://github.com/scikit-learn/scikit-learn/issues/21755 */display: inline-block !important;position: relative;}#sk-container-id-10 div.sk-text-repr-fallback {display: none;}</style><div id=\"sk-container-id-10\" class=\"sk-top-container\"><div class=\"sk-text-repr-fallback\"><pre>KMeans(n_clusters=12, n_init=12)</pre><b>In a Jupyter environment, please rerun this cell to show the HTML representation or trust the notebook. <br />On GitHub, the HTML representation is unable to render, please try loading this page with nbviewer.org.</b></div><div class=\"sk-container\" hidden><div class=\"sk-item\"><div class=\"sk-estimator sk-toggleable\"><input class=\"sk-toggleable__control sk-hidden--visually\" id=\"sk-estimator-id-10\" type=\"checkbox\" checked><label for=\"sk-estimator-id-10\" class=\"sk-toggleable__label sk-toggleable__label-arrow\">KMeans</label><div class=\"sk-toggleable__content\"><pre>KMeans(n_clusters=12, n_init=12)</pre></div></div></div></div></div>"
          },
          "metadata": {}
        }
      ]
    },
    {
      "cell_type": "code",
      "source": [
        "print(len(kmeans.labels_))"
      ],
      "metadata": {
        "execution": {
          "iopub.status.busy": "2023-05-27T14:45:24.917648Z",
          "iopub.execute_input": "2023-05-27T14:45:24.918034Z",
          "iopub.status.idle": "2023-05-27T14:45:24.924524Z",
          "shell.execute_reply.started": "2023-05-27T14:45:24.918005Z",
          "shell.execute_reply": "2023-05-27T14:45:24.923416Z"
        },
        "trusted": true,
        "id": "UgwELK_eGwB1",
        "outputId": "2ec7d2ea-1280-4ebc-a7fb-c5a6d23a7854"
      },
      "execution_count": null,
      "outputs": [
        {
          "name": "stdout",
          "text": "128603\n",
          "output_type": "stream"
        }
      ]
    },
    {
      "cell_type": "code",
      "source": [
        "narations[:15]"
      ],
      "metadata": {
        "trusted": true,
        "id": "gfzLYxIOGwB2"
      },
      "execution_count": null,
      "outputs": []
    },
    {
      "cell_type": "code",
      "source": [
        "def pred (vec):\n",
        "    p = kmeans.predict(vec.reshape(1,-1))\n",
        "    return p"
      ],
      "metadata": {
        "execution": {
          "iopub.status.busy": "2023-05-27T15:50:04.069776Z",
          "iopub.execute_input": "2023-05-27T15:50:04.070125Z",
          "iopub.status.idle": "2023-05-27T15:50:04.075041Z",
          "shell.execute_reply.started": "2023-05-27T15:50:04.070098Z",
          "shell.execute_reply": "2023-05-27T15:50:04.074045Z"
        },
        "trusted": true,
        "id": "ohjA5GjxGwB2"
      },
      "execution_count": null,
      "outputs": []
    },
    {
      "cell_type": "code",
      "source": [
        "narations['k_cat']=narations['avg_vec'].apply(pred)"
      ],
      "metadata": {
        "execution": {
          "iopub.status.busy": "2023-05-27T16:02:31.630503Z",
          "iopub.execute_input": "2023-05-27T16:02:31.631358Z",
          "iopub.status.idle": "2023-05-27T16:02:53.242207Z",
          "shell.execute_reply.started": "2023-05-27T16:02:31.631304Z",
          "shell.execute_reply": "2023-05-27T16:02:53.241295Z"
        },
        "trusted": true,
        "id": "iEwdFrdDGwB2"
      },
      "execution_count": null,
      "outputs": []
    },
    {
      "cell_type": "code",
      "source": [
        "narations"
      ],
      "metadata": {
        "execution": {
          "iopub.status.busy": "2023-05-27T15:54:31.822574Z",
          "iopub.execute_input": "2023-05-27T15:54:31.822990Z",
          "iopub.status.idle": "2023-05-27T15:54:31.885800Z",
          "shell.execute_reply.started": "2023-05-27T15:54:31.822958Z",
          "shell.execute_reply": "2023-05-27T15:54:31.884377Z"
        },
        "trusted": true,
        "id": "fHzG1AgqGwB2",
        "outputId": "25317565-61c5-49bb-ed94-b2d2fec79215"
      },
      "execution_count": null,
      "outputs": [
        {
          "execution_count": 118,
          "output_type": "execute_result",
          "data": {
            "text/plain": "            AC_ID                                          st_tokens  \\\n0         3644877                                   [cash, withdraw]   \n1         1175256                             [cash, withdrawal, ac]   \n2         2298226   [cash, withdraw, micro, merchant, point, mm, ac]   \n3         4066427    [credit, merchant, cash, withdraw, service, ac]   \n6           38418                                [cash, deposit, ac]   \n...           ...                                                ...   \n22538287  4010179                                     [guatala, udc]   \n22539045  4199653  [transaction, fund, transfer, smart, app, regu...   \n22539930  2389876                                    [cash, deposit]   \n22543261  4817300                                                 []   \n22544595   789386                                                 []   \n\n                                                 vectorized  \\\n0         [[0.05546305, -0.09003913, 0.17263333, 0.09532...   \n1         [[0.05546305, -0.09003913, 0.17263333, 0.09532...   \n2         [[0.05546305, -0.09003913, 0.17263333, 0.09532...   \n3         [[-0.05258243, 0.02658326, 0.08539264, -0.0291...   \n6         [[0.05546305, -0.09003913, 0.17263333, 0.09532...   \n...                                                     ...   \n22538287  [[-0.021407986, -0.09990046, 0.103428625, 0.06...   \n22539045  [[-0.042089667, 0.112342104, 0.14747328, 0.092...   \n22539930  [[0.05546305, -0.09003913, 0.17263333, 0.09532...   \n22543261                                                 []   \n22544595                                                 []   \n\n                                                    avg_vec k_cat  \n0         [0.028928336997826893, -0.017468220243851345, ...   [5]  \n1         [0.02947409078478813, -0.0786243664721648, 0.1...   [5]  \n2         [-0.2763608197371165, -0.031034197968741257, 0...   [0]  \n3         [-0.06611986830830574, -0.06158295335868994, 0...   [1]  \n6         [0.028528079390525818, -0.0898306059340636, 0....   [9]  \n...                                                     ...   ...  \n22538287  [-0.013614260902007421, 0.006440142790476481, ...   [5]  \n22539045  [-0.38815172435715795, 0.5741195728381475, 0.1...   [2]  \n22539930  [-0.0015917693575223286, -0.09925717860460281,...   [9]  \n22543261  [0.0, 0.0, 0.0, 0.0, 0.0, 0.0, 0.0, 0.0, 0.0, ...   [5]  \n22544595  [0.0, 0.0, 0.0, 0.0, 0.0, 0.0, 0.0, 0.0, 0.0, ...   [5]  \n\n[128603 rows x 5 columns]",
            "text/html": "<div>\n<style scoped>\n    .dataframe tbody tr th:only-of-type {\n        vertical-align: middle;\n    }\n\n    .dataframe tbody tr th {\n        vertical-align: top;\n    }\n\n    .dataframe thead th {\n        text-align: right;\n    }\n</style>\n<table border=\"1\" class=\"dataframe\">\n  <thead>\n    <tr style=\"text-align: right;\">\n      <th></th>\n      <th>AC_ID</th>\n      <th>st_tokens</th>\n      <th>vectorized</th>\n      <th>avg_vec</th>\n      <th>k_cat</th>\n    </tr>\n  </thead>\n  <tbody>\n    <tr>\n      <th>0</th>\n      <td>3644877</td>\n      <td>[cash, withdraw]</td>\n      <td>[[0.05546305, -0.09003913, 0.17263333, 0.09532...</td>\n      <td>[0.028928336997826893, -0.017468220243851345, ...</td>\n      <td>[5]</td>\n    </tr>\n    <tr>\n      <th>1</th>\n      <td>1175256</td>\n      <td>[cash, withdrawal, ac]</td>\n      <td>[[0.05546305, -0.09003913, 0.17263333, 0.09532...</td>\n      <td>[0.02947409078478813, -0.0786243664721648, 0.1...</td>\n      <td>[5]</td>\n    </tr>\n    <tr>\n      <th>2</th>\n      <td>2298226</td>\n      <td>[cash, withdraw, micro, merchant, point, mm, ac]</td>\n      <td>[[0.05546305, -0.09003913, 0.17263333, 0.09532...</td>\n      <td>[-0.2763608197371165, -0.031034197968741257, 0...</td>\n      <td>[0]</td>\n    </tr>\n    <tr>\n      <th>3</th>\n      <td>4066427</td>\n      <td>[credit, merchant, cash, withdraw, service, ac]</td>\n      <td>[[-0.05258243, 0.02658326, 0.08539264, -0.0291...</td>\n      <td>[-0.06611986830830574, -0.06158295335868994, 0...</td>\n      <td>[1]</td>\n    </tr>\n    <tr>\n      <th>6</th>\n      <td>38418</td>\n      <td>[cash, deposit, ac]</td>\n      <td>[[0.05546305, -0.09003913, 0.17263333, 0.09532...</td>\n      <td>[0.028528079390525818, -0.0898306059340636, 0....</td>\n      <td>[9]</td>\n    </tr>\n    <tr>\n      <th>...</th>\n      <td>...</td>\n      <td>...</td>\n      <td>...</td>\n      <td>...</td>\n      <td>...</td>\n    </tr>\n    <tr>\n      <th>22538287</th>\n      <td>4010179</td>\n      <td>[guatala, udc]</td>\n      <td>[[-0.021407986, -0.09990046, 0.103428625, 0.06...</td>\n      <td>[-0.013614260902007421, 0.006440142790476481, ...</td>\n      <td>[5]</td>\n    </tr>\n    <tr>\n      <th>22539045</th>\n      <td>4199653</td>\n      <td>[transaction, fund, transfer, smart, app, regu...</td>\n      <td>[[-0.042089667, 0.112342104, 0.14747328, 0.092...</td>\n      <td>[-0.38815172435715795, 0.5741195728381475, 0.1...</td>\n      <td>[2]</td>\n    </tr>\n    <tr>\n      <th>22539930</th>\n      <td>2389876</td>\n      <td>[cash, deposit]</td>\n      <td>[[0.05546305, -0.09003913, 0.17263333, 0.09532...</td>\n      <td>[-0.0015917693575223286, -0.09925717860460281,...</td>\n      <td>[9]</td>\n    </tr>\n    <tr>\n      <th>22543261</th>\n      <td>4817300</td>\n      <td>[]</td>\n      <td>[]</td>\n      <td>[0.0, 0.0, 0.0, 0.0, 0.0, 0.0, 0.0, 0.0, 0.0, ...</td>\n      <td>[5]</td>\n    </tr>\n    <tr>\n      <th>22544595</th>\n      <td>789386</td>\n      <td>[]</td>\n      <td>[]</td>\n      <td>[0.0, 0.0, 0.0, 0.0, 0.0, 0.0, 0.0, 0.0, 0.0, ...</td>\n      <td>[5]</td>\n    </tr>\n  </tbody>\n</table>\n<p>128603 rows × 5 columns</p>\n</div>"
          },
          "metadata": {}
        }
      ]
    },
    {
      "cell_type": "code",
      "source": [
        "import matplotlib.pyplot as plt\n"
      ],
      "metadata": {
        "execution": {
          "iopub.status.busy": "2023-05-27T14:30:56.889010Z",
          "iopub.execute_input": "2023-05-27T14:30:56.889417Z",
          "iopub.status.idle": "2023-05-27T14:30:56.896222Z",
          "shell.execute_reply.started": "2023-05-27T14:30:56.889386Z",
          "shell.execute_reply": "2023-05-27T14:30:56.894410Z"
        },
        "trusted": true,
        "id": "9gziQf27GwB2"
      },
      "execution_count": null,
      "outputs": []
    },
    {
      "cell_type": "code",
      "source": [
        "cs = []\n",
        "for i in range(5, 25):\n",
        "    kmeans2 = KMeans(n_clusters = i, init = 'k-means++', max_iter = 300, n_init = 12, random_state = None)\n",
        "    kmeans2.fit(avg_vec_list)\n",
        "    cs.append(kmeans2.inertia_)\n",
        "plt.plot(range(5, 25), cs)\n",
        "plt.title('The Elbow Method')\n",
        "plt.xlabel('Number of clusters')\n",
        "plt.ylabel('CS')\n",
        "plt.show()"
      ],
      "metadata": {
        "execution": {
          "iopub.status.busy": "2023-05-27T15:58:02.366974Z",
          "iopub.execute_input": "2023-05-27T15:58:02.367291Z",
          "iopub.status.idle": "2023-05-27T16:01:51.734053Z",
          "shell.execute_reply.started": "2023-05-27T15:58:02.367268Z",
          "shell.execute_reply": "2023-05-27T16:01:51.732678Z"
        },
        "trusted": true,
        "id": "99khAhFjGwB3",
        "outputId": "72876c62-f3ea-428a-e735-9863711f677f"
      },
      "execution_count": null,
      "outputs": [
        {
          "output_type": "display_data",
          "data": {
            "text/plain": "<Figure size 640x480 with 1 Axes>",
            "image/png": "[encoded data removed]"
          },
          "metadata": {}
        }
      ]
    },
    {
      "cell_type": "code",
      "source": [
        "len(model.wv.get_vector('cash' ,norm=True))"
      ],
      "metadata": {
        "trusted": true,
        "id": "Q4-uDHd8GwB3"
      },
      "execution_count": null,
      "outputs": []
    },
    {
      "cell_type": "code",
      "source": [
        "def pred(text):\n",
        "    return [kmeans.predict(np.array([model.wv.get_vector('cash' ,norm=True)]"
      ],
      "metadata": {
        "trusted": true,
        "id": "3Gkbdu2eGwB3"
      },
      "execution_count": null,
      "outputs": []
    },
    {
      "cell_type": "code",
      "source": [
        "# pred=kmeans.predict(np.array([model.wv.get_vector('cash' ,norm=True), model.wv.get_vector('withdraw' ,norm=True)]))\n",
        "narations['preds'] = narations['vectorized'].apply(lambda x: [kmeans.predict(word.) for word in x])\n",
        "# pred"
      ],
      "metadata": {
        "trusted": true,
        "id": "l26EtBbHGwB3"
      },
      "execution_count": null,
      "outputs": []
    },
    {
      "cell_type": "code",
      "source": [
        "plt.scatter(narations['AC_ID'],narations['k_cat'],c=narations['k_cat'])\n",
        "plt.show"
      ],
      "metadata": {
        "execution": {
          "iopub.status.busy": "2023-05-27T14:33:35.629983Z",
          "iopub.execute_input": "2023-05-27T14:33:35.630339Z",
          "iopub.status.idle": "2023-05-27T14:33:39.316613Z",
          "shell.execute_reply.started": "2023-05-27T14:33:35.630310Z",
          "shell.execute_reply": "2023-05-27T14:33:39.315126Z"
        },
        "trusted": true,
        "id": "9l7MKdLYGwB4",
        "outputId": "8cfac6fe-887f-40fa-edd5-b2633659a21d"
      },
      "execution_count": null,
      "outputs": [
        {
          "execution_count": 48,
          "output_type": "execute_result",
          "data": {
            "text/plain": "<function matplotlib.pyplot.show(close=None, block=None)>"
          },
          "metadata": {}
        },
        {
          "output_type": "display_data",
          "data": {
            "text/plain": "<Figure size 640x480 with 1 Axes>",
            "image/png": "[encoded data removed]"
          },
          "metadata": {}
        }
      ]
    },
    {
      "cell_type": "code",
      "source": [
        "# from sklearn.cluster import DBSCAN\n",
        "# dbscan = DBSCAN(eps=5, min_samples=5).fit_predict(avg_vec_list)\n",
        "\n",
        "    \n"
      ],
      "metadata": {
        "trusted": true,
        "id": "rE4lfNIrGwB4"
      },
      "execution_count": null,
      "outputs": []
    },
    {
      "cell_type": "code",
      "source": [
        "dbscan.labels_"
      ],
      "metadata": {
        "trusted": true,
        "id": "ZTY-zbu7GwB4"
      },
      "execution_count": null,
      "outputs": []
    },
    {
      "cell_type": "code",
      "source": [
        "# def ds_pred(vec):\n",
        "# #     p = kmeans.predict(vec.reshape(1,-1))\n",
        "#     p=dbscan.fit_predict(vec.reshape(1,-1))\n",
        "#     return p"
      ],
      "metadata": {
        "trusted": true,
        "id": "Zc1XIueQGwB4"
      },
      "execution_count": null,
      "outputs": []
    },
    {
      "cell_type": "code",
      "source": [
        "# print(ds_pred(narations['avg_vec'][0]))\n"
      ],
      "metadata": {
        "trusted": true,
        "id": "PvJHsxSAGwB4"
      },
      "execution_count": null,
      "outputs": []
    },
    {
      "cell_type": "code",
      "source": [
        "# print(ds_pred(narations['avg_vec'][3]))\n",
        "# narations['db_cat']=narations['avg_vec'].apply(ds_pred)"
      ],
      "metadata": {
        "trusted": true,
        "id": "l7E87Qg2GwB5"
      },
      "execution_count": null,
      "outputs": []
    },
    {
      "cell_type": "code",
      "source": [
        "narations"
      ],
      "metadata": {
        "execution": {
          "iopub.status.busy": "2023-05-27T15:31:46.419571Z",
          "iopub.execute_input": "2023-05-27T15:31:46.419902Z",
          "iopub.status.idle": "2023-05-27T15:31:46.478011Z",
          "shell.execute_reply.started": "2023-05-27T15:31:46.419870Z",
          "shell.execute_reply": "2023-05-27T15:31:46.477123Z"
        },
        "trusted": true,
        "id": "90CALGMTGwB5",
        "outputId": "e617b0de-ff36-4a38-9db9-c35be1f7d63c"
      },
      "execution_count": null,
      "outputs": [
        {
          "execution_count": 83,
          "output_type": "execute_result",
          "data": {
            "text/plain": "            AC_ID                                          st_tokens  \\\n0         3644877                                   [cash, withdraw]   \n1         1175256                             [cash, withdrawal, ac]   \n2         2298226   [cash, withdraw, micro, merchant, point, mm, ac]   \n3         4066427    [credit, merchant, cash, withdraw, service, ac]   \n6           38418                                [cash, deposit, ac]   \n...           ...                                                ...   \n22538287  4010179                                     [guatala, udc]   \n22539045  4199653  [transaction, fund, transfer, smart, app, regu...   \n22539930  2389876                                    [cash, deposit]   \n22543261  4817300                                                 []   \n22544595   789386                                                 []   \n\n                                                 vectorized  \\\n0         [[-0.027002614, -0.03766817, 0.17229873, 0.185...   \n1         [[-0.027002614, -0.03766817, 0.17229873, 0.185...   \n2         [[-0.027002614, -0.03766817, 0.17229873, 0.185...   \n3         [[-0.064798065, 0.054880656, 0.024779102, -0.0...   \n6         [[-0.027002614, -0.03766817, 0.17229873, 0.185...   \n...                                                     ...   \n22538287  [[-0.0077656484, -0.089214176, 0.11665403, 0.0...   \n22539045  [[-0.053031206, 0.0760682, 0.110468015, 0.0956...   \n22539930  [[-0.027002614, -0.03766817, 0.17229873, 0.185...   \n22543261                                                 []   \n22544595                                                 []   \n\n                                                    sum_vec k_cat  \n0         [-0.015129624555508295, -0.005336552858352661,...  [10]  \n1         [-0.011927357564369837, -0.061309092988570534,...  [10]  \n2         [-0.3066883447269599, -0.005924145380655925, 0...   [1]  \n3         [-0.12975151215990385, -0.02486618235707283, 0...   [2]  \n6         [-0.015825906147559483, -0.08448684091369311, ...   [3]  \n...                                                     ...   ...  \n22538287  [0.004534072087456782, 0.006979448099931081, 0...  [10]  \n22539045  [-0.30309268304457265, 0.4987169274439414, 0.0...   [0]  \n22539930  [-0.04081514601906141, -0.10027102629343669, 0...   [3]  \n22543261  [0.0, 0.0, 0.0, 0.0, 0.0, 0.0, 0.0, 0.0, 0.0, ...  [10]  \n22544595  [0.0, 0.0, 0.0, 0.0, 0.0, 0.0, 0.0, 0.0, 0.0, ...  [10]  \n\n[128603 rows x 5 columns]",
            "text/html": "<div>\n<style scoped>\n    .dataframe tbody tr th:only-of-type {\n        vertical-align: middle;\n    }\n\n    .dataframe tbody tr th {\n        vertical-align: top;\n    }\n\n    .dataframe thead th {\n        text-align: right;\n    }\n</style>\n<table border=\"1\" class=\"dataframe\">\n  <thead>\n    <tr style=\"text-align: right;\">\n      <th></th>\n      <th>AC_ID</th>\n      <th>st_tokens</th>\n      <th>vectorized</th>\n      <th>sum_vec</th>\n      <th>k_cat</th>\n    </tr>\n  </thead>\n  <tbody>\n    <tr>\n      <th>0</th>\n      <td>3644877</td>\n      <td>[cash, withdraw]</td>\n      <td>[[-0.027002614, -0.03766817, 0.17229873, 0.185...</td>\n      <td>[-0.015129624555508295, -0.005336552858352661,...</td>\n      <td>[10]</td>\n    </tr>\n    <tr>\n      <th>1</th>\n      <td>1175256</td>\n      <td>[cash, withdrawal, ac]</td>\n      <td>[[-0.027002614, -0.03766817, 0.17229873, 0.185...</td>\n      <td>[-0.011927357564369837, -0.061309092988570534,...</td>\n      <td>[10]</td>\n    </tr>\n    <tr>\n      <th>2</th>\n      <td>2298226</td>\n      <td>[cash, withdraw, micro, merchant, point, mm, ac]</td>\n      <td>[[-0.027002614, -0.03766817, 0.17229873, 0.185...</td>\n      <td>[-0.3066883447269599, -0.005924145380655925, 0...</td>\n      <td>[1]</td>\n    </tr>\n    <tr>\n      <th>3</th>\n      <td>4066427</td>\n      <td>[credit, merchant, cash, withdraw, service, ac]</td>\n      <td>[[-0.064798065, 0.054880656, 0.024779102, -0.0...</td>\n      <td>[-0.12975151215990385, -0.02486618235707283, 0...</td>\n      <td>[2]</td>\n    </tr>\n    <tr>\n      <th>6</th>\n      <td>38418</td>\n      <td>[cash, deposit, ac]</td>\n      <td>[[-0.027002614, -0.03766817, 0.17229873, 0.185...</td>\n      <td>[-0.015825906147559483, -0.08448684091369311, ...</td>\n      <td>[3]</td>\n    </tr>\n    <tr>\n      <th>...</th>\n      <td>...</td>\n      <td>...</td>\n      <td>...</td>\n      <td>...</td>\n      <td>...</td>\n    </tr>\n    <tr>\n      <th>22538287</th>\n      <td>4010179</td>\n      <td>[guatala, udc]</td>\n      <td>[[-0.0077656484, -0.089214176, 0.11665403, 0.0...</td>\n      <td>[0.004534072087456782, 0.006979448099931081, 0...</td>\n      <td>[10]</td>\n    </tr>\n    <tr>\n      <th>22539045</th>\n      <td>4199653</td>\n      <td>[transaction, fund, transfer, smart, app, regu...</td>\n      <td>[[-0.053031206, 0.0760682, 0.110468015, 0.0956...</td>\n      <td>[-0.30309268304457265, 0.4987169274439414, 0.0...</td>\n      <td>[0]</td>\n    </tr>\n    <tr>\n      <th>22539930</th>\n      <td>2389876</td>\n      <td>[cash, deposit]</td>\n      <td>[[-0.027002614, -0.03766817, 0.17229873, 0.185...</td>\n      <td>[-0.04081514601906141, -0.10027102629343669, 0...</td>\n      <td>[3]</td>\n    </tr>\n    <tr>\n      <th>22543261</th>\n      <td>4817300</td>\n      <td>[]</td>\n      <td>[]</td>\n      <td>[0.0, 0.0, 0.0, 0.0, 0.0, 0.0, 0.0, 0.0, 0.0, ...</td>\n      <td>[10]</td>\n    </tr>\n    <tr>\n      <th>22544595</th>\n      <td>789386</td>\n      <td>[]</td>\n      <td>[]</td>\n      <td>[0.0, 0.0, 0.0, 0.0, 0.0, 0.0, 0.0, 0.0, 0.0, ...</td>\n      <td>[10]</td>\n    </tr>\n  </tbody>\n</table>\n<p>128603 rows × 5 columns</p>\n</div>"
          },
          "metadata": {}
        }
      ]
    },
    {
      "cell_type": "code",
      "source": [
        "np.array_equal(narations['cat'], narations['db_cat'])"
      ],
      "metadata": {
        "trusted": true,
        "id": "Ta7276AvGwB5"
      },
      "execution_count": null,
      "outputs": []
    },
    {
      "cell_type": "code",
      "source": [
        "sub_data['k_cluster']=narations['k_cat'].copy()"
      ],
      "metadata": {
        "execution": {
          "iopub.status.busy": "2023-05-27T14:46:37.350005Z",
          "iopub.execute_input": "2023-05-27T14:46:37.350351Z",
          "iopub.status.idle": "2023-05-27T14:46:37.379043Z",
          "shell.execute_reply.started": "2023-05-27T14:46:37.350323Z",
          "shell.execute_reply": "2023-05-27T14:46:37.378362Z"
        },
        "trusted": true,
        "id": "ima885F7GwB5",
        "outputId": "2ad96032-8286-4f1d-f0dc-bc2a9d969a30"
      },
      "execution_count": null,
      "outputs": [
        {
          "name": "stderr",
          "text": "/tmp/ipykernel_339/1490945364.py:1: SettingWithCopyWarning: \nA value is trying to be set on a copy of a slice from a DataFrame.\nTry using .loc[row_indexer,col_indexer] = value instead\n\nSee the caveats in the documentation: https://pandas.pydata.org/pandas-docs/stable/user_guide/indexing.html#returning-a-view-versus-a-copy\n  sub_data['k_cluster']=narations['k_cat'].copy()\n",
          "output_type": "stream"
        }
      ]
    },
    {
      "cell_type": "code",
      "source": [
        "sub_data"
      ],
      "metadata": {
        "execution": {
          "iopub.status.busy": "2023-05-27T14:46:41.862191Z",
          "iopub.execute_input": "2023-05-27T14:46:41.863595Z",
          "iopub.status.idle": "2023-05-27T14:46:41.885490Z",
          "shell.execute_reply.started": "2023-05-27T14:46:41.863539Z",
          "shell.execute_reply": "2023-05-27T14:46:41.884477Z"
        },
        "trusted": true,
        "id": "kYKK-8DwGwB5",
        "outputId": "10500d3c-83b8-4742-a4e2-b958b337967c"
      },
      "execution_count": null,
      "outputs": [
        {
          "execution_count": 81,
          "output_type": "execute_result",
          "data": {
            "text/plain": "          Unnamed: 0    AC_ID    AMOUNT   DOC_DATE  \\\n0                  0  3644877  342800.0  01-NOV-22   \n1                  1  1175256  342800.0  01-NOV-22   \n2                  2  2298226    1500.0  01-NOV-22   \n3                  3  4066427    1500.0  01-NOV-22   \n6                  6    38418     500.0  01-NOV-22   \n...              ...      ...       ...        ...   \n22538287    22538287  4010179   44900.0  29-APR-23   \n22539045    22539045  4199653   20000.0  29-APR-23   \n22539930    22539930  2389876     100.0  29-APR-23   \n22543261    22543261  4817300   34000.0  29-APR-23   \n22544595    22544595   789386     100.0  29-APR-23   \n\n                                                   NARATION   DR_CR k_cluster  \n0                                             Cash Withdraw   Debit      [10]  \n1                            Cash Withdrawal From A/C No.:   Credit      [10]  \n2          Cash withdraw from Micro Merchant point, MM A/C    Debit       [1]  \n3         Credit Against Merchant Cash Withdraw Service ...  Credit       [2]  \n6                                 Cash Deposit to A/C No.:    Debit       [3]  \n...                                                     ...     ...       ...  \n22538287                                       Guatala Udc   Credit      [10]  \n22539045  Transaction For Fund Transfer. Smart App, Regu...  Credit       [0]  \n22539930                 Cash Deposit গারামাসি উল্লী উন্নয়ন  Credit       [3]  \n22543261                  আসাদ ভাই এর কাছে জমা  হাজার টাকা   Credit      [10]  \n22544595  গাড়ামাসি পল্লী উন্নয়ন সমবায় সমিতি আস  সেবা  আদ...  Credit      [10]  \n\n[128603 rows x 7 columns]",
            "text/html": "<div>\n<style scoped>\n    .dataframe tbody tr th:only-of-type {\n        vertical-align: middle;\n    }\n\n    .dataframe tbody tr th {\n        vertical-align: top;\n    }\n\n    .dataframe thead th {\n        text-align: right;\n    }\n</style>\n<table border=\"1\" class=\"dataframe\">\n  <thead>\n    <tr style=\"text-align: right;\">\n      <th></th>\n      <th>Unnamed: 0</th>\n      <th>AC_ID</th>\n      <th>AMOUNT</th>\n      <th>DOC_DATE</th>\n      <th>NARATION</th>\n      <th>DR_CR</th>\n      <th>k_cluster</th>\n    </tr>\n  </thead>\n  <tbody>\n    <tr>\n      <th>0</th>\n      <td>0</td>\n      <td>3644877</td>\n      <td>342800.0</td>\n      <td>01-NOV-22</td>\n      <td>Cash Withdraw</td>\n      <td>Debit</td>\n      <td>[10]</td>\n    </tr>\n    <tr>\n      <th>1</th>\n      <td>1</td>\n      <td>1175256</td>\n      <td>342800.0</td>\n      <td>01-NOV-22</td>\n      <td>Cash Withdrawal From A/C No.:</td>\n      <td>Credit</td>\n      <td>[10]</td>\n    </tr>\n    <tr>\n      <th>2</th>\n      <td>2</td>\n      <td>2298226</td>\n      <td>1500.0</td>\n      <td>01-NOV-22</td>\n      <td>Cash withdraw from Micro Merchant point, MM A/C</td>\n      <td>Debit</td>\n      <td>[1]</td>\n    </tr>\n    <tr>\n      <th>3</th>\n      <td>3</td>\n      <td>4066427</td>\n      <td>1500.0</td>\n      <td>01-NOV-22</td>\n      <td>Credit Against Merchant Cash Withdraw Service ...</td>\n      <td>Credit</td>\n      <td>[2]</td>\n    </tr>\n    <tr>\n      <th>6</th>\n      <td>6</td>\n      <td>38418</td>\n      <td>500.0</td>\n      <td>01-NOV-22</td>\n      <td>Cash Deposit to A/C No.:</td>\n      <td>Debit</td>\n      <td>[3]</td>\n    </tr>\n    <tr>\n      <th>...</th>\n      <td>...</td>\n      <td>...</td>\n      <td>...</td>\n      <td>...</td>\n      <td>...</td>\n      <td>...</td>\n      <td>...</td>\n    </tr>\n    <tr>\n      <th>22538287</th>\n      <td>22538287</td>\n      <td>4010179</td>\n      <td>44900.0</td>\n      <td>29-APR-23</td>\n      <td>Guatala Udc</td>\n      <td>Credit</td>\n      <td>[10]</td>\n    </tr>\n    <tr>\n      <th>22539045</th>\n      <td>22539045</td>\n      <td>4199653</td>\n      <td>20000.0</td>\n      <td>29-APR-23</td>\n      <td>Transaction For Fund Transfer. Smart App, Regu...</td>\n      <td>Credit</td>\n      <td>[0]</td>\n    </tr>\n    <tr>\n      <th>22539930</th>\n      <td>22539930</td>\n      <td>2389876</td>\n      <td>100.0</td>\n      <td>29-APR-23</td>\n      <td>Cash Deposit গারামাসি উল্লী উন্নয়ন</td>\n      <td>Credit</td>\n      <td>[3]</td>\n    </tr>\n    <tr>\n      <th>22543261</th>\n      <td>22543261</td>\n      <td>4817300</td>\n      <td>34000.0</td>\n      <td>29-APR-23</td>\n      <td>আসাদ ভাই এর কাছে জমা  হাজার টাকা</td>\n      <td>Credit</td>\n      <td>[10]</td>\n    </tr>\n    <tr>\n      <th>22544595</th>\n      <td>22544595</td>\n      <td>789386</td>\n      <td>100.0</td>\n      <td>29-APR-23</td>\n      <td>গাড়ামাসি পল্লী উন্নয়ন সমবায় সমিতি আস  সেবা  আদ...</td>\n      <td>Credit</td>\n      <td>[10]</td>\n    </tr>\n  </tbody>\n</table>\n<p>128603 rows × 7 columns</p>\n</div>"
          },
          "metadata": {}
        }
      ]
    },
    {
      "cell_type": "code",
      "source": [
        "sub_data.to_csv('output.csv', index=False)"
      ],
      "metadata": {
        "execution": {
          "iopub.status.busy": "2023-05-27T15:28:04.354139Z",
          "iopub.execute_input": "2023-05-27T15:28:04.354606Z",
          "iopub.status.idle": "2023-05-27T15:28:08.595301Z",
          "shell.execute_reply.started": "2023-05-27T15:28:04.354579Z",
          "shell.execute_reply": "2023-05-27T15:28:08.594623Z"
        },
        "trusted": true,
        "id": "WQLM52xoGwB6"
      },
      "execution_count": null,
      "outputs": []
    },
    {
      "cell_type": "code",
      "source": [
        "narations.to_csv('naration_vec.csv',index=False)"
      ],
      "metadata": {
        "execution": {
          "iopub.status.busy": "2023-05-27T15:32:40.344119Z",
          "iopub.execute_input": "2023-05-27T15:32:40.344480Z",
          "iopub.status.idle": "2023-05-27T15:40:49.077572Z",
          "shell.execute_reply.started": "2023-05-27T15:32:40.344447Z",
          "shell.execute_reply": "2023-05-27T15:40:49.076552Z"
        },
        "trusted": true,
        "id": "DSj67-uPGwB6"
      },
      "execution_count": null,
      "outputs": []
    }
  ]
}