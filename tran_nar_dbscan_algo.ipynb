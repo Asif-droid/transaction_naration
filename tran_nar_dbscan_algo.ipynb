{
  "nbformat": 4,
  "nbformat_minor": 0,
  "metadata": {
    "colab": {
      "provenance": []
    },
    "kernelspec": {
      "name": "python3",
      "display_name": "Python 3"
    },
    "language_info": {
      "name": "python"
    }
  },
  "cells": [
    {
      "cell_type": "code",
      "execution_count": 1,
      "metadata": {
        "id": "8CuIw9EfuZvb"
      },
      "outputs": [],
      "source": [
        "from google.colab import drive"
      ]
    },
    {
      "cell_type": "code",
      "source": [
        "drive.mount('/content/drive')"
      ],
      "metadata": {
        "colab": {
          "base_uri": "https://localhost:8080/"
        },
        "id": "fg_MNvXow2qG",
        "outputId": "1186ce6b-2b4d-4922-9c8f-89e1c8d9fadb"
      },
      "execution_count": 2,
      "outputs": [
        {
          "output_type": "stream",
          "name": "stdout",
          "text": [
            "Mounted at /content/drive\n"
          ]
        }
      ]
    },
    {
      "cell_type": "code",
      "source": [],
      "metadata": {
        "id": "LKqzl7Jx87Cu"
      },
      "execution_count": null,
      "outputs": []
    },
    {
      "cell_type": "code",
      "source": [
        "import pandas as pd\n",
        "import numpy as np\n",
        "data=pd.read_csv('/content/drive/MyDrive/ml_data/naration_vec.csv')\n",
        "data.head()"
      ],
      "metadata": {
        "colab": {
          "base_uri": "https://localhost:8080/",
          "height": 206
        },
        "id": "m8DdWKOcxSmG",
        "outputId": "4342924d-79a8-403d-ffe0-0c5401aa789b"
      },
      "execution_count": 2,
      "outputs": [
        {
          "output_type": "execute_result",
          "data": {
            "text/plain": [
              "     AC_ID                                          st_tokens  \\\n",
              "0  3644877                               ['cash', 'withdraw']   \n",
              "1  1175256                       ['cash', 'withdrawal', 'ac']   \n",
              "2  2298226  ['cash', 'withdraw', 'micro', 'merchant', 'poi...   \n",
              "3  4066427  ['credit', 'merchant', 'cash', 'withdraw', 'se...   \n",
              "4    38418                          ['cash', 'deposit', 'ac']   \n",
              "\n",
              "                                          vectorized  \\\n",
              "0  [array([-2.70026140e-02, -3.76681685e-02,  1.7...   \n",
              "1  [array([-2.70026140e-02, -3.76681685e-02,  1.7...   \n",
              "2  [array([-2.70026140e-02, -3.76681685e-02,  1.7...   \n",
              "3  [array([-0.06479806,  0.05488066,  0.0247791 ,...   \n",
              "4  [array([-2.70026140e-02, -3.76681685e-02,  1.7...   \n",
              "\n",
              "                                             sum_vec k_cat  \n",
              "0  [-0.01512962 -0.00533655  0.08984514  0.068006...  [10]  \n",
              "1  [-0.01192736 -0.06130909  0.15097429  0.086923...  [10]  \n",
              "2  [-0.30668834 -0.00592415  0.25022923  0.066398...   [1]  \n",
              "3  [-0.12975151 -0.02486618  0.21576638  0.036840...   [2]  \n",
              "4  [-0.01582591 -0.08448684  0.09600903  0.077138...   [3]  "
            ],
            "text/html": [
              "\n",
              "  <div id=\"df-1de3a2f1-d420-43c9-9645-f861e0c7870e\">\n",
              "    <div class=\"colab-df-container\">\n",
              "      <div>\n",
              "<style scoped>\n",
              "    .dataframe tbody tr th:only-of-type {\n",
              "        vertical-align: middle;\n",
              "    }\n",
              "\n",
              "    .dataframe tbody tr th {\n",
              "        vertical-align: top;\n",
              "    }\n",
              "\n",
              "    .dataframe thead th {\n",
              "        text-align: right;\n",
              "    }\n",
              "</style>\n",
              "<table border=\"1\" class=\"dataframe\">\n",
              "  <thead>\n",
              "    <tr style=\"text-align: right;\">\n",
              "      <th></th>\n",
              "      <th>AC_ID</th>\n",
              "      <th>st_tokens</th>\n",
              "      <th>vectorized</th>\n",
              "      <th>sum_vec</th>\n",
              "      <th>k_cat</th>\n",
              "    </tr>\n",
              "  </thead>\n",
              "  <tbody>\n",
              "    <tr>\n",
              "      <th>0</th>\n",
              "      <td>3644877</td>\n",
              "      <td>['cash', 'withdraw']</td>\n",
              "      <td>[array([-2.70026140e-02, -3.76681685e-02,  1.7...</td>\n",
              "      <td>[-0.01512962 -0.00533655  0.08984514  0.068006...</td>\n",
              "      <td>[10]</td>\n",
              "    </tr>\n",
              "    <tr>\n",
              "      <th>1</th>\n",
              "      <td>1175256</td>\n",
              "      <td>['cash', 'withdrawal', 'ac']</td>\n",
              "      <td>[array([-2.70026140e-02, -3.76681685e-02,  1.7...</td>\n",
              "      <td>[-0.01192736 -0.06130909  0.15097429  0.086923...</td>\n",
              "      <td>[10]</td>\n",
              "    </tr>\n",
              "    <tr>\n",
              "      <th>2</th>\n",
              "      <td>2298226</td>\n",
              "      <td>['cash', 'withdraw', 'micro', 'merchant', 'poi...</td>\n",
              "      <td>[array([-2.70026140e-02, -3.76681685e-02,  1.7...</td>\n",
              "      <td>[-0.30668834 -0.00592415  0.25022923  0.066398...</td>\n",
              "      <td>[1]</td>\n",
              "    </tr>\n",
              "    <tr>\n",
              "      <th>3</th>\n",
              "      <td>4066427</td>\n",
              "      <td>['credit', 'merchant', 'cash', 'withdraw', 'se...</td>\n",
              "      <td>[array([-0.06479806,  0.05488066,  0.0247791 ,...</td>\n",
              "      <td>[-0.12975151 -0.02486618  0.21576638  0.036840...</td>\n",
              "      <td>[2]</td>\n",
              "    </tr>\n",
              "    <tr>\n",
              "      <th>4</th>\n",
              "      <td>38418</td>\n",
              "      <td>['cash', 'deposit', 'ac']</td>\n",
              "      <td>[array([-2.70026140e-02, -3.76681685e-02,  1.7...</td>\n",
              "      <td>[-0.01582591 -0.08448684  0.09600903  0.077138...</td>\n",
              "      <td>[3]</td>\n",
              "    </tr>\n",
              "  </tbody>\n",
              "</table>\n",
              "</div>\n",
              "      <button class=\"colab-df-convert\" onclick=\"convertToInteractive('df-1de3a2f1-d420-43c9-9645-f861e0c7870e')\"\n",
              "              title=\"Convert this dataframe to an interactive table.\"\n",
              "              style=\"display:none;\">\n",
              "        \n",
              "  <svg xmlns=\"http://www.w3.org/2000/svg\" height=\"24px\"viewBox=\"0 0 24 24\"\n",
              "       width=\"24px\">\n",
              "    <path d=\"M0 0h24v24H0V0z\" fill=\"none\"/>\n",
              "    <path d=\"M18.56 5.44l.94 2.06.94-2.06 2.06-.94-2.06-.94-.94-2.06-.94 2.06-2.06.94zm-11 1L8.5 8.5l.94-2.06 2.06-.94-2.06-.94L8.5 2.5l-.94 2.06-2.06.94zm10 10l.94 2.06.94-2.06 2.06-.94-2.06-.94-.94-2.06-.94 2.06-2.06.94z\"/><path d=\"M17.41 7.96l-1.37-1.37c-.4-.4-.92-.59-1.43-.59-.52 0-1.04.2-1.43.59L10.3 9.45l-7.72 7.72c-.78.78-.78 2.05 0 2.83L4 21.41c.39.39.9.59 1.41.59.51 0 1.02-.2 1.41-.59l7.78-7.78 2.81-2.81c.8-.78.8-2.07 0-2.86zM5.41 20L4 18.59l7.72-7.72 1.47 1.35L5.41 20z\"/>\n",
              "  </svg>\n",
              "      </button>\n",
              "      \n",
              "  <style>\n",
              "    .colab-df-container {\n",
              "      display:flex;\n",
              "      flex-wrap:wrap;\n",
              "      gap: 12px;\n",
              "    }\n",
              "\n",
              "    .colab-df-convert {\n",
              "      background-color: #E8F0FE;\n",
              "      border: none;\n",
              "      border-radius: 50%;\n",
              "      cursor: pointer;\n",
              "      display: none;\n",
              "      fill: #1967D2;\n",
              "      height: 32px;\n",
              "      padding: 0 0 0 0;\n",
              "      width: 32px;\n",
              "    }\n",
              "\n",
              "    .colab-df-convert:hover {\n",
              "      background-color: #E2EBFA;\n",
              "      box-shadow: 0px 1px 2px rgba(60, 64, 67, 0.3), 0px 1px 3px 1px rgba(60, 64, 67, 0.15);\n",
              "      fill: #174EA6;\n",
              "    }\n",
              "\n",
              "    [theme=dark] .colab-df-convert {\n",
              "      background-color: #3B4455;\n",
              "      fill: #D2E3FC;\n",
              "    }\n",
              "\n",
              "    [theme=dark] .colab-df-convert:hover {\n",
              "      background-color: #434B5C;\n",
              "      box-shadow: 0px 1px 3px 1px rgba(0, 0, 0, 0.15);\n",
              "      filter: drop-shadow(0px 1px 2px rgba(0, 0, 0, 0.3));\n",
              "      fill: #FFFFFF;\n",
              "    }\n",
              "  </style>\n",
              "\n",
              "      <script>\n",
              "        const buttonEl =\n",
              "          document.querySelector('#df-1de3a2f1-d420-43c9-9645-f861e0c7870e button.colab-df-convert');\n",
              "        buttonEl.style.display =\n",
              "          google.colab.kernel.accessAllowed ? 'block' : 'none';\n",
              "\n",
              "        async function convertToInteractive(key) {\n",
              "          const element = document.querySelector('#df-1de3a2f1-d420-43c9-9645-f861e0c7870e');\n",
              "          const dataTable =\n",
              "            await google.colab.kernel.invokeFunction('convertToInteractive',\n",
              "                                                     [key], {});\n",
              "          if (!dataTable) return;\n",
              "\n",
              "          const docLinkHtml = 'Like what you see? Visit the ' +\n",
              "            '<a target=\"_blank\" href=https://colab.research.google.com/notebooks/data_table.ipynb>data table notebook</a>'\n",
              "            + ' to learn more about interactive tables.';\n",
              "          element.innerHTML = '';\n",
              "          dataTable['output_type'] = 'display_data';\n",
              "          await google.colab.output.renderOutput(dataTable, element);\n",
              "          const docLink = document.createElement('div');\n",
              "          docLink.innerHTML = docLinkHtml;\n",
              "          element.appendChild(docLink);\n",
              "        }\n",
              "      </script>\n",
              "    </div>\n",
              "  </div>\n",
              "  "
            ]
          },
          "metadata": {},
          "execution_count": 2
        }
      ]
    },
    {
      "cell_type": "code",
      "source": [
        "data['nar']=data['st_tokens'].str.replace('[^A-Za-z\\s]', '',regex=True)"
      ],
      "metadata": {
        "id": "ZD9RV49jBehM"
      },
      "execution_count": 3,
      "outputs": []
    },
    {
      "cell_type": "code",
      "source": [
        "data=data.drop('vectorized',axis=1)"
      ],
      "metadata": {
        "id": "uhQvKCEqBodA"
      },
      "execution_count": 4,
      "outputs": []
    },
    {
      "cell_type": "code",
      "source": [
        "data=data.drop('st_tokens',axis=1)"
      ],
      "metadata": {
        "id": "pI2fW16sCTcy"
      },
      "execution_count": 5,
      "outputs": []
    },
    {
      "cell_type": "code",
      "source": [
        "data=data.drop('sum_vec',axis=1)"
      ],
      "metadata": {
        "id": "JWarNm8FCidC"
      },
      "execution_count": 6,
      "outputs": []
    },
    {
      "cell_type": "code",
      "source": [
        "import nltk\n",
        "nltk.download('stopwords')\n",
        "nltk.download('punkt')\n",
        "from nltk.corpus import stopwords\n",
        "from nltk.stem import PorterStemmer\n",
        "from nltk.tokenize import word_tokenize \n",
        "stop_words=set(stopwords.words('english'))"
      ],
      "metadata": {
        "colab": {
          "base_uri": "https://localhost:8080/"
        },
        "id": "tsFNLmEkC21g",
        "outputId": "40cf1abb-0c42-40e1-c009-23bd69c3859c"
      },
      "execution_count": 7,
      "outputs": [
        {
          "output_type": "stream",
          "name": "stderr",
          "text": [
            "[nltk_data] Downloading package stopwords to /root/nltk_data...\n",
            "[nltk_data]   Package stopwords is already up-to-date!\n",
            "[nltk_data] Downloading package punkt to /root/nltk_data...\n",
            "[nltk_data]   Package punkt is already up-to-date!\n"
          ]
        }
      ]
    },
    {
      "cell_type": "code",
      "source": [
        "stop_words.add('cash')\n",
        "# ,'ac','credit','debit','mm'\n",
        "stop_words.add('ac')\n",
        "stop_words.add('credit')\n",
        "stop_words.add('debit')\n",
        "stop_words.add('mm')"
      ],
      "metadata": {
        "id": "f4ycsSgtDWcr"
      },
      "execution_count": 8,
      "outputs": []
    },
    {
      "cell_type": "code",
      "source": [
        "def tokenize(text):\n",
        "    return [w for w in word_tokenize(text) if not w in stop_words]"
      ],
      "metadata": {
        "id": "LFB0mFJhCqyU"
      },
      "execution_count": 9,
      "outputs": []
    },
    {
      "cell_type": "code",
      "source": [
        "data['tok']=data['nar'].apply(tokenize)"
      ],
      "metadata": {
        "id": "L93vUUzFD_9g"
      },
      "execution_count": 10,
      "outputs": []
    },
    {
      "cell_type": "code",
      "source": [
        "data.head()"
      ],
      "metadata": {
        "colab": {
          "base_uri": "https://localhost:8080/",
          "height": 206
        },
        "id": "5yLBnQtKEfTk",
        "outputId": "141ad009-84d0-4f83-abfe-06ba7bb68971"
      },
      "execution_count": 11,
      "outputs": [
        {
          "output_type": "execute_result",
          "data": {
            "text/plain": [
              "     AC_ID k_cat                                       nar  \\\n",
              "0  3644877  [10]                             cash withdraw   \n",
              "1  1175256  [10]                        cash withdrawal ac   \n",
              "2  2298226   [1]  cash withdraw micro merchant point mm ac   \n",
              "3  4066427   [2]  credit merchant cash withdraw service ac   \n",
              "4    38418   [3]                           cash deposit ac   \n",
              "\n",
              "                                  tok  \n",
              "0                          [withdraw]  \n",
              "1                        [withdrawal]  \n",
              "2  [withdraw, micro, merchant, point]  \n",
              "3       [merchant, withdraw, service]  \n",
              "4                           [deposit]  "
            ],
            "text/html": [
              "\n",
              "  <div id=\"df-b5584259-e511-45ab-a4ab-8f2bf4ddf35b\">\n",
              "    <div class=\"colab-df-container\">\n",
              "      <div>\n",
              "<style scoped>\n",
              "    .dataframe tbody tr th:only-of-type {\n",
              "        vertical-align: middle;\n",
              "    }\n",
              "\n",
              "    .dataframe tbody tr th {\n",
              "        vertical-align: top;\n",
              "    }\n",
              "\n",
              "    .dataframe thead th {\n",
              "        text-align: right;\n",
              "    }\n",
              "</style>\n",
              "<table border=\"1\" class=\"dataframe\">\n",
              "  <thead>\n",
              "    <tr style=\"text-align: right;\">\n",
              "      <th></th>\n",
              "      <th>AC_ID</th>\n",
              "      <th>k_cat</th>\n",
              "      <th>nar</th>\n",
              "      <th>tok</th>\n",
              "    </tr>\n",
              "  </thead>\n",
              "  <tbody>\n",
              "    <tr>\n",
              "      <th>0</th>\n",
              "      <td>3644877</td>\n",
              "      <td>[10]</td>\n",
              "      <td>cash withdraw</td>\n",
              "      <td>[withdraw]</td>\n",
              "    </tr>\n",
              "    <tr>\n",
              "      <th>1</th>\n",
              "      <td>1175256</td>\n",
              "      <td>[10]</td>\n",
              "      <td>cash withdrawal ac</td>\n",
              "      <td>[withdrawal]</td>\n",
              "    </tr>\n",
              "    <tr>\n",
              "      <th>2</th>\n",
              "      <td>2298226</td>\n",
              "      <td>[1]</td>\n",
              "      <td>cash withdraw micro merchant point mm ac</td>\n",
              "      <td>[withdraw, micro, merchant, point]</td>\n",
              "    </tr>\n",
              "    <tr>\n",
              "      <th>3</th>\n",
              "      <td>4066427</td>\n",
              "      <td>[2]</td>\n",
              "      <td>credit merchant cash withdraw service ac</td>\n",
              "      <td>[merchant, withdraw, service]</td>\n",
              "    </tr>\n",
              "    <tr>\n",
              "      <th>4</th>\n",
              "      <td>38418</td>\n",
              "      <td>[3]</td>\n",
              "      <td>cash deposit ac</td>\n",
              "      <td>[deposit]</td>\n",
              "    </tr>\n",
              "  </tbody>\n",
              "</table>\n",
              "</div>\n",
              "      <button class=\"colab-df-convert\" onclick=\"convertToInteractive('df-b5584259-e511-45ab-a4ab-8f2bf4ddf35b')\"\n",
              "              title=\"Convert this dataframe to an interactive table.\"\n",
              "              style=\"display:none;\">\n",
              "        \n",
              "  <svg xmlns=\"http://www.w3.org/2000/svg\" height=\"24px\"viewBox=\"0 0 24 24\"\n",
              "       width=\"24px\">\n",
              "    <path d=\"M0 0h24v24H0V0z\" fill=\"none\"/>\n",
              "    <path d=\"M18.56 5.44l.94 2.06.94-2.06 2.06-.94-2.06-.94-.94-2.06-.94 2.06-2.06.94zm-11 1L8.5 8.5l.94-2.06 2.06-.94-2.06-.94L8.5 2.5l-.94 2.06-2.06.94zm10 10l.94 2.06.94-2.06 2.06-.94-2.06-.94-.94-2.06-.94 2.06-2.06.94z\"/><path d=\"M17.41 7.96l-1.37-1.37c-.4-.4-.92-.59-1.43-.59-.52 0-1.04.2-1.43.59L10.3 9.45l-7.72 7.72c-.78.78-.78 2.05 0 2.83L4 21.41c.39.39.9.59 1.41.59.51 0 1.02-.2 1.41-.59l7.78-7.78 2.81-2.81c.8-.78.8-2.07 0-2.86zM5.41 20L4 18.59l7.72-7.72 1.47 1.35L5.41 20z\"/>\n",
              "  </svg>\n",
              "      </button>\n",
              "      \n",
              "  <style>\n",
              "    .colab-df-container {\n",
              "      display:flex;\n",
              "      flex-wrap:wrap;\n",
              "      gap: 12px;\n",
              "    }\n",
              "\n",
              "    .colab-df-convert {\n",
              "      background-color: #E8F0FE;\n",
              "      border: none;\n",
              "      border-radius: 50%;\n",
              "      cursor: pointer;\n",
              "      display: none;\n",
              "      fill: #1967D2;\n",
              "      height: 32px;\n",
              "      padding: 0 0 0 0;\n",
              "      width: 32px;\n",
              "    }\n",
              "\n",
              "    .colab-df-convert:hover {\n",
              "      background-color: #E2EBFA;\n",
              "      box-shadow: 0px 1px 2px rgba(60, 64, 67, 0.3), 0px 1px 3px 1px rgba(60, 64, 67, 0.15);\n",
              "      fill: #174EA6;\n",
              "    }\n",
              "\n",
              "    [theme=dark] .colab-df-convert {\n",
              "      background-color: #3B4455;\n",
              "      fill: #D2E3FC;\n",
              "    }\n",
              "\n",
              "    [theme=dark] .colab-df-convert:hover {\n",
              "      background-color: #434B5C;\n",
              "      box-shadow: 0px 1px 3px 1px rgba(0, 0, 0, 0.15);\n",
              "      filter: drop-shadow(0px 1px 2px rgba(0, 0, 0, 0.3));\n",
              "      fill: #FFFFFF;\n",
              "    }\n",
              "  </style>\n",
              "\n",
              "      <script>\n",
              "        const buttonEl =\n",
              "          document.querySelector('#df-b5584259-e511-45ab-a4ab-8f2bf4ddf35b button.colab-df-convert');\n",
              "        buttonEl.style.display =\n",
              "          google.colab.kernel.accessAllowed ? 'block' : 'none';\n",
              "\n",
              "        async function convertToInteractive(key) {\n",
              "          const element = document.querySelector('#df-b5584259-e511-45ab-a4ab-8f2bf4ddf35b');\n",
              "          const dataTable =\n",
              "            await google.colab.kernel.invokeFunction('convertToInteractive',\n",
              "                                                     [key], {});\n",
              "          if (!dataTable) return;\n",
              "\n",
              "          const docLinkHtml = 'Like what you see? Visit the ' +\n",
              "            '<a target=\"_blank\" href=https://colab.research.google.com/notebooks/data_table.ipynb>data table notebook</a>'\n",
              "            + ' to learn more about interactive tables.';\n",
              "          element.innerHTML = '';\n",
              "          dataTable['output_type'] = 'display_data';\n",
              "          await google.colab.output.renderOutput(dataTable, element);\n",
              "          const docLink = document.createElement('div');\n",
              "          docLink.innerHTML = docLinkHtml;\n",
              "          element.appendChild(docLink);\n",
              "        }\n",
              "      </script>\n",
              "    </div>\n",
              "  </div>\n",
              "  "
            ]
          },
          "metadata": {},
          "execution_count": 11
        }
      ]
    },
    {
      "cell_type": "code",
      "source": [
        "token_list=data['tok'].tolist()\n",
        "token_list[:10]"
      ],
      "metadata": {
        "colab": {
          "base_uri": "https://localhost:8080/"
        },
        "id": "jfkOROB5AgRV",
        "outputId": "68c96e75-7da4-49d5-d3ed-13164f63e26e"
      },
      "execution_count": 12,
      "outputs": [
        {
          "output_type": "execute_result",
          "data": {
            "text/plain": [
              "[['withdraw'],\n",
              " ['withdrawal'],\n",
              " ['withdraw', 'micro', 'merchant', 'point'],\n",
              " ['merchant', 'withdraw', 'service'],\n",
              " ['deposit'],\n",
              " ['deposit'],\n",
              " ['new', 'atm', 'card', 'charge'],\n",
              " ['palli', 'bidyut', 'bill', 'collection'],\n",
              " ['agri', 'agent', 'commission'],\n",
              " ['inter', 'agent', 'withdraw']]"
            ]
          },
          "metadata": {},
          "execution_count": 12
        }
      ]
    },
    {
      "cell_type": "code",
      "source": [
        "from gensim.models import Word2Vec\n",
        "\n",
        "# Assuming 'tokens' is a list of tokenized documents\n",
        "model = Word2Vec(token_list,min_count=1)\n",
        "# X = [model[token] for token in tokens]\n"
      ],
      "metadata": {
        "id": "Y-4OVV-PArMM"
      },
      "execution_count": 13,
      "outputs": []
    },
    {
      "cell_type": "code",
      "source": [
        "print(model)"
      ],
      "metadata": {
        "colab": {
          "base_uri": "https://localhost:8080/"
        },
        "id": "JAOe1xEvAzw-",
        "outputId": "f2228a28-978f-4075-e683-d1721863ef66"
      },
      "execution_count": 68,
      "outputs": [
        {
          "output_type": "stream",
          "name": "stdout",
          "text": [
            "Word2Vec<vocab=38400, vector_size=100, alpha=0.025>\n"
          ]
        }
      ]
    },
    {
      "cell_type": "code",
      "source": [
        "data['vectorized'] = data['tok'].apply(lambda x: [model.wv.get_vector(word ,norm=True) for word in x])"
      ],
      "metadata": {
        "id": "tJvMUwNmEvNZ"
      },
      "execution_count": 14,
      "outputs": []
    },
    {
      "cell_type": "code",
      "source": [
        "data.tail()"
      ],
      "metadata": {
        "colab": {
          "base_uri": "https://localhost:8080/",
          "height": 206
        },
        "id": "9M4jBCtUE9hR",
        "outputId": "74a036ef-08ef-4804-e86f-6df0c8ef7f6c"
      },
      "execution_count": 15,
      "outputs": [
        {
          "output_type": "execute_result",
          "data": {
            "text/plain": [
              "          AC_ID k_cat                                                nar  \\\n",
              "128598  4010179  [10]                                        guatala udc   \n",
              "128599  4199653   [0]  transaction fund transfer smart app regular fu...   \n",
              "128600  2389876   [3]                                       cash deposit   \n",
              "128601  4817300  [10]                                                      \n",
              "128602   789386  [10]                                                      \n",
              "\n",
              "                                                      tok  \\\n",
              "128598                                     [guatala, udc]   \n",
              "128599  [transaction, fund, transfer, smart, app, regu...   \n",
              "128600                                          [deposit]   \n",
              "128601                                                 []   \n",
              "128602                                                 []   \n",
              "\n",
              "                                               vectorized  \n",
              "128598  [[-0.033698983, 0.1603815, 0.022689482, 0.0774...  \n",
              "128599  [[-0.036927376, 0.061073553, 0.06834131, -0.14...  \n",
              "128600  [[-0.16920891, 0.03277916, -0.0038454516, 0.09...  \n",
              "128601                                                 []  \n",
              "128602                                                 []  "
            ],
            "text/html": [
              "\n",
              "  <div id=\"df-226f2f47-bdf0-439c-a778-286cff35a23b\">\n",
              "    <div class=\"colab-df-container\">\n",
              "      <div>\n",
              "<style scoped>\n",
              "    .dataframe tbody tr th:only-of-type {\n",
              "        vertical-align: middle;\n",
              "    }\n",
              "\n",
              "    .dataframe tbody tr th {\n",
              "        vertical-align: top;\n",
              "    }\n",
              "\n",
              "    .dataframe thead th {\n",
              "        text-align: right;\n",
              "    }\n",
              "</style>\n",
              "<table border=\"1\" class=\"dataframe\">\n",
              "  <thead>\n",
              "    <tr style=\"text-align: right;\">\n",
              "      <th></th>\n",
              "      <th>AC_ID</th>\n",
              "      <th>k_cat</th>\n",
              "      <th>nar</th>\n",
              "      <th>tok</th>\n",
              "      <th>vectorized</th>\n",
              "    </tr>\n",
              "  </thead>\n",
              "  <tbody>\n",
              "    <tr>\n",
              "      <th>128598</th>\n",
              "      <td>4010179</td>\n",
              "      <td>[10]</td>\n",
              "      <td>guatala udc</td>\n",
              "      <td>[guatala, udc]</td>\n",
              "      <td>[[-0.033698983, 0.1603815, 0.022689482, 0.0774...</td>\n",
              "    </tr>\n",
              "    <tr>\n",
              "      <th>128599</th>\n",
              "      <td>4199653</td>\n",
              "      <td>[0]</td>\n",
              "      <td>transaction fund transfer smart app regular fu...</td>\n",
              "      <td>[transaction, fund, transfer, smart, app, regu...</td>\n",
              "      <td>[[-0.036927376, 0.061073553, 0.06834131, -0.14...</td>\n",
              "    </tr>\n",
              "    <tr>\n",
              "      <th>128600</th>\n",
              "      <td>2389876</td>\n",
              "      <td>[3]</td>\n",
              "      <td>cash deposit</td>\n",
              "      <td>[deposit]</td>\n",
              "      <td>[[-0.16920891, 0.03277916, -0.0038454516, 0.09...</td>\n",
              "    </tr>\n",
              "    <tr>\n",
              "      <th>128601</th>\n",
              "      <td>4817300</td>\n",
              "      <td>[10]</td>\n",
              "      <td></td>\n",
              "      <td>[]</td>\n",
              "      <td>[]</td>\n",
              "    </tr>\n",
              "    <tr>\n",
              "      <th>128602</th>\n",
              "      <td>789386</td>\n",
              "      <td>[10]</td>\n",
              "      <td></td>\n",
              "      <td>[]</td>\n",
              "      <td>[]</td>\n",
              "    </tr>\n",
              "  </tbody>\n",
              "</table>\n",
              "</div>\n",
              "      <button class=\"colab-df-convert\" onclick=\"convertToInteractive('df-226f2f47-bdf0-439c-a778-286cff35a23b')\"\n",
              "              title=\"Convert this dataframe to an interactive table.\"\n",
              "              style=\"display:none;\">\n",
              "        \n",
              "  <svg xmlns=\"http://www.w3.org/2000/svg\" height=\"24px\"viewBox=\"0 0 24 24\"\n",
              "       width=\"24px\">\n",
              "    <path d=\"M0 0h24v24H0V0z\" fill=\"none\"/>\n",
              "    <path d=\"M18.56 5.44l.94 2.06.94-2.06 2.06-.94-2.06-.94-.94-2.06-.94 2.06-2.06.94zm-11 1L8.5 8.5l.94-2.06 2.06-.94-2.06-.94L8.5 2.5l-.94 2.06-2.06.94zm10 10l.94 2.06.94-2.06 2.06-.94-2.06-.94-.94-2.06-.94 2.06-2.06.94z\"/><path d=\"M17.41 7.96l-1.37-1.37c-.4-.4-.92-.59-1.43-.59-.52 0-1.04.2-1.43.59L10.3 9.45l-7.72 7.72c-.78.78-.78 2.05 0 2.83L4 21.41c.39.39.9.59 1.41.59.51 0 1.02-.2 1.41-.59l7.78-7.78 2.81-2.81c.8-.78.8-2.07 0-2.86zM5.41 20L4 18.59l7.72-7.72 1.47 1.35L5.41 20z\"/>\n",
              "  </svg>\n",
              "      </button>\n",
              "      \n",
              "  <style>\n",
              "    .colab-df-container {\n",
              "      display:flex;\n",
              "      flex-wrap:wrap;\n",
              "      gap: 12px;\n",
              "    }\n",
              "\n",
              "    .colab-df-convert {\n",
              "      background-color: #E8F0FE;\n",
              "      border: none;\n",
              "      border-radius: 50%;\n",
              "      cursor: pointer;\n",
              "      display: none;\n",
              "      fill: #1967D2;\n",
              "      height: 32px;\n",
              "      padding: 0 0 0 0;\n",
              "      width: 32px;\n",
              "    }\n",
              "\n",
              "    .colab-df-convert:hover {\n",
              "      background-color: #E2EBFA;\n",
              "      box-shadow: 0px 1px 2px rgba(60, 64, 67, 0.3), 0px 1px 3px 1px rgba(60, 64, 67, 0.15);\n",
              "      fill: #174EA6;\n",
              "    }\n",
              "\n",
              "    [theme=dark] .colab-df-convert {\n",
              "      background-color: #3B4455;\n",
              "      fill: #D2E3FC;\n",
              "    }\n",
              "\n",
              "    [theme=dark] .colab-df-convert:hover {\n",
              "      background-color: #434B5C;\n",
              "      box-shadow: 0px 1px 3px 1px rgba(0, 0, 0, 0.15);\n",
              "      filter: drop-shadow(0px 1px 2px rgba(0, 0, 0, 0.3));\n",
              "      fill: #FFFFFF;\n",
              "    }\n",
              "  </style>\n",
              "\n",
              "      <script>\n",
              "        const buttonEl =\n",
              "          document.querySelector('#df-226f2f47-bdf0-439c-a778-286cff35a23b button.colab-df-convert');\n",
              "        buttonEl.style.display =\n",
              "          google.colab.kernel.accessAllowed ? 'block' : 'none';\n",
              "\n",
              "        async function convertToInteractive(key) {\n",
              "          const element = document.querySelector('#df-226f2f47-bdf0-439c-a778-286cff35a23b');\n",
              "          const dataTable =\n",
              "            await google.colab.kernel.invokeFunction('convertToInteractive',\n",
              "                                                     [key], {});\n",
              "          if (!dataTable) return;\n",
              "\n",
              "          const docLinkHtml = 'Like what you see? Visit the ' +\n",
              "            '<a target=\"_blank\" href=https://colab.research.google.com/notebooks/data_table.ipynb>data table notebook</a>'\n",
              "            + ' to learn more about interactive tables.';\n",
              "          element.innerHTML = '';\n",
              "          dataTable['output_type'] = 'display_data';\n",
              "          await google.colab.output.renderOutput(dataTable, element);\n",
              "          const docLink = document.createElement('div');\n",
              "          docLink.innerHTML = docLinkHtml;\n",
              "          element.appendChild(docLink);\n",
              "        }\n",
              "      </script>\n",
              "    </div>\n",
              "  </div>\n",
              "  "
            ]
          },
          "metadata": {},
          "execution_count": 15
        }
      ]
    },
    {
      "cell_type": "code",
      "source": [
        "def avg_vec(vectors):\n",
        "    s_vec=np.zeros(100)\n",
        "    cnt=0\n",
        "    for v in vectors:\n",
        "        cnt+=1\n",
        "        s_vec+=v\n",
        "    s_res=s_vec/cnt\n",
        "    return s_res"
      ],
      "metadata": {
        "id": "6bjJbxGv-4KH"
      },
      "execution_count": 16,
      "outputs": []
    },
    {
      "cell_type": "code",
      "source": [
        "def vec_pr(vecs):\n",
        "  for v in vecs:\n",
        "    print(v)\n",
        "\n",
        "vec_pr(data['vectorized'][2])"
      ],
      "metadata": {
        "id": "ljFcAliN_VPv"
      },
      "execution_count": null,
      "outputs": []
    },
    {
      "cell_type": "code",
      "source": [
        "data['avg_vec']=data['vectorized'].apply(avg_vec)"
      ],
      "metadata": {
        "id": "AvedGnp1--K-"
      },
      "execution_count": 17,
      "outputs": []
    },
    {
      "cell_type": "code",
      "source": [
        "data=data.drop('vectorized',axis=1)\n"
      ],
      "metadata": {
        "id": "h9GwbOOH-iTz"
      },
      "execution_count": 18,
      "outputs": []
    },
    {
      "cell_type": "code",
      "source": [
        "data.head()"
      ],
      "metadata": {
        "colab": {
          "base_uri": "https://localhost:8080/",
          "height": 206
        },
        "id": "qYtbP_taFhRs",
        "outputId": "821d3d6e-9a7c-48c6-9197-ad19a89e1b92"
      },
      "execution_count": 78,
      "outputs": [
        {
          "output_type": "execute_result",
          "data": {
            "text/plain": [
              "     AC_ID k_cat                                       nar  \\\n",
              "0  3644877  [10]                             cash withdraw   \n",
              "1  1175256  [10]                        cash withdrawal ac   \n",
              "2  2298226   [1]  cash withdraw micro merchant point mm ac   \n",
              "3  4066427   [2]  credit merchant cash withdraw service ac   \n",
              "4    38418   [3]                           cash deposit ac   \n",
              "\n",
              "                                                tok  \\\n",
              "0                                  [cash, withdraw]   \n",
              "1                            [cash, withdrawal, ac]   \n",
              "2  [cash, withdraw, micro, merchant, point, mm, ac]   \n",
              "3   [credit, merchant, cash, withdraw, service, ac]   \n",
              "4                               [cash, deposit, ac]   \n",
              "\n",
              "                                             avg_vec  \n",
              "0  [0.013483261689543724, 0.028128000209107995, 0...  \n",
              "1  [0.04203909387191137, -0.049564197193831205, 0...  \n",
              "2  [-0.07496801710554532, 0.034611711877265146, 0...  \n",
              "3  [-0.01592357022066911, -0.019762506242841482, ...  \n",
              "4  [0.028572234014670055, -0.022196612786501646, ...  "
            ],
            "text/html": [
              "\n",
              "  <div id=\"df-35d52880-1f73-4771-8a3e-de4f3b1aa06e\">\n",
              "    <div class=\"colab-df-container\">\n",
              "      <div>\n",
              "<style scoped>\n",
              "    .dataframe tbody tr th:only-of-type {\n",
              "        vertical-align: middle;\n",
              "    }\n",
              "\n",
              "    .dataframe tbody tr th {\n",
              "        vertical-align: top;\n",
              "    }\n",
              "\n",
              "    .dataframe thead th {\n",
              "        text-align: right;\n",
              "    }\n",
              "</style>\n",
              "<table border=\"1\" class=\"dataframe\">\n",
              "  <thead>\n",
              "    <tr style=\"text-align: right;\">\n",
              "      <th></th>\n",
              "      <th>AC_ID</th>\n",
              "      <th>k_cat</th>\n",
              "      <th>nar</th>\n",
              "      <th>tok</th>\n",
              "      <th>avg_vec</th>\n",
              "    </tr>\n",
              "  </thead>\n",
              "  <tbody>\n",
              "    <tr>\n",
              "      <th>0</th>\n",
              "      <td>3644877</td>\n",
              "      <td>[10]</td>\n",
              "      <td>cash withdraw</td>\n",
              "      <td>[cash, withdraw]</td>\n",
              "      <td>[0.013483261689543724, 0.028128000209107995, 0...</td>\n",
              "    </tr>\n",
              "    <tr>\n",
              "      <th>1</th>\n",
              "      <td>1175256</td>\n",
              "      <td>[10]</td>\n",
              "      <td>cash withdrawal ac</td>\n",
              "      <td>[cash, withdrawal, ac]</td>\n",
              "      <td>[0.04203909387191137, -0.049564197193831205, 0...</td>\n",
              "    </tr>\n",
              "    <tr>\n",
              "      <th>2</th>\n",
              "      <td>2298226</td>\n",
              "      <td>[1]</td>\n",
              "      <td>cash withdraw micro merchant point mm ac</td>\n",
              "      <td>[cash, withdraw, micro, merchant, point, mm, ac]</td>\n",
              "      <td>[-0.07496801710554532, 0.034611711877265146, 0...</td>\n",
              "    </tr>\n",
              "    <tr>\n",
              "      <th>3</th>\n",
              "      <td>4066427</td>\n",
              "      <td>[2]</td>\n",
              "      <td>credit merchant cash withdraw service ac</td>\n",
              "      <td>[credit, merchant, cash, withdraw, service, ac]</td>\n",
              "      <td>[-0.01592357022066911, -0.019762506242841482, ...</td>\n",
              "    </tr>\n",
              "    <tr>\n",
              "      <th>4</th>\n",
              "      <td>38418</td>\n",
              "      <td>[3]</td>\n",
              "      <td>cash deposit ac</td>\n",
              "      <td>[cash, deposit, ac]</td>\n",
              "      <td>[0.028572234014670055, -0.022196612786501646, ...</td>\n",
              "    </tr>\n",
              "  </tbody>\n",
              "</table>\n",
              "</div>\n",
              "      <button class=\"colab-df-convert\" onclick=\"convertToInteractive('df-35d52880-1f73-4771-8a3e-de4f3b1aa06e')\"\n",
              "              title=\"Convert this dataframe to an interactive table.\"\n",
              "              style=\"display:none;\">\n",
              "        \n",
              "  <svg xmlns=\"http://www.w3.org/2000/svg\" height=\"24px\"viewBox=\"0 0 24 24\"\n",
              "       width=\"24px\">\n",
              "    <path d=\"M0 0h24v24H0V0z\" fill=\"none\"/>\n",
              "    <path d=\"M18.56 5.44l.94 2.06.94-2.06 2.06-.94-2.06-.94-.94-2.06-.94 2.06-2.06.94zm-11 1L8.5 8.5l.94-2.06 2.06-.94-2.06-.94L8.5 2.5l-.94 2.06-2.06.94zm10 10l.94 2.06.94-2.06 2.06-.94-2.06-.94-.94-2.06-.94 2.06-2.06.94z\"/><path d=\"M17.41 7.96l-1.37-1.37c-.4-.4-.92-.59-1.43-.59-.52 0-1.04.2-1.43.59L10.3 9.45l-7.72 7.72c-.78.78-.78 2.05 0 2.83L4 21.41c.39.39.9.59 1.41.59.51 0 1.02-.2 1.41-.59l7.78-7.78 2.81-2.81c.8-.78.8-2.07 0-2.86zM5.41 20L4 18.59l7.72-7.72 1.47 1.35L5.41 20z\"/>\n",
              "  </svg>\n",
              "      </button>\n",
              "      \n",
              "  <style>\n",
              "    .colab-df-container {\n",
              "      display:flex;\n",
              "      flex-wrap:wrap;\n",
              "      gap: 12px;\n",
              "    }\n",
              "\n",
              "    .colab-df-convert {\n",
              "      background-color: #E8F0FE;\n",
              "      border: none;\n",
              "      border-radius: 50%;\n",
              "      cursor: pointer;\n",
              "      display: none;\n",
              "      fill: #1967D2;\n",
              "      height: 32px;\n",
              "      padding: 0 0 0 0;\n",
              "      width: 32px;\n",
              "    }\n",
              "\n",
              "    .colab-df-convert:hover {\n",
              "      background-color: #E2EBFA;\n",
              "      box-shadow: 0px 1px 2px rgba(60, 64, 67, 0.3), 0px 1px 3px 1px rgba(60, 64, 67, 0.15);\n",
              "      fill: #174EA6;\n",
              "    }\n",
              "\n",
              "    [theme=dark] .colab-df-convert {\n",
              "      background-color: #3B4455;\n",
              "      fill: #D2E3FC;\n",
              "    }\n",
              "\n",
              "    [theme=dark] .colab-df-convert:hover {\n",
              "      background-color: #434B5C;\n",
              "      box-shadow: 0px 1px 3px 1px rgba(0, 0, 0, 0.15);\n",
              "      filter: drop-shadow(0px 1px 2px rgba(0, 0, 0, 0.3));\n",
              "      fill: #FFFFFF;\n",
              "    }\n",
              "  </style>\n",
              "\n",
              "      <script>\n",
              "        const buttonEl =\n",
              "          document.querySelector('#df-35d52880-1f73-4771-8a3e-de4f3b1aa06e button.colab-df-convert');\n",
              "        buttonEl.style.display =\n",
              "          google.colab.kernel.accessAllowed ? 'block' : 'none';\n",
              "\n",
              "        async function convertToInteractive(key) {\n",
              "          const element = document.querySelector('#df-35d52880-1f73-4771-8a3e-de4f3b1aa06e');\n",
              "          const dataTable =\n",
              "            await google.colab.kernel.invokeFunction('convertToInteractive',\n",
              "                                                     [key], {});\n",
              "          if (!dataTable) return;\n",
              "\n",
              "          const docLinkHtml = 'Like what you see? Visit the ' +\n",
              "            '<a target=\"_blank\" href=https://colab.research.google.com/notebooks/data_table.ipynb>data table notebook</a>'\n",
              "            + ' to learn more about interactive tables.';\n",
              "          element.innerHTML = '';\n",
              "          dataTable['output_type'] = 'display_data';\n",
              "          await google.colab.output.renderOutput(dataTable, element);\n",
              "          const docLink = document.createElement('div');\n",
              "          docLink.innerHTML = docLinkHtml;\n",
              "          element.appendChild(docLink);\n",
              "        }\n",
              "      </script>\n",
              "    </div>\n",
              "  </div>\n",
              "  "
            ]
          },
          "metadata": {},
          "execution_count": 78
        }
      ]
    },
    {
      "cell_type": "code",
      "source": [
        "nan_rows = data[data['avg_vec'].isna()]"
      ],
      "metadata": {
        "id": "jNsomdPdGM9B"
      },
      "execution_count": 82,
      "outputs": []
    },
    {
      "cell_type": "code",
      "source": [
        "nan_rows"
      ],
      "metadata": {
        "colab": {
          "base_uri": "https://localhost:8080/",
          "height": 49
        },
        "id": "DWy0ArZSGnPT",
        "outputId": "2108fae4-a6e4-4b7d-d1d4-a4a943eee0b1"
      },
      "execution_count": 83,
      "outputs": [
        {
          "output_type": "execute_result",
          "data": {
            "text/plain": [
              "Empty DataFrame\n",
              "Columns: [AC_ID, k_cat, nar, tok, avg_vec]\n",
              "Index: []"
            ],
            "text/html": [
              "\n",
              "  <div id=\"df-02a562bb-c3a8-49f1-adbc-70c0d765620c\">\n",
              "    <div class=\"colab-df-container\">\n",
              "      <div>\n",
              "<style scoped>\n",
              "    .dataframe tbody tr th:only-of-type {\n",
              "        vertical-align: middle;\n",
              "    }\n",
              "\n",
              "    .dataframe tbody tr th {\n",
              "        vertical-align: top;\n",
              "    }\n",
              "\n",
              "    .dataframe thead th {\n",
              "        text-align: right;\n",
              "    }\n",
              "</style>\n",
              "<table border=\"1\" class=\"dataframe\">\n",
              "  <thead>\n",
              "    <tr style=\"text-align: right;\">\n",
              "      <th></th>\n",
              "      <th>AC_ID</th>\n",
              "      <th>k_cat</th>\n",
              "      <th>nar</th>\n",
              "      <th>tok</th>\n",
              "      <th>avg_vec</th>\n",
              "    </tr>\n",
              "  </thead>\n",
              "  <tbody>\n",
              "  </tbody>\n",
              "</table>\n",
              "</div>\n",
              "      <button class=\"colab-df-convert\" onclick=\"convertToInteractive('df-02a562bb-c3a8-49f1-adbc-70c0d765620c')\"\n",
              "              title=\"Convert this dataframe to an interactive table.\"\n",
              "              style=\"display:none;\">\n",
              "        \n",
              "  <svg xmlns=\"http://www.w3.org/2000/svg\" height=\"24px\"viewBox=\"0 0 24 24\"\n",
              "       width=\"24px\">\n",
              "    <path d=\"M0 0h24v24H0V0z\" fill=\"none\"/>\n",
              "    <path d=\"M18.56 5.44l.94 2.06.94-2.06 2.06-.94-2.06-.94-.94-2.06-.94 2.06-2.06.94zm-11 1L8.5 8.5l.94-2.06 2.06-.94-2.06-.94L8.5 2.5l-.94 2.06-2.06.94zm10 10l.94 2.06.94-2.06 2.06-.94-2.06-.94-.94-2.06-.94 2.06-2.06.94z\"/><path d=\"M17.41 7.96l-1.37-1.37c-.4-.4-.92-.59-1.43-.59-.52 0-1.04.2-1.43.59L10.3 9.45l-7.72 7.72c-.78.78-.78 2.05 0 2.83L4 21.41c.39.39.9.59 1.41.59.51 0 1.02-.2 1.41-.59l7.78-7.78 2.81-2.81c.8-.78.8-2.07 0-2.86zM5.41 20L4 18.59l7.72-7.72 1.47 1.35L5.41 20z\"/>\n",
              "  </svg>\n",
              "      </button>\n",
              "      \n",
              "  <style>\n",
              "    .colab-df-container {\n",
              "      display:flex;\n",
              "      flex-wrap:wrap;\n",
              "      gap: 12px;\n",
              "    }\n",
              "\n",
              "    .colab-df-convert {\n",
              "      background-color: #E8F0FE;\n",
              "      border: none;\n",
              "      border-radius: 50%;\n",
              "      cursor: pointer;\n",
              "      display: none;\n",
              "      fill: #1967D2;\n",
              "      height: 32px;\n",
              "      padding: 0 0 0 0;\n",
              "      width: 32px;\n",
              "    }\n",
              "\n",
              "    .colab-df-convert:hover {\n",
              "      background-color: #E2EBFA;\n",
              "      box-shadow: 0px 1px 2px rgba(60, 64, 67, 0.3), 0px 1px 3px 1px rgba(60, 64, 67, 0.15);\n",
              "      fill: #174EA6;\n",
              "    }\n",
              "\n",
              "    [theme=dark] .colab-df-convert {\n",
              "      background-color: #3B4455;\n",
              "      fill: #D2E3FC;\n",
              "    }\n",
              "\n",
              "    [theme=dark] .colab-df-convert:hover {\n",
              "      background-color: #434B5C;\n",
              "      box-shadow: 0px 1px 3px 1px rgba(0, 0, 0, 0.15);\n",
              "      filter: drop-shadow(0px 1px 2px rgba(0, 0, 0, 0.3));\n",
              "      fill: #FFFFFF;\n",
              "    }\n",
              "  </style>\n",
              "\n",
              "      <script>\n",
              "        const buttonEl =\n",
              "          document.querySelector('#df-02a562bb-c3a8-49f1-adbc-70c0d765620c button.colab-df-convert');\n",
              "        buttonEl.style.display =\n",
              "          google.colab.kernel.accessAllowed ? 'block' : 'none';\n",
              "\n",
              "        async function convertToInteractive(key) {\n",
              "          const element = document.querySelector('#df-02a562bb-c3a8-49f1-adbc-70c0d765620c');\n",
              "          const dataTable =\n",
              "            await google.colab.kernel.invokeFunction('convertToInteractive',\n",
              "                                                     [key], {});\n",
              "          if (!dataTable) return;\n",
              "\n",
              "          const docLinkHtml = 'Like what you see? Visit the ' +\n",
              "            '<a target=\"_blank\" href=https://colab.research.google.com/notebooks/data_table.ipynb>data table notebook</a>'\n",
              "            + ' to learn more about interactive tables.';\n",
              "          element.innerHTML = '';\n",
              "          dataTable['output_type'] = 'display_data';\n",
              "          await google.colab.output.renderOutput(dataTable, element);\n",
              "          const docLink = document.createElement('div');\n",
              "          docLink.innerHTML = docLinkHtml;\n",
              "          element.appendChild(docLink);\n",
              "        }\n",
              "      </script>\n",
              "    </div>\n",
              "  </div>\n",
              "  "
            ]
          },
          "metadata": {},
          "execution_count": 83
        }
      ]
    },
    {
      "cell_type": "code",
      "source": [
        "data.tail()"
      ],
      "metadata": {
        "colab": {
          "base_uri": "https://localhost:8080/",
          "height": 206
        },
        "id": "AG8-YqUGI60M",
        "outputId": "e0e6ad76-09a5-4b72-ff68-c012712b9536"
      },
      "execution_count": 93,
      "outputs": [
        {
          "output_type": "execute_result",
          "data": {
            "text/plain": [
              "          AC_ID k_cat                                                nar  \\\n",
              "128598  4010179  [10]                                        guatala udc   \n",
              "128599  4199653   [0]  transaction fund transfer smart app regular fu...   \n",
              "128600  2389876   [3]                                       cash deposit   \n",
              "128601  4817300  [10]                                                      \n",
              "128602   789386  [10]                                                      \n",
              "\n",
              "                                                      tok  \\\n",
              "128598                                     [guatala, udc]   \n",
              "128599  [transaction, fund, transfer, smart, app, regu...   \n",
              "128600                                    [cash, deposit]   \n",
              "128601                                                 []   \n",
              "128602                                                 []   \n",
              "\n",
              "                                                  avg_vec  \n",
              "128598  [-0.020193786593154073, 0.1242935098707676, 0....  \n",
              "128599  [-0.09358644853769378, 0.11370717234570872, 0....  \n",
              "128600  [-0.05778633430600166, -0.03454362018965185, 0...  \n",
              "128601  [nan, nan, nan, nan, nan, nan, nan, nan, nan, ...  \n",
              "128602  [nan, nan, nan, nan, nan, nan, nan, nan, nan, ...  "
            ],
            "text/html": [
              "\n",
              "  <div id=\"df-968ed6e2-97fd-4bf0-a6a6-0926dd2e4bca\">\n",
              "    <div class=\"colab-df-container\">\n",
              "      <div>\n",
              "<style scoped>\n",
              "    .dataframe tbody tr th:only-of-type {\n",
              "        vertical-align: middle;\n",
              "    }\n",
              "\n",
              "    .dataframe tbody tr th {\n",
              "        vertical-align: top;\n",
              "    }\n",
              "\n",
              "    .dataframe thead th {\n",
              "        text-align: right;\n",
              "    }\n",
              "</style>\n",
              "<table border=\"1\" class=\"dataframe\">\n",
              "  <thead>\n",
              "    <tr style=\"text-align: right;\">\n",
              "      <th></th>\n",
              "      <th>AC_ID</th>\n",
              "      <th>k_cat</th>\n",
              "      <th>nar</th>\n",
              "      <th>tok</th>\n",
              "      <th>avg_vec</th>\n",
              "    </tr>\n",
              "  </thead>\n",
              "  <tbody>\n",
              "    <tr>\n",
              "      <th>128598</th>\n",
              "      <td>4010179</td>\n",
              "      <td>[10]</td>\n",
              "      <td>guatala udc</td>\n",
              "      <td>[guatala, udc]</td>\n",
              "      <td>[-0.020193786593154073, 0.1242935098707676, 0....</td>\n",
              "    </tr>\n",
              "    <tr>\n",
              "      <th>128599</th>\n",
              "      <td>4199653</td>\n",
              "      <td>[0]</td>\n",
              "      <td>transaction fund transfer smart app regular fu...</td>\n",
              "      <td>[transaction, fund, transfer, smart, app, regu...</td>\n",
              "      <td>[-0.09358644853769378, 0.11370717234570872, 0....</td>\n",
              "    </tr>\n",
              "    <tr>\n",
              "      <th>128600</th>\n",
              "      <td>2389876</td>\n",
              "      <td>[3]</td>\n",
              "      <td>cash deposit</td>\n",
              "      <td>[cash, deposit]</td>\n",
              "      <td>[-0.05778633430600166, -0.03454362018965185, 0...</td>\n",
              "    </tr>\n",
              "    <tr>\n",
              "      <th>128601</th>\n",
              "      <td>4817300</td>\n",
              "      <td>[10]</td>\n",
              "      <td></td>\n",
              "      <td>[]</td>\n",
              "      <td>[nan, nan, nan, nan, nan, nan, nan, nan, nan, ...</td>\n",
              "    </tr>\n",
              "    <tr>\n",
              "      <th>128602</th>\n",
              "      <td>789386</td>\n",
              "      <td>[10]</td>\n",
              "      <td></td>\n",
              "      <td>[]</td>\n",
              "      <td>[nan, nan, nan, nan, nan, nan, nan, nan, nan, ...</td>\n",
              "    </tr>\n",
              "  </tbody>\n",
              "</table>\n",
              "</div>\n",
              "      <button class=\"colab-df-convert\" onclick=\"convertToInteractive('df-968ed6e2-97fd-4bf0-a6a6-0926dd2e4bca')\"\n",
              "              title=\"Convert this dataframe to an interactive table.\"\n",
              "              style=\"display:none;\">\n",
              "        \n",
              "  <svg xmlns=\"http://www.w3.org/2000/svg\" height=\"24px\"viewBox=\"0 0 24 24\"\n",
              "       width=\"24px\">\n",
              "    <path d=\"M0 0h24v24H0V0z\" fill=\"none\"/>\n",
              "    <path d=\"M18.56 5.44l.94 2.06.94-2.06 2.06-.94-2.06-.94-.94-2.06-.94 2.06-2.06.94zm-11 1L8.5 8.5l.94-2.06 2.06-.94-2.06-.94L8.5 2.5l-.94 2.06-2.06.94zm10 10l.94 2.06.94-2.06 2.06-.94-2.06-.94-.94-2.06-.94 2.06-2.06.94z\"/><path d=\"M17.41 7.96l-1.37-1.37c-.4-.4-.92-.59-1.43-.59-.52 0-1.04.2-1.43.59L10.3 9.45l-7.72 7.72c-.78.78-.78 2.05 0 2.83L4 21.41c.39.39.9.59 1.41.59.51 0 1.02-.2 1.41-.59l7.78-7.78 2.81-2.81c.8-.78.8-2.07 0-2.86zM5.41 20L4 18.59l7.72-7.72 1.47 1.35L5.41 20z\"/>\n",
              "  </svg>\n",
              "      </button>\n",
              "      \n",
              "  <style>\n",
              "    .colab-df-container {\n",
              "      display:flex;\n",
              "      flex-wrap:wrap;\n",
              "      gap: 12px;\n",
              "    }\n",
              "\n",
              "    .colab-df-convert {\n",
              "      background-color: #E8F0FE;\n",
              "      border: none;\n",
              "      border-radius: 50%;\n",
              "      cursor: pointer;\n",
              "      display: none;\n",
              "      fill: #1967D2;\n",
              "      height: 32px;\n",
              "      padding: 0 0 0 0;\n",
              "      width: 32px;\n",
              "    }\n",
              "\n",
              "    .colab-df-convert:hover {\n",
              "      background-color: #E2EBFA;\n",
              "      box-shadow: 0px 1px 2px rgba(60, 64, 67, 0.3), 0px 1px 3px 1px rgba(60, 64, 67, 0.15);\n",
              "      fill: #174EA6;\n",
              "    }\n",
              "\n",
              "    [theme=dark] .colab-df-convert {\n",
              "      background-color: #3B4455;\n",
              "      fill: #D2E3FC;\n",
              "    }\n",
              "\n",
              "    [theme=dark] .colab-df-convert:hover {\n",
              "      background-color: #434B5C;\n",
              "      box-shadow: 0px 1px 3px 1px rgba(0, 0, 0, 0.15);\n",
              "      filter: drop-shadow(0px 1px 2px rgba(0, 0, 0, 0.3));\n",
              "      fill: #FFFFFF;\n",
              "    }\n",
              "  </style>\n",
              "\n",
              "      <script>\n",
              "        const buttonEl =\n",
              "          document.querySelector('#df-968ed6e2-97fd-4bf0-a6a6-0926dd2e4bca button.colab-df-convert');\n",
              "        buttonEl.style.display =\n",
              "          google.colab.kernel.accessAllowed ? 'block' : 'none';\n",
              "\n",
              "        async function convertToInteractive(key) {\n",
              "          const element = document.querySelector('#df-968ed6e2-97fd-4bf0-a6a6-0926dd2e4bca');\n",
              "          const dataTable =\n",
              "            await google.colab.kernel.invokeFunction('convertToInteractive',\n",
              "                                                     [key], {});\n",
              "          if (!dataTable) return;\n",
              "\n",
              "          const docLinkHtml = 'Like what you see? Visit the ' +\n",
              "            '<a target=\"_blank\" href=https://colab.research.google.com/notebooks/data_table.ipynb>data table notebook</a>'\n",
              "            + ' to learn more about interactive tables.';\n",
              "          element.innerHTML = '';\n",
              "          dataTable['output_type'] = 'display_data';\n",
              "          await google.colab.output.renderOutput(dataTable, element);\n",
              "          const docLink = document.createElement('div');\n",
              "          docLink.innerHTML = docLinkHtml;\n",
              "          element.appendChild(docLink);\n",
              "        }\n",
              "      </script>\n",
              "    </div>\n",
              "  </div>\n",
              "  "
            ]
          },
          "metadata": {},
          "execution_count": 93
        }
      ]
    },
    {
      "cell_type": "code",
      "source": [
        "data = data[~np.isnan(data['avg_vec'].map(lambda arr: np.any(np.isnan(arr))))]"
      ],
      "metadata": {
        "id": "ohv0hFVlI_JT"
      },
      "execution_count": 94,
      "outputs": []
    },
    {
      "cell_type": "code",
      "source": [
        "# data = data[~np.array([np.array_equal(arr, np.zeros(100)) for arr in data['avg_vec']])]"
      ],
      "metadata": {
        "id": "fBJ83lBxHEkh"
      },
      "execution_count": 87,
      "outputs": []
    },
    {
      "cell_type": "code",
      "source": [
        "data = data[data['avg_vec'].apply(lambda arr: np.all(pd.notna(arr)))] # for deleting bengali rows"
      ],
      "metadata": {
        "id": "n8i66B0YJmOC"
      },
      "execution_count": 19,
      "outputs": []
    },
    {
      "cell_type": "code",
      "source": [
        "sub_data=data[:10000]\n"
      ],
      "metadata": {
        "id": "8n7O38XYKMWw"
      },
      "execution_count": 30,
      "outputs": []
    },
    {
      "cell_type": "code",
      "source": [
        "sub_data"
      ],
      "metadata": {
        "colab": {
          "base_uri": "https://localhost:8080/",
          "height": 423
        },
        "id": "OLmTkLzqK9pt",
        "outputId": "d4493fa9-742b-4a97-c594-f3b210c1f39e"
      },
      "execution_count": 22,
      "outputs": [
        {
          "output_type": "execute_result",
          "data": {
            "text/plain": [
              "        AC_ID k_cat                                                nar  \\\n",
              "0     3644877  [10]                                      cash withdraw   \n",
              "1     1175256  [10]                                 cash withdrawal ac   \n",
              "2     2298226   [1]           cash withdraw micro merchant point mm ac   \n",
              "3     4066427   [2]           credit merchant cash withdraw service ac   \n",
              "4       38418   [3]                                    cash deposit ac   \n",
              "...       ...   ...                                                ...   \n",
              "999   5650263   [0]  smart app fund transfer dp installment purpose...   \n",
              "1000   738234  [10]                                   agent bipulashar   \n",
              "1001  5255179  [10]                             agent balance transfer   \n",
              "1002  3346328   [2]                jiku rikuswapnatandra nishita sumon   \n",
              "1003  4886070   [3]            cash deposit muhammad aminul islam amin   \n",
              "\n",
              "                                                    tok  \\\n",
              "0                                            [withdraw]   \n",
              "1                                          [withdrawal]   \n",
              "2                    [withdraw, micro, merchant, point]   \n",
              "3                         [merchant, withdraw, service]   \n",
              "4                                             [deposit]   \n",
              "...                                                 ...   \n",
              "999   [smart, app, fund, transfer, dp, installment, ...   \n",
              "1000                                [agent, bipulashar]   \n",
              "1001                         [agent, balance, transfer]   \n",
              "1002           [jiku, rikuswapnatandra, nishita, sumon]   \n",
              "1003           [deposit, muhammad, aminul, islam, amin]   \n",
              "\n",
              "                                                avg_vec  \n",
              "0     [-0.3215008080005646, 0.18247219920158386, 0.0...  \n",
              "1     [-0.14098483324050903, 0.0003409186319913715, ...  \n",
              "2     [-0.015055198222398758, 0.04443533648736775, 0...  \n",
              "3     [-0.0351947546005249, 0.03402328553299109, 0.1...  \n",
              "4     [-0.16920891404151917, 0.032779160887002945, -...  \n",
              "...                                                 ...  \n",
              "999   [0.029029711957264226, 0.049569783033803105, 0...  \n",
              "1000  [-0.179119773209095, 0.12092044577002525, 0.10...  \n",
              "1001  [-0.04401805500189463, 0.06879523334403832, 0....  \n",
              "1002  [-0.09180832747370005, 0.11843772744759917, 0....  \n",
              "1003  [-0.21045133769512175, 0.09533842727541923, -0...  \n",
              "\n",
              "[1000 rows x 5 columns]"
            ],
            "text/html": [
              "\n",
              "  <div id=\"df-6ba80b2d-d0cc-4c7e-bccb-db52d10eb879\">\n",
              "    <div class=\"colab-df-container\">\n",
              "      <div>\n",
              "<style scoped>\n",
              "    .dataframe tbody tr th:only-of-type {\n",
              "        vertical-align: middle;\n",
              "    }\n",
              "\n",
              "    .dataframe tbody tr th {\n",
              "        vertical-align: top;\n",
              "    }\n",
              "\n",
              "    .dataframe thead th {\n",
              "        text-align: right;\n",
              "    }\n",
              "</style>\n",
              "<table border=\"1\" class=\"dataframe\">\n",
              "  <thead>\n",
              "    <tr style=\"text-align: right;\">\n",
              "      <th></th>\n",
              "      <th>AC_ID</th>\n",
              "      <th>k_cat</th>\n",
              "      <th>nar</th>\n",
              "      <th>tok</th>\n",
              "      <th>avg_vec</th>\n",
              "    </tr>\n",
              "  </thead>\n",
              "  <tbody>\n",
              "    <tr>\n",
              "      <th>0</th>\n",
              "      <td>3644877</td>\n",
              "      <td>[10]</td>\n",
              "      <td>cash withdraw</td>\n",
              "      <td>[withdraw]</td>\n",
              "      <td>[-0.3215008080005646, 0.18247219920158386, 0.0...</td>\n",
              "    </tr>\n",
              "    <tr>\n",
              "      <th>1</th>\n",
              "      <td>1175256</td>\n",
              "      <td>[10]</td>\n",
              "      <td>cash withdrawal ac</td>\n",
              "      <td>[withdrawal]</td>\n",
              "      <td>[-0.14098483324050903, 0.0003409186319913715, ...</td>\n",
              "    </tr>\n",
              "    <tr>\n",
              "      <th>2</th>\n",
              "      <td>2298226</td>\n",
              "      <td>[1]</td>\n",
              "      <td>cash withdraw micro merchant point mm ac</td>\n",
              "      <td>[withdraw, micro, merchant, point]</td>\n",
              "      <td>[-0.015055198222398758, 0.04443533648736775, 0...</td>\n",
              "    </tr>\n",
              "    <tr>\n",
              "      <th>3</th>\n",
              "      <td>4066427</td>\n",
              "      <td>[2]</td>\n",
              "      <td>credit merchant cash withdraw service ac</td>\n",
              "      <td>[merchant, withdraw, service]</td>\n",
              "      <td>[-0.0351947546005249, 0.03402328553299109, 0.1...</td>\n",
              "    </tr>\n",
              "    <tr>\n",
              "      <th>4</th>\n",
              "      <td>38418</td>\n",
              "      <td>[3]</td>\n",
              "      <td>cash deposit ac</td>\n",
              "      <td>[deposit]</td>\n",
              "      <td>[-0.16920891404151917, 0.032779160887002945, -...</td>\n",
              "    </tr>\n",
              "    <tr>\n",
              "      <th>...</th>\n",
              "      <td>...</td>\n",
              "      <td>...</td>\n",
              "      <td>...</td>\n",
              "      <td>...</td>\n",
              "      <td>...</td>\n",
              "    </tr>\n",
              "    <tr>\n",
              "      <th>999</th>\n",
              "      <td>5650263</td>\n",
              "      <td>[0]</td>\n",
              "      <td>smart app fund transfer dp installment purpose...</td>\n",
              "      <td>[smart, app, fund, transfer, dp, installment, ...</td>\n",
              "      <td>[0.029029711957264226, 0.049569783033803105, 0...</td>\n",
              "    </tr>\n",
              "    <tr>\n",
              "      <th>1000</th>\n",
              "      <td>738234</td>\n",
              "      <td>[10]</td>\n",
              "      <td>agent bipulashar</td>\n",
              "      <td>[agent, bipulashar]</td>\n",
              "      <td>[-0.179119773209095, 0.12092044577002525, 0.10...</td>\n",
              "    </tr>\n",
              "    <tr>\n",
              "      <th>1001</th>\n",
              "      <td>5255179</td>\n",
              "      <td>[10]</td>\n",
              "      <td>agent balance transfer</td>\n",
              "      <td>[agent, balance, transfer]</td>\n",
              "      <td>[-0.04401805500189463, 0.06879523334403832, 0....</td>\n",
              "    </tr>\n",
              "    <tr>\n",
              "      <th>1002</th>\n",
              "      <td>3346328</td>\n",
              "      <td>[2]</td>\n",
              "      <td>jiku rikuswapnatandra nishita sumon</td>\n",
              "      <td>[jiku, rikuswapnatandra, nishita, sumon]</td>\n",
              "      <td>[-0.09180832747370005, 0.11843772744759917, 0....</td>\n",
              "    </tr>\n",
              "    <tr>\n",
              "      <th>1003</th>\n",
              "      <td>4886070</td>\n",
              "      <td>[3]</td>\n",
              "      <td>cash deposit muhammad aminul islam amin</td>\n",
              "      <td>[deposit, muhammad, aminul, islam, amin]</td>\n",
              "      <td>[-0.21045133769512175, 0.09533842727541923, -0...</td>\n",
              "    </tr>\n",
              "  </tbody>\n",
              "</table>\n",
              "<p>1000 rows × 5 columns</p>\n",
              "</div>\n",
              "      <button class=\"colab-df-convert\" onclick=\"convertToInteractive('df-6ba80b2d-d0cc-4c7e-bccb-db52d10eb879')\"\n",
              "              title=\"Convert this dataframe to an interactive table.\"\n",
              "              style=\"display:none;\">\n",
              "        \n",
              "  <svg xmlns=\"http://www.w3.org/2000/svg\" height=\"24px\"viewBox=\"0 0 24 24\"\n",
              "       width=\"24px\">\n",
              "    <path d=\"M0 0h24v24H0V0z\" fill=\"none\"/>\n",
              "    <path d=\"M18.56 5.44l.94 2.06.94-2.06 2.06-.94-2.06-.94-.94-2.06-.94 2.06-2.06.94zm-11 1L8.5 8.5l.94-2.06 2.06-.94-2.06-.94L8.5 2.5l-.94 2.06-2.06.94zm10 10l.94 2.06.94-2.06 2.06-.94-2.06-.94-.94-2.06-.94 2.06-2.06.94z\"/><path d=\"M17.41 7.96l-1.37-1.37c-.4-.4-.92-.59-1.43-.59-.52 0-1.04.2-1.43.59L10.3 9.45l-7.72 7.72c-.78.78-.78 2.05 0 2.83L4 21.41c.39.39.9.59 1.41.59.51 0 1.02-.2 1.41-.59l7.78-7.78 2.81-2.81c.8-.78.8-2.07 0-2.86zM5.41 20L4 18.59l7.72-7.72 1.47 1.35L5.41 20z\"/>\n",
              "  </svg>\n",
              "      </button>\n",
              "      \n",
              "  <style>\n",
              "    .colab-df-container {\n",
              "      display:flex;\n",
              "      flex-wrap:wrap;\n",
              "      gap: 12px;\n",
              "    }\n",
              "\n",
              "    .colab-df-convert {\n",
              "      background-color: #E8F0FE;\n",
              "      border: none;\n",
              "      border-radius: 50%;\n",
              "      cursor: pointer;\n",
              "      display: none;\n",
              "      fill: #1967D2;\n",
              "      height: 32px;\n",
              "      padding: 0 0 0 0;\n",
              "      width: 32px;\n",
              "    }\n",
              "\n",
              "    .colab-df-convert:hover {\n",
              "      background-color: #E2EBFA;\n",
              "      box-shadow: 0px 1px 2px rgba(60, 64, 67, 0.3), 0px 1px 3px 1px rgba(60, 64, 67, 0.15);\n",
              "      fill: #174EA6;\n",
              "    }\n",
              "\n",
              "    [theme=dark] .colab-df-convert {\n",
              "      background-color: #3B4455;\n",
              "      fill: #D2E3FC;\n",
              "    }\n",
              "\n",
              "    [theme=dark] .colab-df-convert:hover {\n",
              "      background-color: #434B5C;\n",
              "      box-shadow: 0px 1px 3px 1px rgba(0, 0, 0, 0.15);\n",
              "      filter: drop-shadow(0px 1px 2px rgba(0, 0, 0, 0.3));\n",
              "      fill: #FFFFFF;\n",
              "    }\n",
              "  </style>\n",
              "\n",
              "      <script>\n",
              "        const buttonEl =\n",
              "          document.querySelector('#df-6ba80b2d-d0cc-4c7e-bccb-db52d10eb879 button.colab-df-convert');\n",
              "        buttonEl.style.display =\n",
              "          google.colab.kernel.accessAllowed ? 'block' : 'none';\n",
              "\n",
              "        async function convertToInteractive(key) {\n",
              "          const element = document.querySelector('#df-6ba80b2d-d0cc-4c7e-bccb-db52d10eb879');\n",
              "          const dataTable =\n",
              "            await google.colab.kernel.invokeFunction('convertToInteractive',\n",
              "                                                     [key], {});\n",
              "          if (!dataTable) return;\n",
              "\n",
              "          const docLinkHtml = 'Like what you see? Visit the ' +\n",
              "            '<a target=\"_blank\" href=https://colab.research.google.com/notebooks/data_table.ipynb>data table notebook</a>'\n",
              "            + ' to learn more about interactive tables.';\n",
              "          element.innerHTML = '';\n",
              "          dataTable['output_type'] = 'display_data';\n",
              "          await google.colab.output.renderOutput(dataTable, element);\n",
              "          const docLink = document.createElement('div');\n",
              "          docLink.innerHTML = docLinkHtml;\n",
              "          element.appendChild(docLink);\n",
              "        }\n",
              "      </script>\n",
              "    </div>\n",
              "  </div>\n",
              "  "
            ]
          },
          "metadata": {},
          "execution_count": 22
        }
      ]
    },
    {
      "cell_type": "code",
      "source": [
        "avg_vec_list=sub_data['avg_vec'].tolist()\n",
        "# avg_vec_list[:2]\n",
        "type(avg_vec_list)"
      ],
      "metadata": {
        "colab": {
          "base_uri": "https://localhost:8080/"
        },
        "id": "5qqayJ1rxmpM",
        "outputId": "a7659727-a213-4d89-bed7-e2a366ae10b0"
      },
      "execution_count": 31,
      "outputs": [
        {
          "output_type": "execute_result",
          "data": {
            "text/plain": [
              "list"
            ]
          },
          "metadata": {},
          "execution_count": 31
        }
      ]
    },
    {
      "cell_type": "code",
      "source": [
        "len(avg_vec_list)"
      ],
      "metadata": {
        "colab": {
          "base_uri": "https://localhost:8080/"
        },
        "id": "eXZjTGD8IGyd",
        "outputId": "56984af0-918e-417b-d75e-0031405666da"
      },
      "execution_count": 24,
      "outputs": [
        {
          "output_type": "execute_result",
          "data": {
            "text/plain": [
              "1000"
            ]
          },
          "metadata": {},
          "execution_count": 24
        }
      ]
    },
    {
      "cell_type": "code",
      "source": [
        "avg_vec_list[128600:]"
      ],
      "metadata": {
        "colab": {
          "base_uri": "https://localhost:8080/"
        },
        "id": "pXUwdzkfIXZk",
        "outputId": "ab9d9efc-dfd4-4c9a-d722-7140cf3d2b05"
      },
      "execution_count": 101,
      "outputs": [
        {
          "output_type": "execute_result",
          "data": {
            "text/plain": [
              "[]"
            ]
          },
          "metadata": {},
          "execution_count": 101
        }
      ]
    },
    {
      "cell_type": "code",
      "source": [
        "from sklearn.cluster import DBSCAN\n",
        "dbscan = DBSCAN(eps=.25, min_samples=25).fit_predict(avg_vec_list)"
      ],
      "metadata": {
        "id": "fY_Rv-a5yLws"
      },
      "execution_count": 54,
      "outputs": []
    },
    {
      "cell_type": "code",
      "source": [
        "dbscan.shape"
      ],
      "metadata": {
        "colab": {
          "base_uri": "https://localhost:8080/"
        },
        "id": "e_AzIsRmLMGQ",
        "outputId": "0ea2e760-bfdf-4281-bf0c-2411e971d1ff"
      },
      "execution_count": 55,
      "outputs": [
        {
          "output_type": "execute_result",
          "data": {
            "text/plain": [
              "(10000,)"
            ]
          },
          "metadata": {},
          "execution_count": 55
        }
      ]
    },
    {
      "cell_type": "code",
      "source": [
        "np.unique(dbscan)"
      ],
      "metadata": {
        "colab": {
          "base_uri": "https://localhost:8080/"
        },
        "id": "mra1LgOfMwul",
        "outputId": "7ec9c937-b4d6-456e-b248-4a4900bb3c25"
      },
      "execution_count": 56,
      "outputs": [
        {
          "output_type": "execute_result",
          "data": {
            "text/plain": [
              "array([-1,  0,  1,  2,  3,  4,  5,  6,  7,  8,  9, 10, 11, 12, 13])"
            ]
          },
          "metadata": {},
          "execution_count": 56
        }
      ]
    },
    {
      "cell_type": "code",
      "source": [
        "sub_data['d_cat']=dbscan"
      ],
      "metadata": {
        "colab": {
          "base_uri": "https://localhost:8080/"
        },
        "id": "NhGQyK0DMMCB",
        "outputId": "efb8cd18-37f7-4ae8-c727-5a498f2b95c2"
      },
      "execution_count": 57,
      "outputs": [
        {
          "output_type": "stream",
          "name": "stderr",
          "text": [
            "<ipython-input-57-4f0b50fe52e8>:1: SettingWithCopyWarning: \n",
            "A value is trying to be set on a copy of a slice from a DataFrame.\n",
            "Try using .loc[row_indexer,col_indexer] = value instead\n",
            "\n",
            "See the caveats in the documentation: https://pandas.pydata.org/pandas-docs/stable/user_guide/indexing.html#returning-a-view-versus-a-copy\n",
            "  sub_data['d_cat']=dbscan\n"
          ]
        }
      ]
    },
    {
      "cell_type": "code",
      "source": [
        "sub_data"
      ],
      "metadata": {
        "colab": {
          "base_uri": "https://localhost:8080/",
          "height": 423
        },
        "id": "hAN-B8i0MhXx",
        "outputId": "3293e79c-fbe3-4af5-e0dd-a74f29ca625f"
      },
      "execution_count": 58,
      "outputs": [
        {
          "output_type": "execute_result",
          "data": {
            "text/plain": [
              "         AC_ID k_cat                                             nar  \\\n",
              "0      3644877  [10]                                   cash withdraw   \n",
              "1      1175256  [10]                              cash withdrawal ac   \n",
              "2      2298226   [1]        cash withdraw micro merchant point mm ac   \n",
              "3      4066427   [2]        credit merchant cash withdraw service ac   \n",
              "4        38418   [3]                                 cash deposit ac   \n",
              "...        ...   ...                                             ...   \n",
              "10057  4044420  [10]                                     bissho bahi   \n",
              "10058   720243   [3]                               cash deposit siam   \n",
              "10059    39678   [0]  smart app fund transfer family expense purpose   \n",
              "10060   172575   [2]                      withdraw md tajul islam ac   \n",
              "10061   250265   [0]    cap smart app regular fund transfer poritush   \n",
              "\n",
              "                                                     tok  \\\n",
              "0                                             [withdraw]   \n",
              "1                                           [withdrawal]   \n",
              "2                     [withdraw, micro, merchant, point]   \n",
              "3                          [merchant, withdraw, service]   \n",
              "4                                              [deposit]   \n",
              "...                                                  ...   \n",
              "10057                                     [bissho, bahi]   \n",
              "10058                                    [deposit, siam]   \n",
              "10059  [smart, app, fund, transfer, family, expense, ...   \n",
              "10060                       [withdraw, md, tajul, islam]   \n",
              "10061  [cap, smart, app, regular, fund, transfer, por...   \n",
              "\n",
              "                                                 avg_vec  d_cat  \n",
              "0      [-0.3215008080005646, 0.18247219920158386, 0.0...     -1  \n",
              "1      [-0.14098483324050903, 0.0003409186319913715, ...     -1  \n",
              "2      [-0.015055198222398758, 0.04443533648736775, 0...     -1  \n",
              "3      [-0.0351947546005249, 0.03402328553299109, 0.1...     -1  \n",
              "4      [-0.16920891404151917, 0.032779160887002945, -...      0  \n",
              "...                                                  ...    ...  \n",
              "10057  [-0.054924534633755684, 0.15501704812049866, 0...     -1  \n",
              "10058  [-0.15006566792726517, 0.11278467811644077, -0...      2  \n",
              "10059  [0.02817127254093066, 0.0507479440420866, 0.11...      4  \n",
              "10060  [-0.2634422034025192, 0.07664136774837971, 0.0...      2  \n",
              "10061  [-0.0226789293893879, 0.09213055244513921, 0.0...      4  \n",
              "\n",
              "[10000 rows x 6 columns]"
            ],
            "text/html": [
              "\n",
              "  <div id=\"df-7a955c6e-821e-4166-90d2-de92ab79d747\">\n",
              "    <div class=\"colab-df-container\">\n",
              "      <div>\n",
              "<style scoped>\n",
              "    .dataframe tbody tr th:only-of-type {\n",
              "        vertical-align: middle;\n",
              "    }\n",
              "\n",
              "    .dataframe tbody tr th {\n",
              "        vertical-align: top;\n",
              "    }\n",
              "\n",
              "    .dataframe thead th {\n",
              "        text-align: right;\n",
              "    }\n",
              "</style>\n",
              "<table border=\"1\" class=\"dataframe\">\n",
              "  <thead>\n",
              "    <tr style=\"text-align: right;\">\n",
              "      <th></th>\n",
              "      <th>AC_ID</th>\n",
              "      <th>k_cat</th>\n",
              "      <th>nar</th>\n",
              "      <th>tok</th>\n",
              "      <th>avg_vec</th>\n",
              "      <th>d_cat</th>\n",
              "    </tr>\n",
              "  </thead>\n",
              "  <tbody>\n",
              "    <tr>\n",
              "      <th>0</th>\n",
              "      <td>3644877</td>\n",
              "      <td>[10]</td>\n",
              "      <td>cash withdraw</td>\n",
              "      <td>[withdraw]</td>\n",
              "      <td>[-0.3215008080005646, 0.18247219920158386, 0.0...</td>\n",
              "      <td>-1</td>\n",
              "    </tr>\n",
              "    <tr>\n",
              "      <th>1</th>\n",
              "      <td>1175256</td>\n",
              "      <td>[10]</td>\n",
              "      <td>cash withdrawal ac</td>\n",
              "      <td>[withdrawal]</td>\n",
              "      <td>[-0.14098483324050903, 0.0003409186319913715, ...</td>\n",
              "      <td>-1</td>\n",
              "    </tr>\n",
              "    <tr>\n",
              "      <th>2</th>\n",
              "      <td>2298226</td>\n",
              "      <td>[1]</td>\n",
              "      <td>cash withdraw micro merchant point mm ac</td>\n",
              "      <td>[withdraw, micro, merchant, point]</td>\n",
              "      <td>[-0.015055198222398758, 0.04443533648736775, 0...</td>\n",
              "      <td>-1</td>\n",
              "    </tr>\n",
              "    <tr>\n",
              "      <th>3</th>\n",
              "      <td>4066427</td>\n",
              "      <td>[2]</td>\n",
              "      <td>credit merchant cash withdraw service ac</td>\n",
              "      <td>[merchant, withdraw, service]</td>\n",
              "      <td>[-0.0351947546005249, 0.03402328553299109, 0.1...</td>\n",
              "      <td>-1</td>\n",
              "    </tr>\n",
              "    <tr>\n",
              "      <th>4</th>\n",
              "      <td>38418</td>\n",
              "      <td>[3]</td>\n",
              "      <td>cash deposit ac</td>\n",
              "      <td>[deposit]</td>\n",
              "      <td>[-0.16920891404151917, 0.032779160887002945, -...</td>\n",
              "      <td>0</td>\n",
              "    </tr>\n",
              "    <tr>\n",
              "      <th>...</th>\n",
              "      <td>...</td>\n",
              "      <td>...</td>\n",
              "      <td>...</td>\n",
              "      <td>...</td>\n",
              "      <td>...</td>\n",
              "      <td>...</td>\n",
              "    </tr>\n",
              "    <tr>\n",
              "      <th>10057</th>\n",
              "      <td>4044420</td>\n",
              "      <td>[10]</td>\n",
              "      <td>bissho bahi</td>\n",
              "      <td>[bissho, bahi]</td>\n",
              "      <td>[-0.054924534633755684, 0.15501704812049866, 0...</td>\n",
              "      <td>-1</td>\n",
              "    </tr>\n",
              "    <tr>\n",
              "      <th>10058</th>\n",
              "      <td>720243</td>\n",
              "      <td>[3]</td>\n",
              "      <td>cash deposit siam</td>\n",
              "      <td>[deposit, siam]</td>\n",
              "      <td>[-0.15006566792726517, 0.11278467811644077, -0...</td>\n",
              "      <td>2</td>\n",
              "    </tr>\n",
              "    <tr>\n",
              "      <th>10059</th>\n",
              "      <td>39678</td>\n",
              "      <td>[0]</td>\n",
              "      <td>smart app fund transfer family expense purpose</td>\n",
              "      <td>[smart, app, fund, transfer, family, expense, ...</td>\n",
              "      <td>[0.02817127254093066, 0.0507479440420866, 0.11...</td>\n",
              "      <td>4</td>\n",
              "    </tr>\n",
              "    <tr>\n",
              "      <th>10060</th>\n",
              "      <td>172575</td>\n",
              "      <td>[2]</td>\n",
              "      <td>withdraw md tajul islam ac</td>\n",
              "      <td>[withdraw, md, tajul, islam]</td>\n",
              "      <td>[-0.2634422034025192, 0.07664136774837971, 0.0...</td>\n",
              "      <td>2</td>\n",
              "    </tr>\n",
              "    <tr>\n",
              "      <th>10061</th>\n",
              "      <td>250265</td>\n",
              "      <td>[0]</td>\n",
              "      <td>cap smart app regular fund transfer poritush</td>\n",
              "      <td>[cap, smart, app, regular, fund, transfer, por...</td>\n",
              "      <td>[-0.0226789293893879, 0.09213055244513921, 0.0...</td>\n",
              "      <td>4</td>\n",
              "    </tr>\n",
              "  </tbody>\n",
              "</table>\n",
              "<p>10000 rows × 6 columns</p>\n",
              "</div>\n",
              "      <button class=\"colab-df-convert\" onclick=\"convertToInteractive('df-7a955c6e-821e-4166-90d2-de92ab79d747')\"\n",
              "              title=\"Convert this dataframe to an interactive table.\"\n",
              "              style=\"display:none;\">\n",
              "        \n",
              "  <svg xmlns=\"http://www.w3.org/2000/svg\" height=\"24px\"viewBox=\"0 0 24 24\"\n",
              "       width=\"24px\">\n",
              "    <path d=\"M0 0h24v24H0V0z\" fill=\"none\"/>\n",
              "    <path d=\"M18.56 5.44l.94 2.06.94-2.06 2.06-.94-2.06-.94-.94-2.06-.94 2.06-2.06.94zm-11 1L8.5 8.5l.94-2.06 2.06-.94-2.06-.94L8.5 2.5l-.94 2.06-2.06.94zm10 10l.94 2.06.94-2.06 2.06-.94-2.06-.94-.94-2.06-.94 2.06-2.06.94z\"/><path d=\"M17.41 7.96l-1.37-1.37c-.4-.4-.92-.59-1.43-.59-.52 0-1.04.2-1.43.59L10.3 9.45l-7.72 7.72c-.78.78-.78 2.05 0 2.83L4 21.41c.39.39.9.59 1.41.59.51 0 1.02-.2 1.41-.59l7.78-7.78 2.81-2.81c.8-.78.8-2.07 0-2.86zM5.41 20L4 18.59l7.72-7.72 1.47 1.35L5.41 20z\"/>\n",
              "  </svg>\n",
              "      </button>\n",
              "      \n",
              "  <style>\n",
              "    .colab-df-container {\n",
              "      display:flex;\n",
              "      flex-wrap:wrap;\n",
              "      gap: 12px;\n",
              "    }\n",
              "\n",
              "    .colab-df-convert {\n",
              "      background-color: #E8F0FE;\n",
              "      border: none;\n",
              "      border-radius: 50%;\n",
              "      cursor: pointer;\n",
              "      display: none;\n",
              "      fill: #1967D2;\n",
              "      height: 32px;\n",
              "      padding: 0 0 0 0;\n",
              "      width: 32px;\n",
              "    }\n",
              "\n",
              "    .colab-df-convert:hover {\n",
              "      background-color: #E2EBFA;\n",
              "      box-shadow: 0px 1px 2px rgba(60, 64, 67, 0.3), 0px 1px 3px 1px rgba(60, 64, 67, 0.15);\n",
              "      fill: #174EA6;\n",
              "    }\n",
              "\n",
              "    [theme=dark] .colab-df-convert {\n",
              "      background-color: #3B4455;\n",
              "      fill: #D2E3FC;\n",
              "    }\n",
              "\n",
              "    [theme=dark] .colab-df-convert:hover {\n",
              "      background-color: #434B5C;\n",
              "      box-shadow: 0px 1px 3px 1px rgba(0, 0, 0, 0.15);\n",
              "      filter: drop-shadow(0px 1px 2px rgba(0, 0, 0, 0.3));\n",
              "      fill: #FFFFFF;\n",
              "    }\n",
              "  </style>\n",
              "\n",
              "      <script>\n",
              "        const buttonEl =\n",
              "          document.querySelector('#df-7a955c6e-821e-4166-90d2-de92ab79d747 button.colab-df-convert');\n",
              "        buttonEl.style.display =\n",
              "          google.colab.kernel.accessAllowed ? 'block' : 'none';\n",
              "\n",
              "        async function convertToInteractive(key) {\n",
              "          const element = document.querySelector('#df-7a955c6e-821e-4166-90d2-de92ab79d747');\n",
              "          const dataTable =\n",
              "            await google.colab.kernel.invokeFunction('convertToInteractive',\n",
              "                                                     [key], {});\n",
              "          if (!dataTable) return;\n",
              "\n",
              "          const docLinkHtml = 'Like what you see? Visit the ' +\n",
              "            '<a target=\"_blank\" href=https://colab.research.google.com/notebooks/data_table.ipynb>data table notebook</a>'\n",
              "            + ' to learn more about interactive tables.';\n",
              "          element.innerHTML = '';\n",
              "          dataTable['output_type'] = 'display_data';\n",
              "          await google.colab.output.renderOutput(dataTable, element);\n",
              "          const docLink = document.createElement('div');\n",
              "          docLink.innerHTML = docLinkHtml;\n",
              "          element.appendChild(docLink);\n",
              "        }\n",
              "      </script>\n",
              "    </div>\n",
              "  </div>\n",
              "  "
            ]
          },
          "metadata": {},
          "execution_count": 58
        }
      ]
    },
    {
      "cell_type": "code",
      "source": [
        "def ds_pred(vec):\n",
        "#     p = kmeans.predict(vec.reshape(1,-1))\n",
        "      # print(type(vec))\n",
        "      p=dbscan.fit_predict(vec.reshape(1,-1))\n",
        "      return p"
      ],
      "metadata": {
        "id": "RUyVUNXPzJH2"
      },
      "execution_count": 36,
      "outputs": []
    },
    {
      "cell_type": "code",
      "source": [
        "print(ds_pred(sub_data['avg_vec'][3]))"
      ],
      "metadata": {
        "colab": {
          "base_uri": "https://localhost:8080/",
          "height": 269
        },
        "id": "7L9-agIMzMgt",
        "outputId": "7d07f45e-338c-4765-87b7-fc0078795100"
      },
      "execution_count": 37,
      "outputs": [
        {
          "output_type": "error",
          "ename": "AttributeError",
          "evalue": "ignored",
          "traceback": [
            "\u001b[0;31m---------------------------------------------------------------------------\u001b[0m",
            "\u001b[0;31mAttributeError\u001b[0m                            Traceback (most recent call last)",
            "\u001b[0;32m<ipython-input-37-27b7fdf073a0>\u001b[0m in \u001b[0;36m<cell line: 1>\u001b[0;34m()\u001b[0m\n\u001b[0;32m----> 1\u001b[0;31m \u001b[0mprint\u001b[0m\u001b[0;34m(\u001b[0m\u001b[0mds_pred\u001b[0m\u001b[0;34m(\u001b[0m\u001b[0msub_data\u001b[0m\u001b[0;34m[\u001b[0m\u001b[0;34m'avg_vec'\u001b[0m\u001b[0;34m]\u001b[0m\u001b[0;34m[\u001b[0m\u001b[0;36m3\u001b[0m\u001b[0;34m]\u001b[0m\u001b[0;34m)\u001b[0m\u001b[0;34m)\u001b[0m\u001b[0;34m\u001b[0m\u001b[0;34m\u001b[0m\u001b[0m\n\u001b[0m",
            "\u001b[0;32m<ipython-input-36-8c7babcdefc6>\u001b[0m in \u001b[0;36mds_pred\u001b[0;34m(vec)\u001b[0m\n\u001b[1;32m      2\u001b[0m \u001b[0;31m#     p = kmeans.predict(vec.reshape(1,-1))\u001b[0m\u001b[0;34m\u001b[0m\u001b[0;34m\u001b[0m\u001b[0m\n\u001b[1;32m      3\u001b[0m       \u001b[0;31m# print(type(vec))\u001b[0m\u001b[0;34m\u001b[0m\u001b[0;34m\u001b[0m\u001b[0m\n\u001b[0;32m----> 4\u001b[0;31m       \u001b[0mp\u001b[0m\u001b[0;34m=\u001b[0m\u001b[0mdbscan\u001b[0m\u001b[0;34m.\u001b[0m\u001b[0mfit_predict\u001b[0m\u001b[0;34m(\u001b[0m\u001b[0mvec\u001b[0m\u001b[0;34m.\u001b[0m\u001b[0mreshape\u001b[0m\u001b[0;34m(\u001b[0m\u001b[0;36m1\u001b[0m\u001b[0;34m,\u001b[0m\u001b[0;34m-\u001b[0m\u001b[0;36m1\u001b[0m\u001b[0;34m)\u001b[0m\u001b[0;34m)\u001b[0m\u001b[0;34m\u001b[0m\u001b[0;34m\u001b[0m\u001b[0m\n\u001b[0m\u001b[1;32m      5\u001b[0m       \u001b[0;32mreturn\u001b[0m \u001b[0mp\u001b[0m\u001b[0;34m\u001b[0m\u001b[0;34m\u001b[0m\u001b[0m\n",
            "\u001b[0;31mAttributeError\u001b[0m: 'numpy.ndarray' object has no attribute 'fit_predict'"
          ]
        }
      ]
    }
  ]
}